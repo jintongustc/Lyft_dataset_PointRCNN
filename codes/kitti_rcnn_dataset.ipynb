{
 "cells": [
  {
   "cell_type": "code",
   "execution_count": 1,
   "metadata": {},
   "outputs": [],
   "source": [
    "import _init_path\n",
    "import numpy as np\n",
    "import os\n",
    "import pickle\n",
    "import torch\n",
    "\n",
    "from lib.datasets.kitti_dataset import KittiDataset\n",
    "import lib.utils.kitti_utils as kitti_utils\n",
    "import lib.utils.roipool3d.roipool3d_utils as roipool3d_utils\n",
    "from lib.config import cfg"
   ]
  },
  {
   "cell_type": "code",
   "execution_count": 4,
   "metadata": {},
   "outputs": [],
   "source": [
    "root_dir = '../data' \n",
    "npoints=16384 \n",
    "split='train'\n",
    "classes='Car'\n",
    "mode='TRAIN'\n",
    "random_select=True\n",
    "logger=None\n",
    "rcnn_training_roi_dir=None\n",
    "rcnn_training_feature_dir=None\n",
    "rcnn_eval_roi_dir=None\n",
    "rcnn_eval_feature_dir=None\n",
    "gt_database_dir='gt_database/train_gt_database_3level_Car.pkl'"
   ]
  },
  {
   "cell_type": "code",
   "execution_count": null,
   "metadata": {},
   "outputs": [],
   "source": []
  },
  {
   "cell_type": "markdown",
   "metadata": {},
   "source": [
    "## Call KittiRCNNDataset"
   ]
  },
  {
   "cell_type": "code",
   "execution_count": 24,
   "metadata": {},
   "outputs": [
    {
     "ename": "AttributeError",
     "evalue": "'NoneType' object has no attribute 'info'",
     "output_type": "error",
     "traceback": [
      "\u001b[0;31m---------------------------------------------------------------------------\u001b[0m",
      "\u001b[0;31mAttributeError\u001b[0m                            Traceback (most recent call last)",
      "\u001b[0;32m<ipython-input-24-80804e02ec99>\u001b[0m in \u001b[0;36m<module>\u001b[0;34m\u001b[0m\n\u001b[1;32m      7\u001b[0m                              \u001b[0mrcnn_training_roi_dir\u001b[0m\u001b[0;34m=\u001b[0m\u001b[0mrcnn_training_roi_dir\u001b[0m\u001b[0;34m,\u001b[0m\u001b[0;34m\u001b[0m\u001b[0;34m\u001b[0m\u001b[0m\n\u001b[1;32m      8\u001b[0m                              \u001b[0mrcnn_training_feature_dir\u001b[0m\u001b[0;34m=\u001b[0m\u001b[0mrcnn_training_feature_dir\u001b[0m\u001b[0;34m,\u001b[0m\u001b[0;34m\u001b[0m\u001b[0;34m\u001b[0m\u001b[0m\n\u001b[0;32m----> 9\u001b[0;31m                              gt_database_dir=gt_database_dir)\n\u001b[0m",
      "\u001b[0;32m~/Downloads/PointRCNN/tools/../lib/datasets/kitti_rcnn_dataset.py\u001b[0m in \u001b[0;36m__init__\u001b[0;34m(self, root_dir, npoints, split, classes, mode, random_select, logger, rcnn_training_roi_dir, rcnn_training_feature_dir, rcnn_eval_roi_dir, rcnn_eval_feature_dir, gt_database_dir)\u001b[0m\n\u001b[1;32m     75\u001b[0m                             \u001b[0mhard_list\u001b[0m\u001b[0;34m.\u001b[0m\u001b[0mappend\u001b[0m\u001b[0;34m(\u001b[0m\u001b[0mobj\u001b[0m\u001b[0;34m)\u001b[0m\u001b[0;34m\u001b[0m\u001b[0;34m\u001b[0m\u001b[0m\n\u001b[1;32m     76\u001b[0m                     \u001b[0mself\u001b[0m\u001b[0;34m.\u001b[0m\u001b[0mgt_database\u001b[0m \u001b[0;34m=\u001b[0m \u001b[0;34m[\u001b[0m\u001b[0measy_list\u001b[0m\u001b[0;34m,\u001b[0m \u001b[0mhard_list\u001b[0m\u001b[0;34m]\u001b[0m\u001b[0;34m\u001b[0m\u001b[0;34m\u001b[0m\u001b[0m\n\u001b[0;32m---> 77\u001b[0;31m                     logger.info('Loading gt_database(easy(pt_num>100): %d, hard(pt_num<=100): %d) from %s'\n\u001b[0m\u001b[1;32m     78\u001b[0m                                 % (len(easy_list), len(hard_list), gt_database_dir))\n\u001b[1;32m     79\u001b[0m                 \u001b[0;32melse\u001b[0m\u001b[0;34m:\u001b[0m\u001b[0;34m\u001b[0m\u001b[0;34m\u001b[0m\u001b[0m\n",
      "\u001b[0;31mAttributeError\u001b[0m: 'NoneType' object has no attribute 'info'"
     ]
    }
   ],
   "source": [
    "from lib.datasets.kitti_rcnn_dataset import KittiRCNNDataset\n",
    "# create dataloader\n",
    "DATA_PATH = os.path.join('../', 'data')\n",
    "train_set = KittiRCNNDataset(root_dir=DATA_PATH, npoints=cfg.RPN.NUM_POINTS, split=cfg.TRAIN.SPLIT, mode='TRAIN',\n",
    "                             logger=logger,\n",
    "                             classes=cfg.CLASSES,\n",
    "                             rcnn_training_roi_dir=rcnn_training_roi_dir,\n",
    "                             rcnn_training_feature_dir=rcnn_training_feature_dir,\n",
    "                             gt_database_dir=gt_database_dir)"
   ]
  },
  {
   "cell_type": "markdown",
   "metadata": {},
   "source": [
    "## inside KittiRCNNDataset"
   ]
  },
  {
   "cell_type": "code",
   "execution_count": 5,
   "metadata": {},
   "outputs": [],
   "source": [
    "gt_database = pickle.load(open(gt_database_dir, 'rb'))"
   ]
  },
  {
   "cell_type": "code",
   "execution_count": 15,
   "metadata": {},
   "outputs": [],
   "source": [
    "if cfg.GT_AUG_HARD_RATIO > 0:\n",
    "    easy_list, hard_list = [], []\n",
    "    for k in range(gt_database.__len__()):\n",
    "        obj = gt_database[k]\n",
    "        if obj['points'].shape[0] > 100:\n",
    "            easy_list.append(obj)\n",
    "        else:\n",
    "            hard_list.append(obj)\n",
    "    selfgt_database = [easy_list, hard_list]"
   ]
  },
  {
   "cell_type": "code",
   "execution_count": 20,
   "metadata": {},
   "outputs": [
    {
     "name": "stdout",
     "output_type": "stream",
     "text": [
      "{'sample_id': 3, 'cls_type': 'Car', 'gt_box3d': array([ 1.  ,  1.75, 13.22,  1.57,  1.73,  4.15,  1.62], dtype=float32), 'points': array([[ 1.5114664 ,  0.24230465, 14.402996  ],\n",
      "       [ 1.4785312 ,  0.24705318, 14.5369625 ],\n",
      "       [ 1.3873014 ,  0.23119879, 14.076123  ],\n",
      "       ...,\n",
      "       [ 0.13784468,  1.7336415 , 11.978602  ],\n",
      "       [ 0.09985808,  1.7350742 , 11.981597  ],\n",
      "       [ 1.7559727 ,  1.746392  , 11.198048  ]], dtype=float32), 'intensity': array([0.57, 0.39, 0.22, 0.26, 0.25, 0.25, 0.24, 0.24, 0.1 , 0.16, 0.1 ,\n",
      "       0.16, 0.16, 0.16, 0.16, 0.16, 0.16, 0.17, 0.16, 0.1 , 0.  , 0.  ,\n",
      "       0.  , 0.12, 0.  , 0.  , 0.  , 0.  , 0.  , 0.  , 0.  , 0.  , 0.  ,\n",
      "       0.  , 0.  , 0.  , 0.  , 0.  , 0.  , 0.  , 0.  , 0.  , 0.  , 0.  ,\n",
      "       0.  , 0.  , 0.  , 0.  , 0.  , 0.  , 0.  , 0.  , 0.  , 0.  , 0.07,\n",
      "       0.  , 0.  , 0.07, 0.22, 0.25, 0.26, 0.11, 0.16, 0.12, 0.16, 0.27,\n",
      "       0.11, 0.  , 0.  , 0.  , 0.  , 0.  , 0.  , 0.  , 0.  , 0.  , 0.  ,\n",
      "       0.  , 0.14, 0.11, 0.  , 0.  , 0.  , 0.  , 0.  , 0.  , 0.09, 0.18,\n",
      "       0.26, 0.  , 0.  , 0.  , 0.  , 0.  , 0.  , 0.  , 0.  , 0.  , 0.  ,\n",
      "       0.  , 0.  , 0.  , 0.  , 0.  , 0.  , 0.  , 0.  , 0.  , 0.  , 0.  ,\n",
      "       0.  , 0.  , 0.  , 0.  , 0.  , 0.  , 0.  , 0.  , 0.  , 0.  , 0.  ,\n",
      "       0.  , 0.  , 0.  , 0.  , 0.  , 0.  , 0.  , 0.  , 0.  , 0.  , 0.  ,\n",
      "       0.  , 0.  , 0.  , 0.  , 0.  , 0.  , 0.  , 0.  , 0.  , 0.  , 0.  ,\n",
      "       0.  , 0.  , 0.16, 0.  , 0.  , 0.  , 0.  , 0.  , 0.  , 0.  , 0.  ,\n",
      "       0.  , 0.  , 0.  , 0.  , 0.  , 0.  , 0.  , 0.  , 0.  , 0.  , 0.  ,\n",
      "       0.  , 0.  , 0.  , 0.13, 0.26, 0.27, 0.26, 0.32, 0.23, 0.36, 0.22,\n",
      "       0.34, 0.18, 0.38, 0.19, 0.37, 0.23, 0.18, 0.16, 0.  , 0.  , 0.  ,\n",
      "       0.  , 0.  , 0.  , 0.  , 0.  , 0.  , 0.  , 0.  , 0.  , 0.  , 0.  ,\n",
      "       0.  , 0.  , 0.  , 0.  , 0.  , 0.  , 0.  , 0.  , 0.  , 0.  , 0.  ,\n",
      "       0.  , 0.  , 0.  , 0.  , 0.  , 0.  , 0.  , 0.  , 0.  , 0.  , 0.  ,\n",
      "       0.  , 0.  , 0.  , 0.  , 0.  , 0.  , 0.  , 0.  , 0.  , 0.  , 0.  ,\n",
      "       0.  , 0.  , 0.  , 0.  , 0.  , 0.  , 0.  , 0.  , 0.  , 0.  , 0.  ,\n",
      "       0.  , 0.  , 0.  , 0.  , 0.  , 0.  , 0.  , 0.  , 0.  , 0.  , 0.  ,\n",
      "       0.  , 0.  , 0.  , 0.  , 0.  , 0.  , 0.  , 0.  , 0.  , 0.  , 0.  ,\n",
      "       0.  , 0.  , 0.  , 0.  , 0.  , 0.  , 0.  , 0.  , 0.  , 0.  , 0.  ,\n",
      "       0.  , 0.  , 0.  , 0.  , 0.  , 0.03, 0.17, 0.19, 0.7 , 0.6 , 0.34,\n",
      "       0.  , 0.  , 0.  , 0.  , 0.  , 0.  , 0.  , 0.  , 0.  , 0.  , 0.  ,\n",
      "       0.  , 0.  , 0.  , 0.  , 0.  , 0.  , 0.  , 0.  , 0.  , 0.  , 0.  ,\n",
      "       0.  , 0.  , 0.  , 0.  , 0.  , 0.  , 0.  , 0.  , 0.  , 0.  , 0.  ,\n",
      "       0.07, 0.  , 0.  , 0.  , 0.  , 0.  , 0.88, 0.99, 0.82, 0.18, 0.84,\n",
      "       0.85, 0.7 , 0.  , 0.  , 0.  , 0.  , 0.  , 0.  , 0.  , 0.  , 0.  ,\n",
      "       0.12, 0.09, 0.  , 0.  , 0.11, 0.  , 0.08, 0.11, 0.39, 0.11, 0.08,\n",
      "       0.  , 0.  , 0.  , 0.  , 0.  , 0.15, 0.27, 0.2 , 0.69, 0.66, 0.17,\n",
      "       0.3 , 0.77, 0.99, 0.74, 0.  , 0.  , 0.  , 0.  , 0.  , 0.  , 0.  ,\n",
      "       0.  , 0.  , 0.  , 0.  , 0.  , 0.  , 0.  , 0.  , 0.  , 0.  , 0.  ,\n",
      "       0.  , 0.  , 0.  , 0.  , 0.  , 0.  , 0.  , 0.  , 0.  , 0.  , 0.  ,\n",
      "       0.  , 0.  , 0.  , 0.  , 0.  , 0.  , 0.  , 0.  , 0.1 , 0.15, 0.33,\n",
      "       0.19, 0.34, 0.  , 0.  , 0.  , 0.  , 0.  , 0.  , 0.  , 0.07, 0.09,\n",
      "       0.16, 0.3 , 0.19, 0.36, 0.18, 0.36, 0.22, 0.35, 0.22, 0.19, 0.39,\n",
      "       0.25, 0.26, 0.25, 0.27, 0.27, 0.2 , 0.42, 0.25, 0.19, 0.39, 0.23,\n",
      "       0.2 , 0.37, 0.22, 0.25, 0.  , 0.  , 0.  , 0.  , 0.  , 0.  , 0.  ,\n",
      "       0.  , 0.  , 0.  , 0.  , 0.  , 0.  , 0.  , 0.  , 0.  , 0.07, 0.14,\n",
      "       0.29, 0.21, 0.25, 0.28, 0.28, 0.32, 0.4 , 0.25, 0.99, 0.99, 0.99,\n",
      "       0.99, 0.99, 0.99, 0.99, 0.99, 0.99, 0.99, 0.96, 0.93, 0.87, 0.86,\n",
      "       0.86, 0.67, 0.57, 0.46, 0.47, 0.43, 0.45, 0.45, 0.26, 0.46, 0.22,\n",
      "       0.  , 0.  , 0.  , 0.  , 0.  , 0.  , 0.  , 0.  , 0.06, 0.08, 0.14,\n",
      "       0.31, 0.21, 0.26, 0.29, 0.28, 0.31, 0.37, 0.24, 0.99, 0.99, 0.99,\n",
      "       0.99, 0.99, 0.99, 0.99, 0.99, 0.99, 0.99, 0.99, 0.99, 0.99, 0.99,\n",
      "       0.99, 0.99, 0.48, 0.42, 0.44, 0.36, 0.41, 0.37, 0.32, 0.23, 0.36,\n",
      "       0.  , 0.  , 0.  , 0.  , 0.  , 0.07, 0.  , 0.03, 0.68, 0.  , 0.  ,\n",
      "       0.  , 0.  , 0.  , 0.  , 0.  , 0.  , 0.  , 0.  , 0.07, 0.09, 0.14,\n",
      "       0.17, 0.16, 0.32, 0.18, 0.36, 0.25, 0.25, 0.26, 0.25, 0.3 , 0.29,\n",
      "       0.3 , 0.23, 0.23, 0.19, 0.12, 0.15, 0.  , 0.  , 0.  , 0.  , 0.  ,\n",
      "       0.  , 0.11, 0.25, 0.11, 0.  , 0.  , 0.  , 0.  , 0.  , 0.  , 0.  ,\n",
      "       0.  , 0.  , 0.07, 0.09, 0.14, 0.1 , 0.14, 0.1 , 0.16, 0.09, 0.14,\n",
      "       0.16, 0.22, 0.1 , 0.15, 0.09, 0.  , 0.11, 0.  , 0.  , 0.  , 0.  ,\n",
      "       0.  , 0.  , 0.  , 0.  , 0.  , 0.19, 0.  , 0.  , 0.  , 0.  , 0.  ,\n",
      "       0.  , 0.  , 0.  , 0.  , 0.  , 0.  , 0.  , 0.  , 0.  , 0.  , 0.  ,\n",
      "       0.  , 0.  , 0.  , 0.  , 0.  , 0.  , 0.  , 0.  , 0.  , 0.  , 0.  ,\n",
      "       0.  , 0.13, 0.22, 0.27, 0.  , 0.  , 0.  , 0.  , 0.  , 0.  , 0.  ,\n",
      "       0.  , 0.  , 0.  , 0.  , 0.  , 0.  , 0.08, 0.15, 0.19, 0.12, 0.16,\n",
      "       0.12, 0.17, 0.28, 0.28, 0.18, 0.16, 0.16, 0.  , 0.29],\n",
      "      dtype=float32), 'obj': <lib.utils.object3d.Object3d object at 0x7fdcdfb59c50>}\n"
     ]
    }
   ],
   "source": [
    "print(selfgt_database[0][0])"
   ]
  }
 ],
 "metadata": {
  "kernelspec": {
   "display_name": "Python 3",
   "language": "python",
   "name": "python3"
  },
  "language_info": {
   "codemirror_mode": {
    "name": "ipython",
    "version": 3
   },
   "file_extension": ".py",
   "mimetype": "text/x-python",
   "name": "python",
   "nbconvert_exporter": "python",
   "pygments_lexer": "ipython3",
   "version": "3.7.5"
  },
  "toc": {
   "base_numbering": 1,
   "nav_menu": {},
   "number_sections": false,
   "sideBar": true,
   "skip_h1_title": true,
   "title_cell": "Table of Contents",
   "title_sidebar": "Contents",
   "toc_cell": false,
   "toc_position": {},
   "toc_section_display": true,
   "toc_window_display": true
  }
 },
 "nbformat": 4,
 "nbformat_minor": 2
}
