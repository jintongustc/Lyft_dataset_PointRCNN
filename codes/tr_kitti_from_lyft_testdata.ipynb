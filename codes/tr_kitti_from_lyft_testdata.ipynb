{
 "cells": [
  {
   "cell_type": "code",
   "execution_count": 1,
   "metadata": {},
   "outputs": [
    {
     "data": {
      "text/html": [
       "        <script type=\"text/javascript\">\n",
       "        window.PlotlyConfig = {MathJaxConfig: 'local'};\n",
       "        if (window.MathJax) {MathJax.Hub.Config({SVG: {font: \"STIX-Web\"}});}\n",
       "        if (typeof require !== 'undefined') {\n",
       "        require.undef(\"plotly\");\n",
       "        requirejs.config({\n",
       "            paths: {\n",
       "                'plotly': ['https://cdn.plot.ly/plotly-latest.min']\n",
       "            }\n",
       "        });\n",
       "        require(['plotly'], function(Plotly) {\n",
       "            window._Plotly = Plotly;\n",
       "        });\n",
       "        }\n",
       "        </script>\n",
       "        "
      ]
     },
     "metadata": {},
     "output_type": "display_data"
    }
   ],
   "source": [
    "import numpy as np\n",
    "import pandas as pd\n",
    "import os\n",
    "import gc\n",
    "\n",
    "\n",
    "import json\n",
    "import math \n",
    "import sys\n",
    "from datetime import datetime\n",
    "import time\n",
    "from typing import Tuple,List\n",
    "\n",
    "import matplotlib.pyplot as plt\n",
    "%matplotlib inline\n",
    "import cv2\n",
    "import sklearn.metrics\n",
    "from PIL import Image\n",
    "\n",
    "from matplotlib.axes import Axes\n",
    "from matplotlib import animation, rc\n",
    "import plotly.graph_objs as go\n",
    "import plotly.tools as ts\n",
    "from plotly.offline import plot, init_notebook_mode\n",
    "import plotly.figure_factory as ft\n",
    "init_notebook_mode(connected=True)\n",
    "from pyquaternion import Quaternion\n",
    "import seaborn as sns\n",
    "import warnings\n",
    "\n",
    "from lyft_dataset_sdk.utils.map_mask import MapMask\n",
    "from lyft_dataset_sdk.lyftdataset import LyftDataset\n",
    "from lyft_dataset_sdk.utils.geometry_utils import view_points, box_in_image, BoxVisibility\n",
    "from lyft_dataset_sdk.utils.geometry_utils import view_points, transform_matrix\n",
    "from pathlib import Path\n",
    "\n",
    "from lyft_dataset_sdk.lyftdataset import LyftDataset,LyftDatasetExplorer\n",
    "from lyft_dataset_sdk.utils.data_classes import LidarPointCloud, Box, Quaternion\n",
    "from lyft_dataset_sdk.utils.geometry_utils import view_points, transform_matrix\n",
    "import time\n",
    "from lyft_dataset_sdk.utils.map_mask import MapMask\n",
    "\n",
    "import struct\n",
    "from abc import ABC, abstractmethod\n",
    "from functools import reduce\n",
    "from typing import Tuple, List, Dict\n",
    "import copy\n",
    "from shutil import copyfile\n",
    "\n",
    "from PIL import Image"
   ]
  },
  {
   "cell_type": "code",
   "execution_count": 2,
   "metadata": {},
   "outputs": [
    {
     "name": "stdout",
     "output_type": "stream",
     "text": [
      "JSON file instance.json missing, using empty list\n",
      "JSON file sample_annotation.json missing, using empty list\n",
      "9 category,\n",
      "17 attribute,\n",
      "4 visibility,\n",
      "0 instance,\n",
      "8 sensor,\n",
      "168 calibrated_sensor,\n",
      "219744 ego_pose,\n",
      "218 log,\n",
      "218 scene,\n",
      "27468 sample,\n",
      "219744 sample_data,\n",
      "0 sample_annotation,\n",
      "1 map,\n",
      "Done loading in 2.0 seconds.\n",
      "======\n",
      "Reverse indexing ...\n",
      "Done reverse indexing in 0.6 seconds.\n",
      "======\n"
     ]
    }
   ],
   "source": [
    "test_dataset = LyftDataset(data_path='.', json_path='../../3d-object-detection-for-autonomous-vehicles/test_data', verbose=True)"
   ]
  },
  {
   "cell_type": "code",
   "execution_count": 3,
   "metadata": {},
   "outputs": [],
   "source": [
    "def lidar_filepath_from_id(sample_token):\n",
    "    sample = test_dataset.get(\"sample\", sample_token)\n",
    "\n",
    "    sample_lidar_token = sample[\"data\"][\"LIDAR_TOP\"]\n",
    "    \n",
    "    lidar_path = test_dataset.get_sample_data_path(sample_lidar_token)\n",
    "    return lidar_path\n",
    "def write_image_from_id(image_folder,kitti_id,sample_token):\n",
    "    \n",
    "\n",
    "    sample = test_dataset.get(\"sample\", sample_token)\n",
    "\n",
    "    sample_cam_token = sample[\"data\"][\"CAM_FRONT_LEFT\"]\n",
    "    cam_data = test_dataset.get(\"sample_data\", sample_cam_token)\n",
    "    cam_filepath = test_dataset.get_sample_data_path(sample_cam_token)\n",
    "    \n",
    "    im = Image.open(cam_filepath)\n",
    "    im.save(os.path.join(image_folder,\"{:06n}\".format(kitti_id)+\".png\"), \"PNG\")\n",
    "def write_calib(calib_folder,idx):\n",
    "    \n",
    "    label_save_fn = os.path.join(calib_folder,\"{:06n}\".format(idx)+'.txt')\n",
    "    Tr_lyft_rect = np.array([-1,  0,  0,  0, 0,  0, -1,  0, 0,  1,  0,  0])\n",
    "    R0_rect = np.array([1,0,0,0,1,0,0,0,1])\n",
    "    with open(label_save_fn, 'w') as f:\n",
    "\n",
    "        print('P0: %.4f %.4f %.4f %.4f %.4f %.4f %.4f %.4f %.4f %.4f %.4f %.4f'  %\n",
    "                          (1,0,0,0,0,1,0,0,0,0,1,0),file=f)\n",
    "        print('P1: %.4f %.4f %.4f %.4f %.4f %.4f %.4f %.4f %.4f %.4f %.4f %.4f'  %\n",
    "                          (1,0,0,0,0,1,0,0,0,0,1,0),file=f)\n",
    "        print('P2: %.4f %.4f %.4f %.4f %.4f %.4f %.4f %.4f %.4f %.4f %.4f %.4f'  %\n",
    "                          (1,0,0,0,0,1,0,0,0,0,1,0),file=f)\n",
    "        print('P3: %.4f %.4f %.4f %.4f %.4f %.4f %.4f %.4f %.4f %.4f %.4f %.4f'  %\n",
    "                          (1,0,0,0,0,1,0,0,0,0,1,0),file=f)\n",
    "\n",
    "        print('R0_rect: %.4f %.4f %.4f %.4f %.4f %.4f %.4f %.4f %.4f' %\n",
    "                          (R0_rect[0], R0_rect[1],R0_rect[2], R0_rect[3], R0_rect[4],\n",
    "                           R0_rect[5], R0_rect[6], R0_rect[7], R0_rect[8]),file=f)\n",
    "\n",
    "        print('Tr_velo_to_cam: %.4f %.4f %.4f %.4f %.4f %.4f %.4f %.4f %.4f %.4f %.4f %.4f' %\n",
    "                          (-1,0,0,0,0,0,-1,0,0,1,0,0),file=f)"
   ]
  },
  {
   "cell_type": "code",
   "execution_count": 4,
   "metadata": {},
   "outputs": [],
   "source": [
    "\n",
    "calib_folder = \"/home/lingling/Downloads/Lyft_PointRCNN/data/KITTI/object/testing/calib/\"\n",
    "lidar_folder = '/home/lingling/Downloads/Lyft_PointRCNN/data/KITTI/object/testing/velodyne'\n",
    "image_folder = '/home/lingling/Downloads/Lyft_PointRCNN/data/KITTI/object/testing/image_2'\n",
    "testtxtfile = '/home/lingling/Downloads/Lyft_PointRCNN/data/KITTI/ImageSets/test.txt'\n",
    "\n",
    "os.makedirs(calib_folder, exist_ok=True)\n",
    "os.makedirs(lidar_folder, exist_ok=True)\n",
    "os.makedirs(image_folder, exist_ok=True)\n",
    "\n",
    "\n",
    "#os.makedirs(lidar_folder)\n",
    "\n",
    "df = pd.read_csv('sample_submission.csv')\n",
    "lyfttest_Id = df['Id']"
   ]
  },
  {
   "cell_type": "code",
   "execution_count": 11,
   "metadata": {},
   "outputs": [],
   "source": [
    "lidar_folder_1 = '/home/lingling/Downloads/Lyft_PointRCNN/data/KITTI/object/testing/velodyne_1'\n",
    "for kitti_id in range(100):\n",
    "    sample_token = lyfttest_Id[kitti_id]\n",
    "    \"\"\"\n",
    "        prepare test.txt, calibration file and the lidar files\n",
    "    \"\"\"\n",
    "    # write test.txt\n",
    "    if kitti_id % 10 == 0:\n",
    "        with open(testtxtfile, 'w') as f:\n",
    "            print(\"{:06n}\".format(kitti_id),file=f)\n",
    "    else:\n",
    "        with open(testtxtfile, 'a') as f:\n",
    "            print(\"{:06n}\".format(kitti_id),file=f)\n",
    "    \n",
    "    # write calibration file\n",
    "    write_calib(calib_folder,kitti_id)\n",
    "    \n",
    "    # extract lidar file path\n",
    "    lidar_filepath = lidar_filepath_from_id(sample_token)\n",
    "    # move lidar to path\n",
    "    lidar_savefilename = \"{:06n}\".format(kitti_id)+'.bin'\n",
    "    copyfile(lidar_filepath,os.path.join(lidar_folder_1, lidar_savefilename)) \n",
    "    # write image\n",
    "    write_image_from_id(image_folder,kitti_id,sample_token)"
   ]
  },
  {
   "cell_type": "code",
   "execution_count": 9,
   "metadata": {},
   "outputs": [
    {
     "data": {
      "text/plain": [
       "'/home/lingling/Downloads/Lyft_PointRCNN/data/KITTI/object/testing/velodyne'"
      ]
     },
     "execution_count": 9,
     "metadata": {},
     "output_type": "execute_result"
    }
   ],
   "source": [
    "lidar_folder"
   ]
  },
  {
   "cell_type": "code",
   "execution_count": 10,
   "metadata": {},
   "outputs": [],
   "source": [
    "!mkdir "
   ]
  },
  {
   "cell_type": "code",
   "execution_count": null,
   "metadata": {},
   "outputs": [],
   "source": []
  }
 ],
 "metadata": {
  "kernelspec": {
   "display_name": "Python 3",
   "language": "python",
   "name": "python3"
  },
  "language_info": {
   "codemirror_mode": {
    "name": "ipython",
    "version": 3
   },
   "file_extension": ".py",
   "mimetype": "text/x-python",
   "name": "python",
   "nbconvert_exporter": "python",
   "pygments_lexer": "ipython3",
   "version": "3.7.5"
  },
  "toc": {
   "base_numbering": 1,
   "nav_menu": {},
   "number_sections": false,
   "sideBar": true,
   "skip_h1_title": true,
   "title_cell": "Table of Contents",
   "title_sidebar": "Contents",
   "toc_cell": false,
   "toc_position": {},
   "toc_section_display": true,
   "toc_window_display": true
  }
 },
 "nbformat": 4,
 "nbformat_minor": 2
}
