{
 "cells": [
  {
   "cell_type": "markdown",
   "metadata": {},
   "source": [
    "## import packages"
   ]
  },
  {
   "cell_type": "code",
   "execution_count": 1,
   "metadata": {},
   "outputs": [],
   "source": [
    "import sys\n",
    "\n",
    "sys.path.append('../lib/')\n",
    "sys.path.append('../lib/net/')\n",
    "sys.path.append('../lib/rpn/')\n",
    "sys.path.append('../lib/utils/iou3d/')\n",
    "sys.path.append('../lib/utils/roipool3d/')\n",
    "sys.path.append('../lib/utils/roipool3d/build/')\n",
    "sys.path.append('../pointnet2_lib/')\n",
    "sys.path.append('../pointnet2_lib/')\n",
    "sys.path.append('../pointnet2_lib/pointnet2/')\n",
    "sys.path.append('../pointnet2_lib/tools/')\n",
    "sys.path.append('./train_utils/')\n",
    "sys.path.append('./kitti_object_eval_python/')\n",
    "sys.path.append('./cfgs/')\n",
    "\n",
    "import _init_path\n",
    "import os\n",
    "import numpy as np\n",
    "import torch\n",
    "from torch.utils.data import DataLoader\n",
    "import torch.nn.functional as F\n",
    "from lib.net.point_rcnn import PointRCNN\n",
    "from lib.datasets.kitti_rcnn_dataset import KittiRCNNDataset\n",
    "import tools.train_utils.train_utils as train_utils\n",
    "from lib.utils.bbox_transform import decode_bbox_target\n",
    "from tools.kitti_object_eval_python.evaluate import evaluate as kitti_evaluate\n",
    "\n",
    "from lib.config import cfg, cfg_from_file, save_config_to_file, cfg_from_list\n",
    "import argparse\n",
    "import lib.utils.kitti_utils as kitti_utils\n",
    "import lib.utils.iou3d.iou3d_utils as iou3d_utils\n",
    "from datetime import datetime\n",
    "import logging\n",
    "import re\n",
    "import glob\n",
    "import time\n",
    "from tensorboardX import SummaryWriter\n",
    "import tqdm\n",
    "\n",
    "import pandas as pd"
   ]
  },
  {
   "cell_type": "code",
   "execution_count": 2,
   "metadata": {},
   "outputs": [
    {
     "data": {
      "text/html": [
       "        <script type=\"text/javascript\">\n",
       "        window.PlotlyConfig = {MathJaxConfig: 'local'};\n",
       "        if (window.MathJax) {MathJax.Hub.Config({SVG: {font: \"STIX-Web\"}});}\n",
       "        if (typeof require !== 'undefined') {\n",
       "        require.undef(\"plotly\");\n",
       "        requirejs.config({\n",
       "            paths: {\n",
       "                'plotly': ['https://cdn.plot.ly/plotly-latest.min']\n",
       "            }\n",
       "        });\n",
       "        require(['plotly'], function(Plotly) {\n",
       "            window._Plotly = Plotly;\n",
       "        });\n",
       "        }\n",
       "        </script>\n",
       "        "
      ]
     },
     "metadata": {},
     "output_type": "display_data"
    }
   ],
   "source": [
    "import numpy as np\n",
    "import pandas as pd\n",
    "import os\n",
    "import gc\n",
    "\n",
    "\n",
    "import json\n",
    "import math \n",
    "import sys\n",
    "from datetime import datetime\n",
    "import time\n",
    "from typing import Tuple,List\n",
    "\n",
    "import matplotlib.pyplot as plt\n",
    "%matplotlib inline\n",
    "import cv2\n",
    "import sklearn.metrics\n",
    "from PIL import Image\n",
    "\n",
    "from matplotlib.axes import Axes\n",
    "from matplotlib import animation, rc\n",
    "import plotly.graph_objs as go\n",
    "import plotly.tools as ts\n",
    "from plotly.offline import plot, init_notebook_mode\n",
    "import plotly.figure_factory as ft\n",
    "init_notebook_mode(connected=True)\n",
    "from pyquaternion import Quaternion\n",
    "import seaborn as sns\n",
    "import warnings\n",
    "\n",
    "from lyft_dataset_sdk.utils.map_mask import MapMask\n",
    "from lyft_dataset_sdk.lyftdataset import LyftDataset\n",
    "from lyft_dataset_sdk.utils.geometry_utils import view_points, box_in_image, BoxVisibility\n",
    "from lyft_dataset_sdk.utils.geometry_utils import view_points, transform_matrix\n",
    "from pathlib import Path\n",
    "\n",
    "from lyft_dataset_sdk.lyftdataset import LyftDataset,LyftDatasetExplorer\n",
    "from lyft_dataset_sdk.utils.data_classes import LidarPointCloud, Box, Quaternion\n",
    "from lyft_dataset_sdk.utils.geometry_utils import view_points, transform_matrix\n",
    "import time\n",
    "from lyft_dataset_sdk.utils.map_mask import MapMask\n",
    "\n",
    "import struct\n",
    "from abc import ABC, abstractmethod\n",
    "from functools import reduce\n",
    "from typing import Tuple, List, Dict\n",
    "import copy\n",
    "from shutil import copyfile\n",
    "\n",
    "from PIL import Image"
   ]
  },
  {
   "cell_type": "markdown",
   "metadata": {},
   "source": [
    "## args input"
   ]
  },
  {
   "cell_type": "code",
   "execution_count": 3,
   "metadata": {},
   "outputs": [],
   "source": [
    "saved_class = 'car'"
   ]
  },
  {
   "cell_type": "code",
   "execution_count": 4,
   "metadata": {},
   "outputs": [],
   "source": [
    "np.random.seed(1024)  # set the same seed\n",
    "\n",
    "from easydict import EasyDict as edict\n",
    "\n",
    "args = edict()\n",
    "args.cfg_file = 'cfgs/' + saved_class + '.yaml'\n",
    "args.eval_mode = 'rcnn'\n",
    "\n",
    "\n",
    "args.eval_all = False\n",
    "args.test = True \n",
    "args.ckpt = '../trainedModel/car/rcnn/ckpt/checkpoint_epoch_6.pth'\n",
    "args.rpn_ckpt = None\n",
    "args.rcnn_ckpt = None\n",
    "\n",
    "\n",
    "args.batch_size = 4\n",
    "args.workers = 4\n",
    "args.extra_tag = 'default'\n",
    "args.output_dir = 'predicted/noaug/thre155/calib'\n",
    "args.ckpt_dir = None\n",
    "\n",
    "\n",
    "args.save_result = False\n",
    "args.save_rpn_feature = False\n",
    "\n",
    "\n",
    "args.random_select = True\n",
    "args.start_epoch = 0\n",
    "args.rcnn_eval_roi_dir = None\n",
    "args.rcnn_eval_feature_dir = None\n",
    "args.set_cfgs = None\n"
   ]
  },
  {
   "cell_type": "markdown",
   "metadata": {},
   "source": [
    "## functions"
   ]
  },
  {
   "cell_type": "markdown",
   "metadata": {},
   "source": [
    "### ling's"
   ]
  },
  {
   "cell_type": "markdown",
   "metadata": {},
   "source": [
    "#### create_logger"
   ]
  },
  {
   "cell_type": "code",
   "execution_count": 5,
   "metadata": {},
   "outputs": [],
   "source": [
    "def create_logger(log_file):\n",
    "    log_format = '%(asctime)s  %(levelname)5s  %(message)s'\n",
    "    logging.basicConfig(level=logging.INFO, format=log_format, filename=log_file)\n",
    "    console = logging.StreamHandler()\n",
    "    console.setLevel(logging.INFO)\n",
    "    console.setFormatter(logging.Formatter(log_format))\n",
    "    logging.getLogger(__name__).addHandler(console)\n",
    "    return logging.getLogger(__name__)"
   ]
  },
  {
   "cell_type": "markdown",
   "metadata": {},
   "source": [
    "#### create_dataloader"
   ]
  },
  {
   "cell_type": "code",
   "execution_count": 6,
   "metadata": {},
   "outputs": [],
   "source": [
    "def create_dataloader(logger):\n",
    "    mode = 'TEST' \n",
    "    DATA_PATH = os.path.join('..', 'data')\n",
    "\n",
    "    # create dataloader\n",
    "    test_set = KittiRCNNDataset(root_dir=DATA_PATH, npoints=cfg.RPN.NUM_POINTS, split='test', mode=mode,\n",
    "                                random_select=args.random_select,\n",
    "                                rcnn_eval_roi_dir=args.rcnn_eval_roi_dir,\n",
    "                                rcnn_eval_feature_dir=args.rcnn_eval_feature_dir,\n",
    "                                classes=cfg.CLASSES,\n",
    "                                logger=logger)\n",
    "\n",
    "    test_loader = DataLoader(test_set, batch_size=args.batch_size, shuffle=False, pin_memory=True,\n",
    "                             num_workers=args.workers, collate_fn=test_set.collate_batch)\n",
    "\n",
    "    return test_loader"
   ]
  },
  {
   "cell_type": "markdown",
   "metadata": {},
   "source": [
    "#### save_predicted_boxes3d"
   ]
  },
  {
   "cell_type": "code",
   "execution_count": 7,
   "metadata": {},
   "outputs": [],
   "source": [
    "def save_predicted_boxes3d(pred_boxes3d, scores_pred, savefile):\n",
    "    \"\"\"\n",
    "        args:\n",
    "            pred_boxes3d: numpy.ndarray (ncars * 7[x, y, z, height, width, length, yaw])\n",
    "            \n",
    "            scores_pred: numpy.ndarray (ncars * 1)\n",
    "            \n",
    "            savefile: savefile name, save format: [confidence, x, y, z, width, length, height, yaw, classname]\n",
    "    \"\"\"\n",
    "    \n",
    "    \n",
    "    with open(savefile, 'w') as f:\n",
    "        for k in range(pred_boxes3d.shape[0]):\n",
    "            print('%.4f %.4f %.4f %.4f %.4f %.4f %.4f %.4f %s' %\n",
    "                  (scores_pred[k], pred_boxes3d[k, 0], pred_boxes3d[k, 1], pred_boxes3d[k, 2], \n",
    "                   pred_boxes3d[k, 4], pred_boxes3d[k, 5], pred_boxes3d[k, 3],pred_boxes3d[k, 6],\n",
    "                  saved_class), file=f)\n",
    "    "
   ]
  },
  {
   "cell_type": "markdown",
   "metadata": {},
   "source": [
    "#### load_ckpt_based_on_args"
   ]
  },
  {
   "cell_type": "code",
   "execution_count": 8,
   "metadata": {},
   "outputs": [],
   "source": [
    "def load_ckpt_based_on_args(model, logger):\n",
    "    if args.ckpt is not None:\n",
    "        train_utils.load_checkpoint(model, filename=args.ckpt, logger=logger)"
   ]
  },
  {
   "cell_type": "markdown",
   "metadata": {},
   "source": [
    "#### detect_one_epoch_join()"
   ]
  },
  {
   "cell_type": "code",
   "execution_count": 9,
   "metadata": {},
   "outputs": [],
   "source": [
    "def detect_one_epoch_joint(model, dataloader, epoch_id, result_dir, logger, sample_token):\n",
    "    '''\n",
    "    use joint (rpn + rcnn) model to detect object\n",
    "    \n",
    "    output:\n",
    "        predicted 3dboxes stored in result_dir\n",
    "    \n",
    "    '''\n",
    "    np.random.seed(666)\n",
    "    MEAN_SIZE = torch.from_numpy(cfg.CLS_MEAN_SIZE[0]).cuda()\n",
    "\n",
    "    predicted_boxes3d_dir = os.path.join(result_dir, 'pred_boxes3d', cfg.CLASSES)\n",
    "    os.makedirs(predicted_boxes3d_dir, exist_ok=True)\n",
    "\n",
    "\n",
    "    logger.info('---- EPOCH %s JOINT PREDICTION ----' % epoch_id)\n",
    "    logger.info('==> Output file: %s' % predicted_boxes3d_dir)\n",
    "    model.eval()\n",
    "\n",
    "    thresh_list = [0.1, 0.3, 0.5, 0.7, 0.9]\n",
    "    total_recalled_bbox_list, total_gt_bbox = [0] * 5, 0\n",
    "    total_roi_recalled_bbox_list = [0] * 5\n",
    "    dataset = dataloader.dataset\n",
    "    cnt = final_total = total_cls_acc = total_cls_acc_refined = total_rpn_iou = 0\n",
    "\n",
    "    progress_bar = tqdm.tqdm(total=len(dataloader), leave=True, desc='eval')\n",
    "    for data in dataloader:\n",
    "        cnt += 1\n",
    "        sample_id, pts_rect, pts_features, pts_input = \\\n",
    "            data['sample_id'], data['pts_rect'], data['pts_features'], data['pts_input']\n",
    "        batch_size = len(sample_id)\n",
    "        inputs = torch.from_numpy(pts_input).cuda(non_blocking=True).float()\n",
    "        input_data = {'pts_input': inputs}\n",
    "\n",
    "        # model inference\n",
    "        ret_dict = model(input_data)\n",
    "\n",
    "        roi_scores_raw = ret_dict['roi_scores_raw']  # (B, M)\n",
    "        roi_boxes3d = ret_dict['rois']  # (B, M, 7)\n",
    "        seg_result = ret_dict['seg_result'].long()  # (B, N)\n",
    "\n",
    "        rcnn_cls = ret_dict['rcnn_cls'].view(batch_size, -1, ret_dict['rcnn_cls'].shape[1])\n",
    "        rcnn_reg = ret_dict['rcnn_reg'].view(batch_size, -1, ret_dict['rcnn_reg'].shape[1])  # (B, M, C)\n",
    "\n",
    "        # bounding box regression\n",
    "        anchor_size = MEAN_SIZE\n",
    "        if cfg.RCNN.SIZE_RES_ON_ROI:\n",
    "            assert False\n",
    "\n",
    "        pred_boxes3d = decode_bbox_target(roi_boxes3d.view(-1, 7), rcnn_reg.view(-1, rcnn_reg.shape[-1]),\n",
    "                                          anchor_size=anchor_size,\n",
    "                                          loc_scope=cfg.RCNN.LOC_SCOPE,\n",
    "                                          loc_bin_size=cfg.RCNN.LOC_BIN_SIZE,\n",
    "                                          num_head_bin=cfg.RCNN.NUM_HEAD_BIN,\n",
    "                                          get_xz_fine=True, get_y_by_bin=cfg.RCNN.LOC_Y_BY_BIN,\n",
    "                                          loc_y_scope=cfg.RCNN.LOC_Y_SCOPE, loc_y_bin_size=cfg.RCNN.LOC_Y_BIN_SIZE,\n",
    "                                          get_ry_fine=True).view(batch_size, -1, 7)\n",
    "        \n",
    "        print(type(pred_boxes3d))\n",
    "\n",
    "        # scoring\n",
    "        if rcnn_cls.shape[2] == 1:\n",
    "            raw_scores = rcnn_cls  # (B, M, 1)\n",
    "\n",
    "            norm_scores = torch.sigmoid(raw_scores)\n",
    "            pred_classes = (norm_scores > cfg.RCNN.SCORE_THRESH).long()\n",
    "        else:\n",
    "            pred_classes = torch.argmax(rcnn_cls, dim=1).view(-1)\n",
    "            cls_norm_scores = F.softmax(rcnn_cls, dim=1)\n",
    "            raw_scores = rcnn_cls[:, pred_classes]\n",
    "            norm_scores = cls_norm_scores[:, pred_classes]\n",
    "            \n",
    "        \n",
    "        disp_dict = {'mode': 'Predicting'}\n",
    "        progress_bar.set_postfix(disp_dict)\n",
    "        progress_bar.update()\n",
    "\n",
    "        # scores thresh\n",
    "        inds = norm_scores > cfg.RCNN.SCORE_THRESH\n",
    "\n",
    "        for k in range(batch_size):\n",
    "            cur_inds = inds[k].view(-1)\n",
    "            if cur_inds.sum() == 0:\n",
    "                continue\n",
    "\n",
    "            pred_boxes3d_selected = pred_boxes3d[k, cur_inds]\n",
    "            raw_scores_selected = raw_scores[k, cur_inds]\n",
    "            norm_scores_selected = norm_scores[k, cur_inds]\n",
    "            \n",
    "\n",
    "            # NMS thresh\n",
    "            # rotated nms\n",
    "            boxes_bev_selected = kitti_utils.boxes3d_to_bev_torch(pred_boxes3d_selected)\n",
    "            keep_idx = iou3d_utils.nms_gpu(boxes_bev_selected, raw_scores_selected, cfg.RCNN.NMS_THRESH).view(-1)\n",
    "            pred_boxes3d_selected = pred_boxes3d_selected[keep_idx]\n",
    "            scores_selected = raw_scores_selected[keep_idx]\n",
    "            pred_boxes3d_selected, scores_selected = pred_boxes3d_selected.cpu().numpy(), scores_selected.cpu().numpy()\n",
    "\n",
    "            cur_sample_id = sample_id[k]\n",
    "            savefile = os.path.join(predicted_boxes3d_dir, '%06d.txt' % cur_sample_id)\n",
    "            \n",
    "            save_predicted_boxes3d(pred_boxes3d_selected, norm_scores_selected, savefile)"
   ]
  },
  {
   "cell_type": "markdown",
   "metadata": {},
   "source": [
    "### Tong's"
   ]
  },
  {
   "cell_type": "markdown",
   "metadata": {},
   "source": [
    "#### link folders"
   ]
  },
  {
   "cell_type": "code",
   "execution_count": 10,
   "metadata": {},
   "outputs": [
    {
     "name": "stdout",
     "output_type": "stream",
     "text": [
      "ln: failed to create symbolic link 'images/test_images': File exists\n",
      "ln: failed to create symbolic link 'maps/test_maps': File exists\n",
      "ln: failed to create symbolic link 'lidar/test_lidar': File exists\n"
     ]
    }
   ],
   "source": [
    "!ln -s ../../3d-object-detection-for-autonomous-vehicles/test_images images\n",
    "!ln -s ../../3d-object-detection-for-autonomous-vehicles/test_maps maps\n",
    "!ln -s ../../3d-object-detection-for-autonomous-vehicles/test_lidar lidar"
   ]
  },
  {
   "cell_type": "markdown",
   "metadata": {},
   "source": [
    "#### load test dataset"
   ]
  },
  {
   "cell_type": "code",
   "execution_count": 11,
   "metadata": {},
   "outputs": [
    {
     "name": "stdout",
     "output_type": "stream",
     "text": [
      "JSON file instance.json missing, using empty list\n",
      "JSON file sample_annotation.json missing, using empty list\n",
      "9 category,\n",
      "17 attribute,\n",
      "4 visibility,\n",
      "0 instance,\n",
      "8 sensor,\n",
      "168 calibrated_sensor,\n",
      "219744 ego_pose,\n",
      "218 log,\n",
      "218 scene,\n",
      "27468 sample,\n",
      "219744 sample_data,\n",
      "0 sample_annotation,\n",
      "1 map,\n",
      "Done loading in 1.9 seconds.\n",
      "======\n",
      "Reverse indexing ...\n",
      "Done reverse indexing in 0.7 seconds.\n",
      "======\n"
     ]
    }
   ],
   "source": [
    "test_dataset = LyftDataset(data_path='.', json_path='../../3d-object-detection-for-autonomous-vehicles/test_data', verbose=True)"
   ]
  },
  {
   "cell_type": "markdown",
   "metadata": {},
   "source": [
    "#### Output transformation: global_from_rect"
   ]
  },
  {
   "cell_type": "code",
   "execution_count": 12,
   "metadata": {},
   "outputs": [],
   "source": [
    "def label_global_from_rect(sample_ID,args):\n",
    "    #args = [x,y,z,width,length,height,yaw]\n",
    "    # get the label from the sample_ID\n",
    "    import math\n",
    "    sample_token=sample_ID \n",
    "    sample = test_dataset.get(\"sample\", sample_token)\n",
    "\n",
    "    sample_lidar_token = sample[\"data\"][\"LIDAR_TOP\"]\n",
    "    lidar_data = test_dataset.get(\"sample_data\", sample_lidar_token)\n",
    "\n",
    "    # get lidar calibration info\n",
    "    ego_pose = test_dataset.get(\"ego_pose\", lidar_data[\"ego_pose_token\"])\n",
    "    calibrated_sensor = test_dataset.get(\"calibrated_sensor\", lidar_data[\"calibrated_sensor_token\"])\n",
    "\n",
    "    # get the transformation matrix from calibration info\n",
    "    Tr_rect_sensor = np.array([[-1,0,0,0],[0,0,1,0],[0,-1,0,0],[0,0,0,1]])\n",
    "\n",
    "    global_from_car = transform_matrix(ego_pose['translation'],\n",
    "                                       Quaternion(ego_pose['rotation']), inverse=False)\n",
    "    car_from_sensor = transform_matrix(calibrated_sensor['translation'], Quaternion(calibrated_sensor['rotation']),\n",
    "                                        inverse=False)\n",
    "    global_from_sensor = np.dot(global_from_car,car_from_sensor)\n",
    "    \n",
    "    global_from_rect = np.dot(global_from_sensor,Tr_rect_sensor)\n",
    "    \n",
    "    center_x = args[0]\n",
    "    center_y = args[1]\n",
    "    center_z = args[2]\n",
    "    width = args[3]\n",
    "    length = args[4]\n",
    "    height = args[5]\n",
    "    yaw = args[6]\n",
    "        \n",
    "        \n",
    "        \n",
    "    # transfrom the center point from global to sensor (center_x,center_y,center_z)->(x,y,z)\n",
    "    tmp = np.array([[center_x],[center_y],[center_z],[1.0]])\n",
    "    coor = np.dot(global_from_rect,tmp)\n",
    "    x = coor[0][0]\n",
    "    y = coor[1][0]\n",
    "    z = coor[2][0]\n",
    "\n",
    "    # transform the yaw from sensor to global yaw->yaw_sensor\n",
    "    # yaw vector += center vector\n",
    "    x_yaw = center_x - np.sin(yaw)\n",
    "    z_yaw = center_z + np.cos(yaw)\n",
    "    y_yaw = center_y\n",
    "    # transfer yaw vector to sensor\n",
    "    coor_yaw = np.dot(global_from_rect,np.array([[x_yaw],[y_yaw],[z_yaw],[1.0]]))\n",
    "    x_yaw_global = coor_yaw[0][0]\n",
    "    y_yaw_global = coor_yaw[1][0]\n",
    "    z_yaw_global = coor_yaw[2][0]\n",
    "    # the angle between yaw_sensor and the y axis\n",
    "    #yaw_new = np.arccos(np.clip(np.dot((1,0),(y_yaw_global - y,x_yaw_global - x)), -1.0, 1.0))\n",
    "    yaw_new = math.atan2(-(x_yaw_global - x),y_yaw_global - y)\n",
    "    \n",
    "        \n",
    "    return [x,y,z,width,length,height,yaw_new]"
   ]
  },
  {
   "cell_type": "markdown",
   "metadata": {},
   "source": [
    "#### lidar_filepath_from_id"
   ]
  },
  {
   "cell_type": "code",
   "execution_count": 13,
   "metadata": {},
   "outputs": [],
   "source": [
    "def lidar_filepath_from_id(sample_token):\n",
    "    sample = test_dataset.get(\"sample\", sample_token)\n",
    "\n",
    "    sample_lidar_token = sample[\"data\"][\"LIDAR_TOP\"]\n",
    "    \n",
    "    lidar_path = test_dataset.get_sample_data_path(sample_lidar_token)\n",
    "    return lidar_path"
   ]
  },
  {
   "cell_type": "markdown",
   "metadata": {},
   "source": [
    "#### write_image_from_id"
   ]
  },
  {
   "cell_type": "code",
   "execution_count": 14,
   "metadata": {},
   "outputs": [],
   "source": [
    "def write_image_from_id(image_folder,kitti_id,sample_token):\n",
    "    \n",
    "\n",
    "    sample = test_dataset.get(\"sample\", sample_token)\n",
    "\n",
    "    sample_cam_token = sample[\"data\"][\"CAM_FRONT_LEFT\"]\n",
    "    cam_data = test_dataset.get(\"sample_data\", sample_cam_token)\n",
    "    cam_filepath = test_dataset.get_sample_data_path(sample_cam_token)\n",
    "    \n",
    "    im = Image.open(cam_filepath)\n",
    "    im.save(os.path.join(image_folder,\"{:06n}\".format(kitti_id)+\".png\"), \"PNG\")"
   ]
  },
  {
   "cell_type": "markdown",
   "metadata": {},
   "source": [
    "#### calib file"
   ]
  },
  {
   "cell_type": "code",
   "execution_count": 15,
   "metadata": {},
   "outputs": [],
   "source": [
    "def write_calib(calib_folder,idx):\n",
    "    \n",
    "    label_save_fn = os.path.join(calib_folder,\"{:06n}\".format(idx)+'.txt')\n",
    "    Tr_lyft_rect = np.array([-1,  0,  0,  0, 0,  0, -1,  0, 0,  1,  0,  0])\n",
    "    R0_rect = np.array([1,0,0,0,1,0,0,0,1])\n",
    "    with open(label_save_fn, 'w') as f:\n",
    "\n",
    "        print('P0: %.4f %.4f %.4f %.4f %.4f %.4f %.4f %.4f %.4f %.4f %.4f %.4f'  %\n",
    "                          (1,0,0,50,0,1,0,50,0,0,1,50),file=f)\n",
    "        print('P1: %.4f %.4f %.4f %.4f %.4f %.4f %.4f %.4f %.4f %.4f %.4f %.4f'  %\n",
    "                          (1,0,0,50,0,1,0,50,0,0,1,50),file=f)\n",
    "        print('P2: %.4f %.4f %.4f %.4f %.4f %.4f %.4f %.4f %.4f %.4f %.4f %.4f'  %\n",
    "                          (1,0,0,50,0,1,0,50,0,0,1,50),file=f)\n",
    "        print('P3: %.4f %.4f %.4f %.4f %.4f %.4f %.4f %.4f %.4f %.4f %.4f %.4f'  %\n",
    "                          (1,0,0,50,0,1,0,50,0,0,1,50),file=f)\n",
    "\n",
    "        print('R0_rect: %.4f %.4f %.4f %.4f %.4f %.4f %.4f %.4f %.4f' %\n",
    "                          (R0_rect[0], R0_rect[1],R0_rect[2], R0_rect[3], R0_rect[4],\n",
    "                           R0_rect[5], R0_rect[6], R0_rect[7], R0_rect[8]),file=f)\n",
    "\n",
    "        print('Tr_velo_to_cam: %.4f %.4f %.4f %.4f %.4f %.4f %.4f %.4f %.4f %.4f %.4f %.4f' %\n",
    "                          (-1,0,0,0,0,0,-1,0,0,1,0,0),file=f)"
   ]
  },
  {
   "cell_type": "markdown",
   "metadata": {},
   "source": [
    "## main"
   ]
  },
  {
   "cell_type": "code",
   "execution_count": 16,
   "metadata": {},
   "outputs": [
    {
     "name": "stderr",
     "output_type": "stream",
     "text": [
      "/home/lingling/Downloads/Lyft_PointRCNN/tools/../lib/config.py:187: YAMLLoadWarning:\n",
      "\n",
      "calling yaml.load() without Loader=... is deprecated, as the default Loader is unsafe. Please read https://msg.pyyaml.org/load for full details.\n",
      "\n",
      "2019-11-11 17:43:23,150   INFO  **********************Start logging**********************\n",
      "2019-11-11 17:43:23,150   INFO  cfg_file         cfgs/car.yaml\n",
      "2019-11-11 17:43:23,150   INFO  eval_mode        rcnn\n",
      "2019-11-11 17:43:23,151   INFO  eval_all         False\n",
      "2019-11-11 17:43:23,151   INFO  test             True\n",
      "2019-11-11 17:43:23,151   INFO  ckpt             ../trainedModel/car/rcnn/ckpt/checkpoint_epoch_6.pth\n",
      "2019-11-11 17:43:23,152   INFO  rpn_ckpt         None\n",
      "2019-11-11 17:43:23,152   INFO  rcnn_ckpt        None\n",
      "2019-11-11 17:43:23,153   INFO  batch_size       4\n",
      "2019-11-11 17:43:23,153   INFO  workers          4\n",
      "2019-11-11 17:43:23,153   INFO  extra_tag        default\n",
      "2019-11-11 17:43:23,154   INFO  output_dir       predicted/noaug/thre155/calib\n",
      "2019-11-11 17:43:23,154   INFO  ckpt_dir         None\n",
      "2019-11-11 17:43:23,154   INFO  save_result      False\n",
      "2019-11-11 17:43:23,155   INFO  save_rpn_feature False\n",
      "2019-11-11 17:43:23,155   INFO  random_select    True\n",
      "2019-11-11 17:43:23,156   INFO  start_epoch      0\n",
      "2019-11-11 17:43:23,156   INFO  rcnn_eval_roi_dir None\n",
      "2019-11-11 17:43:23,156   INFO  rcnn_eval_feature_dir None\n",
      "2019-11-11 17:43:23,157   INFO  set_cfgs         None\n",
      "2019-11-11 17:43:23,157   INFO  cfg.TAG: car\n",
      "2019-11-11 17:43:23,157   INFO  cfg.CLASSES: Car\n",
      "2019-11-11 17:43:23,158   INFO  cfg.INCLUDE_SIMILAR_TYPE: True\n",
      "2019-11-11 17:43:23,158   INFO  cfg.AUG_DATA: False\n",
      "2019-11-11 17:43:23,159   INFO  cfg.AUG_METHOD_LIST: ['rotation', 'scaling', 'flip']\n",
      "2019-11-11 17:43:23,159   INFO  cfg.AUG_METHOD_PROB: [1.0, 1.0, 0.5]\n",
      "2019-11-11 17:43:23,160   INFO  cfg.AUG_ROT_RANGE: 18\n",
      "2019-11-11 17:43:23,160   INFO  cfg.GT_AUG_ENABLED: False\n",
      "2019-11-11 17:43:23,160   INFO  cfg.GT_EXTRA_NUM: 15\n",
      "2019-11-11 17:43:23,164   INFO  cfg.GT_AUG_RAND_NUM: True\n",
      "2019-11-11 17:43:23,164   INFO  cfg.GT_AUG_APPLY_PROB: 1.0\n",
      "2019-11-11 17:43:23,165   INFO  cfg.GT_AUG_HARD_RATIO: 0.6\n",
      "2019-11-11 17:43:23,165   INFO  cfg.PC_REDUCE_BY_RANGE: True\n",
      "2019-11-11 17:43:23,166   INFO  cfg.PC_AREA_SCOPE: [[-40.   40. ]\n",
      " [ -1.    3. ]\n",
      " [  0.   70.4]]\n",
      "2019-11-11 17:43:23,166   INFO  cfg.CLS_MEAN_SIZE: [[1.5256319 1.6285675 3.8831165]]\n",
      "2019-11-11 17:43:23,166   INFO  \n",
      "cfg.RPN = edict()\n",
      "2019-11-11 17:43:23,167   INFO  cfg.RPN.ENABLED: True\n",
      "2019-11-11 17:43:23,167   INFO  cfg.RPN.FIXED: True\n",
      "2019-11-11 17:43:23,167   INFO  cfg.RPN.USE_INTENSITY: False\n",
      "2019-11-11 17:43:23,167   INFO  cfg.RPN.LOC_XZ_FINE: True\n",
      "2019-11-11 17:43:23,168   INFO  cfg.RPN.LOC_SCOPE: 3.0\n",
      "2019-11-11 17:43:23,168   INFO  cfg.RPN.LOC_BIN_SIZE: 0.5\n",
      "2019-11-11 17:43:23,168   INFO  cfg.RPN.NUM_HEAD_BIN: 12\n",
      "2019-11-11 17:43:23,168   INFO  cfg.RPN.BACKBONE: pointnet2_msg\n",
      "2019-11-11 17:43:23,170   INFO  cfg.RPN.USE_BN: True\n",
      "2019-11-11 17:43:23,170   INFO  cfg.RPN.NUM_POINTS: 16384\n",
      "2019-11-11 17:43:23,170   INFO  \n",
      "cfg.RPN.SA_CONFIG = edict()\n",
      "2019-11-11 17:43:23,170   INFO  cfg.RPN.SA_CONFIG.NPOINTS: [4096, 1024, 256, 64]\n",
      "2019-11-11 17:43:23,171   INFO  cfg.RPN.SA_CONFIG.RADIUS: [[0.1, 0.5], [0.5, 1.0], [1.0, 2.0], [2.0, 4.0]]\n",
      "2019-11-11 17:43:23,171   INFO  cfg.RPN.SA_CONFIG.NSAMPLE: [[16, 32], [16, 32], [16, 32], [16, 32]]\n",
      "2019-11-11 17:43:23,174   INFO  cfg.RPN.SA_CONFIG.MLPS: [[[16, 16, 32], [32, 32, 64]], [[64, 64, 128], [64, 96, 128]], [[128, 196, 256], [128, 196, 256]], [[256, 256, 512], [256, 384, 512]]]\n",
      "2019-11-11 17:43:23,175   INFO  cfg.RPN.FP_MLPS: [[128, 128], [256, 256], [512, 512], [512, 512]]\n",
      "2019-11-11 17:43:23,175   INFO  cfg.RPN.CLS_FC: [128]\n",
      "2019-11-11 17:43:23,176   INFO  cfg.RPN.REG_FC: [128]\n",
      "2019-11-11 17:43:23,176   INFO  cfg.RPN.DP_RATIO: 0.5\n",
      "2019-11-11 17:43:23,176   INFO  cfg.RPN.LOSS_CLS: SigmoidFocalLoss\n",
      "2019-11-11 17:43:23,177   INFO  cfg.RPN.FG_WEIGHT: 15\n",
      "2019-11-11 17:43:23,177   INFO  cfg.RPN.FOCAL_ALPHA: [0.25, 0.75]\n",
      "2019-11-11 17:43:23,177   INFO  cfg.RPN.FOCAL_GAMMA: 2.0\n",
      "2019-11-11 17:43:23,178   INFO  cfg.RPN.REG_LOSS_WEIGHT: [1.0, 1.0, 1.0, 1.0]\n",
      "2019-11-11 17:43:23,178   INFO  cfg.RPN.LOSS_WEIGHT: [1.0, 1.0]\n",
      "2019-11-11 17:43:23,178   INFO  cfg.RPN.NMS_TYPE: normal\n",
      "2019-11-11 17:43:23,179   INFO  cfg.RPN.SCORE_THRESH: 0.3\n",
      "2019-11-11 17:43:23,179   INFO  \n",
      "cfg.RCNN = edict()\n",
      "2019-11-11 17:43:23,180   INFO  cfg.RCNN.ENABLED: True\n",
      "2019-11-11 17:43:23,180   INFO  cfg.RCNN.USE_RPN_FEATURES: True\n",
      "2019-11-11 17:43:23,180   INFO  cfg.RCNN.USE_MASK: True\n",
      "2019-11-11 17:43:23,180   INFO  cfg.RCNN.MASK_TYPE: seg\n",
      "2019-11-11 17:43:23,181   INFO  cfg.RCNN.USE_INTENSITY: False\n",
      "2019-11-11 17:43:23,181   INFO  cfg.RCNN.USE_DEPTH: True\n",
      "2019-11-11 17:43:23,182   INFO  cfg.RCNN.USE_SEG_SCORE: False\n",
      "2019-11-11 17:43:23,182   INFO  cfg.RCNN.ROI_SAMPLE_JIT: True\n",
      "2019-11-11 17:43:23,182   INFO  cfg.RCNN.ROI_FG_AUG_TIMES: 10\n",
      "2019-11-11 17:43:23,182   INFO  cfg.RCNN.REG_AUG_METHOD: multiple\n",
      "2019-11-11 17:43:23,183   INFO  cfg.RCNN.POOL_EXTRA_WIDTH: 1.0\n",
      "2019-11-11 17:43:23,183   INFO  cfg.RCNN.LOC_SCOPE: 1.5\n",
      "2019-11-11 17:43:23,184   INFO  cfg.RCNN.LOC_BIN_SIZE: 0.5\n",
      "2019-11-11 17:43:23,184   INFO  cfg.RCNN.NUM_HEAD_BIN: 9\n",
      "2019-11-11 17:43:23,184   INFO  cfg.RCNN.LOC_Y_BY_BIN: False\n",
      "2019-11-11 17:43:23,185   INFO  cfg.RCNN.LOC_Y_SCOPE: 0.5\n",
      "2019-11-11 17:43:23,185   INFO  cfg.RCNN.LOC_Y_BIN_SIZE: 0.25\n",
      "2019-11-11 17:43:23,185   INFO  cfg.RCNN.SIZE_RES_ON_ROI: False\n",
      "2019-11-11 17:43:23,186   INFO  cfg.RCNN.USE_BN: False\n",
      "2019-11-11 17:43:23,186   INFO  cfg.RCNN.DP_RATIO: 0.0\n",
      "2019-11-11 17:43:23,186   INFO  cfg.RCNN.BACKBONE: pointnet\n",
      "2019-11-11 17:43:23,187   INFO  cfg.RCNN.XYZ_UP_LAYER: [128, 128]\n",
      "2019-11-11 17:43:23,187   INFO  cfg.RCNN.NUM_POINTS: 512\n",
      "2019-11-11 17:43:23,187   INFO  \n",
      "cfg.RCNN.SA_CONFIG = edict()\n",
      "2019-11-11 17:43:23,188   INFO  cfg.RCNN.SA_CONFIG.NPOINTS: [128, 32, -1]\n",
      "2019-11-11 17:43:23,188   INFO  cfg.RCNN.SA_CONFIG.RADIUS: [0.2, 0.4, 100]\n",
      "2019-11-11 17:43:23,188   INFO  cfg.RCNN.SA_CONFIG.NSAMPLE: [64, 64, 64]\n",
      "2019-11-11 17:43:23,189   INFO  cfg.RCNN.SA_CONFIG.MLPS: [[128, 128, 128], [128, 128, 256], [256, 256, 512]]\n",
      "2019-11-11 17:43:23,189   INFO  cfg.RCNN.CLS_FC: [256, 256]\n",
      "2019-11-11 17:43:23,189   INFO  cfg.RCNN.REG_FC: [256, 256]\n",
      "2019-11-11 17:43:23,190   INFO  cfg.RCNN.LOSS_CLS: BinaryCrossEntropy\n",
      "2019-11-11 17:43:23,190   INFO  cfg.RCNN.FOCAL_ALPHA: [0.25, 0.75]\n",
      "2019-11-11 17:43:23,190   INFO  cfg.RCNN.FOCAL_GAMMA: 2.0\n",
      "2019-11-11 17:43:23,191   INFO  cfg.RCNN.CLS_WEIGHT: [1. 1. 1.]\n",
      "2019-11-11 17:43:23,192   INFO  cfg.RCNN.CLS_FG_THRESH: 0.6\n",
      "2019-11-11 17:43:23,192   INFO  cfg.RCNN.CLS_BG_THRESH: 0.45\n",
      "2019-11-11 17:43:23,192   INFO  cfg.RCNN.CLS_BG_THRESH_LO: 0.05\n",
      "2019-11-11 17:43:23,193   INFO  cfg.RCNN.REG_FG_THRESH: 0.55\n",
      "2019-11-11 17:43:23,193   INFO  cfg.RCNN.FG_RATIO: 0.5\n",
      "2019-11-11 17:43:23,193   INFO  cfg.RCNN.ROI_PER_IMAGE: 64\n",
      "2019-11-11 17:43:23,194   INFO  cfg.RCNN.HARD_BG_RATIO: 0.8\n",
      "2019-11-11 17:43:23,194   INFO  cfg.RCNN.SCORE_THRESH: 0.15\n",
      "2019-11-11 17:43:23,194   INFO  cfg.RCNN.NMS_THRESH: 0.05\n",
      "2019-11-11 17:43:23,195   INFO  \n",
      "cfg.TRAIN = edict()\n",
      "2019-11-11 17:43:23,195   INFO  cfg.TRAIN.SPLIT: train\n",
      "2019-11-11 17:43:23,195   INFO  cfg.TRAIN.VAL_SPLIT: smallval\n",
      "2019-11-11 17:43:23,196   INFO  cfg.TRAIN.LR: 0.002\n",
      "2019-11-11 17:43:23,196   INFO  cfg.TRAIN.LR_CLIP: 1e-05\n",
      "2019-11-11 17:43:23,196   INFO  cfg.TRAIN.LR_DECAY: 0.5\n",
      "2019-11-11 17:43:23,196   INFO  cfg.TRAIN.DECAY_STEP_LIST: [100, 150, 180, 200]\n",
      "2019-11-11 17:43:23,197   INFO  cfg.TRAIN.LR_WARMUP: True\n",
      "2019-11-11 17:43:23,197   INFO  cfg.TRAIN.WARMUP_MIN: 0.0002\n",
      "2019-11-11 17:43:23,198   INFO  cfg.TRAIN.WARMUP_EPOCH: 1\n",
      "2019-11-11 17:43:23,198   INFO  cfg.TRAIN.BN_MOMENTUM: 0.1\n",
      "2019-11-11 17:43:23,198   INFO  cfg.TRAIN.BN_DECAY: 0.5\n",
      "2019-11-11 17:43:23,199   INFO  cfg.TRAIN.BNM_CLIP: 0.01\n",
      "2019-11-11 17:43:23,199   INFO  cfg.TRAIN.BN_DECAY_STEP_LIST: [1000]\n",
      "2019-11-11 17:43:23,200   INFO  cfg.TRAIN.OPTIMIZER: adam_onecycle\n",
      "2019-11-11 17:43:23,200   INFO  cfg.TRAIN.WEIGHT_DECAY: 0.001\n",
      "2019-11-11 17:43:23,200   INFO  cfg.TRAIN.MOMENTUM: 0.9\n",
      "2019-11-11 17:43:23,201   INFO  cfg.TRAIN.MOMS: [0.95, 0.85]\n",
      "2019-11-11 17:43:23,201   INFO  cfg.TRAIN.DIV_FACTOR: 10.0\n",
      "2019-11-11 17:43:23,201   INFO  cfg.TRAIN.PCT_START: 0.4\n"
     ]
    },
    {
     "name": "stderr",
     "output_type": "stream",
     "text": [
      "2019-11-11 17:43:23,201   INFO  cfg.TRAIN.GRAD_NORM_CLIP: 1.0\n",
      "2019-11-11 17:43:23,202   INFO  cfg.TRAIN.RPN_PRE_NMS_TOP_N: 9000\n",
      "2019-11-11 17:43:23,202   INFO  cfg.TRAIN.RPN_POST_NMS_TOP_N: 512\n",
      "2019-11-11 17:43:23,203   INFO  cfg.TRAIN.RPN_NMS_THRESH: 0.85\n",
      "2019-11-11 17:43:23,203   INFO  cfg.TRAIN.RPN_DISTANCE_BASED_PROPOSE: True\n",
      "2019-11-11 17:43:23,203   INFO  \n",
      "cfg.TEST = edict()\n",
      "2019-11-11 17:43:23,203   INFO  cfg.TEST.SPLIT: val\n",
      "2019-11-11 17:43:23,204   INFO  cfg.TEST.RPN_PRE_NMS_TOP_N: 9000\n",
      "2019-11-11 17:43:23,204   INFO  cfg.TEST.RPN_POST_NMS_TOP_N: 100\n",
      "2019-11-11 17:43:23,205   INFO  cfg.TEST.RPN_NMS_THRESH: 0.8\n",
      "2019-11-11 17:43:23,205   INFO  cfg.TEST.RPN_DISTANCE_BASED_PROPOSE: True\n"
     ]
    }
   ],
   "source": [
    "# merge config and log to file\n",
    "if args.cfg_file is not None:\n",
    "    cfg_from_file(args.cfg_file)\n",
    "       \n",
    "cfg.TAG = os.path.splitext(os.path.basename(args.cfg_file))[0]\n",
    "\n",
    "\n",
    "# args.eval_mode == 'rcnn':\n",
    "cfg.RCNN.ENABLED = True\n",
    "cfg.RPN.ENABLED = cfg.RPN.FIXED = True\n",
    "root_result_dir = os.path.join('../', 'output', 'rcnn', cfg.TAG)\n",
    "ckpt_dir = args.ckpt_dir\n",
    "\n",
    "if args.output_dir is not None:\n",
    "    root_result_dir = args.output_dir\n",
    "    \n",
    " # set epoch_id and output dir\n",
    "num_list = re.findall(r'\\d+', args.ckpt) if args.ckpt is not None else []\n",
    "epoch_id = num_list[-1] if num_list.__len__() > 0 else 'no_number'\n",
    "root_result_dir = os.path.join(root_result_dir, 'epoch_%s' % epoch_id)\n",
    "\n",
    "os.makedirs(root_result_dir, exist_ok=True)\n",
    "\n",
    "log_file = os.path.join(root_result_dir, 'log_eval_one.txt')\n",
    "logger = create_logger(log_file)\n",
    "logger.info('**********************Start logging**********************')\n",
    "for key, val in vars(args).items():\n",
    "    logger.info(\"{:16} {}\".format(key, val))\n",
    "save_config_to_file(cfg, logger=logger)"
   ]
  },
  {
   "cell_type": "code",
   "execution_count": 17,
   "metadata": {},
   "outputs": [
    {
     "name": "stderr",
     "output_type": "stream",
     "text": [
      "2019-11-11 17:43:25,451   INFO  Load testing samples from ../data/KITTI/object/testing\n",
      "2019-11-11 17:43:25,451   INFO  Done: total test samples 10\n",
      "2019-11-11 17:43:27,555   INFO  ==> Loading from checkpoint '../trainedModel/car/rcnn/ckpt/checkpoint_epoch_6.pth'\n",
      "2019-11-11 17:43:27,591   INFO  ==> Done\n",
      "2019-11-11 17:43:27,592   INFO  ---- EPOCH 6 JOINT PREDICTION ----\n",
      "2019-11-11 17:43:27,592   INFO  ==> Output file: predicted/noaug/thre155/calib/epoch_6/pred_boxes3d/Car\n",
      "eval:  33%|███▎      | 1/3 [00:00<00:01,  1.32it/s, mode=Predicting]"
     ]
    },
    {
     "name": "stdout",
     "output_type": "stream",
     "text": [
      "<class 'torch.Tensor'>\n"
     ]
    },
    {
     "name": "stderr",
     "output_type": "stream",
     "text": [
      "eval:  67%|██████▋   | 2/3 [00:01<00:00,  1.55it/s, mode=Predicting]"
     ]
    },
    {
     "name": "stdout",
     "output_type": "stream",
     "text": [
      "<class 'torch.Tensor'>\n"
     ]
    },
    {
     "name": "stderr",
     "output_type": "stream",
     "text": [
      "eval: 100%|██████████| 3/3 [00:01<00:00,  2.14it/s, mode=Predicting]"
     ]
    },
    {
     "name": "stdout",
     "output_type": "stream",
     "text": [
      "<class 'torch.Tensor'>\n"
     ]
    },
    {
     "name": "stderr",
     "output_type": "stream",
     "text": [
      "\n",
      "2019-11-11 17:43:30,972   INFO  Load testing samples from ../data/KITTI/object/testing\n",
      "2019-11-11 17:43:30,973   INFO  Done: total test samples 10\n",
      "2019-11-11 17:43:31,031   INFO  ==> Loading from checkpoint '../trainedModel/car/rcnn/ckpt/checkpoint_epoch_6.pth'\n",
      "2019-11-11 17:43:31,059   INFO  ==> Done\n",
      "2019-11-11 17:43:31,061   INFO  ---- EPOCH 6 JOINT PREDICTION ----\n",
      "2019-11-11 17:43:31,061   INFO  ==> Output file: predicted/noaug/thre155/calib/epoch_6/pred_boxes3d/Car\n",
      "eval:  33%|███▎      | 1/3 [00:00<00:01,  1.91it/s, mode=Predicting]"
     ]
    },
    {
     "name": "stdout",
     "output_type": "stream",
     "text": [
      "<class 'torch.Tensor'>\n"
     ]
    },
    {
     "name": "stderr",
     "output_type": "stream",
     "text": [
      "eval:  67%|██████▋   | 2/3 [00:00<00:00,  2.11it/s, mode=Predicting]"
     ]
    },
    {
     "name": "stdout",
     "output_type": "stream",
     "text": [
      "<class 'torch.Tensor'>\n"
     ]
    },
    {
     "name": "stderr",
     "output_type": "stream",
     "text": [
      "eval: 100%|██████████| 3/3 [00:01<00:00,  2.65it/s, mode=Predicting]"
     ]
    },
    {
     "name": "stdout",
     "output_type": "stream",
     "text": [
      "<class 'torch.Tensor'>\n"
     ]
    },
    {
     "name": "stderr",
     "output_type": "stream",
     "text": [
      "\n",
      "2019-11-11 17:43:34,241   INFO  Load testing samples from ../data/KITTI/object/testing\n",
      "2019-11-11 17:43:34,241   INFO  Done: total test samples 10\n",
      "2019-11-11 17:43:34,308   INFO  ==> Loading from checkpoint '../trainedModel/car/rcnn/ckpt/checkpoint_epoch_6.pth'\n",
      "2019-11-11 17:43:34,341   INFO  ==> Done\n",
      "2019-11-11 17:43:34,343   INFO  ---- EPOCH 6 JOINT PREDICTION ----\n",
      "2019-11-11 17:43:34,343   INFO  ==> Output file: predicted/noaug/thre155/calib/epoch_6/pred_boxes3d/Car\n",
      "eval:  33%|███▎      | 1/3 [00:00<00:01,  1.66it/s, mode=Predicting]"
     ]
    },
    {
     "name": "stdout",
     "output_type": "stream",
     "text": [
      "<class 'torch.Tensor'>\n"
     ]
    },
    {
     "name": "stderr",
     "output_type": "stream",
     "text": [
      "eval:  67%|██████▋   | 2/3 [00:00<00:00,  1.89it/s, mode=Predicting]"
     ]
    },
    {
     "name": "stdout",
     "output_type": "stream",
     "text": [
      "<class 'torch.Tensor'>\n"
     ]
    },
    {
     "name": "stderr",
     "output_type": "stream",
     "text": [
      "eval: 100%|██████████| 3/3 [00:01<00:00,  2.39it/s, mode=Predicting]"
     ]
    },
    {
     "name": "stdout",
     "output_type": "stream",
     "text": [
      "<class 'torch.Tensor'>\n"
     ]
    },
    {
     "name": "stderr",
     "output_type": "stream",
     "text": [
      "\n",
      "2019-11-11 17:43:37,633   INFO  Load testing samples from ../data/KITTI/object/testing\n",
      "2019-11-11 17:43:37,634   INFO  Done: total test samples 10\n",
      "2019-11-11 17:43:37,695   INFO  ==> Loading from checkpoint '../trainedModel/car/rcnn/ckpt/checkpoint_epoch_6.pth'\n",
      "2019-11-11 17:43:37,724   INFO  ==> Done\n",
      "2019-11-11 17:43:37,725   INFO  ---- EPOCH 6 JOINT PREDICTION ----\n",
      "2019-11-11 17:43:37,725   INFO  ==> Output file: predicted/noaug/thre155/calib/epoch_6/pred_boxes3d/Car\n",
      "eval:  33%|███▎      | 1/3 [00:00<00:01,  1.92it/s, mode=Predicting]"
     ]
    },
    {
     "name": "stdout",
     "output_type": "stream",
     "text": [
      "<class 'torch.Tensor'>\n"
     ]
    },
    {
     "name": "stderr",
     "output_type": "stream",
     "text": [
      "eval:  67%|██████▋   | 2/3 [00:00<00:00,  2.13it/s, mode=Predicting]"
     ]
    },
    {
     "name": "stdout",
     "output_type": "stream",
     "text": [
      "<class 'torch.Tensor'>\n"
     ]
    },
    {
     "name": "stderr",
     "output_type": "stream",
     "text": [
      "eval: 100%|██████████| 3/3 [00:01<00:00,  2.56it/s, mode=Predicting]"
     ]
    },
    {
     "name": "stdout",
     "output_type": "stream",
     "text": [
      "<class 'torch.Tensor'>\n"
     ]
    },
    {
     "name": "stderr",
     "output_type": "stream",
     "text": [
      "\n",
      "2019-11-11 17:43:40,939   INFO  Load testing samples from ../data/KITTI/object/testing\n",
      "2019-11-11 17:43:40,939   INFO  Done: total test samples 10\n",
      "2019-11-11 17:43:40,996   INFO  ==> Loading from checkpoint '../trainedModel/car/rcnn/ckpt/checkpoint_epoch_6.pth'\n",
      "2019-11-11 17:43:41,025   INFO  ==> Done\n",
      "2019-11-11 17:43:41,026   INFO  ---- EPOCH 6 JOINT PREDICTION ----\n",
      "2019-11-11 17:43:41,027   INFO  ==> Output file: predicted/noaug/thre155/calib/epoch_6/pred_boxes3d/Car\n",
      "eval:  33%|███▎      | 1/3 [00:00<00:01,  1.86it/s, mode=Predicting]"
     ]
    },
    {
     "name": "stdout",
     "output_type": "stream",
     "text": [
      "<class 'torch.Tensor'>\n"
     ]
    },
    {
     "name": "stderr",
     "output_type": "stream",
     "text": [
      "eval:  67%|██████▋   | 2/3 [00:00<00:00,  2.07it/s, mode=Predicting]"
     ]
    },
    {
     "name": "stdout",
     "output_type": "stream",
     "text": [
      "<class 'torch.Tensor'>\n"
     ]
    },
    {
     "name": "stderr",
     "output_type": "stream",
     "text": [
      "eval: 100%|██████████| 3/3 [00:01<00:00,  2.53it/s, mode=Predicting]"
     ]
    },
    {
     "name": "stdout",
     "output_type": "stream",
     "text": [
      "<class 'torch.Tensor'>\n"
     ]
    },
    {
     "name": "stderr",
     "output_type": "stream",
     "text": [
      "\n",
      "2019-11-11 17:43:44,221   INFO  Load testing samples from ../data/KITTI/object/testing\n",
      "2019-11-11 17:43:44,222   INFO  Done: total test samples 10\n",
      "2019-11-11 17:43:44,280   INFO  ==> Loading from checkpoint '../trainedModel/car/rcnn/ckpt/checkpoint_epoch_6.pth'\n",
      "2019-11-11 17:43:44,333   INFO  ==> Done\n",
      "2019-11-11 17:43:44,334   INFO  ---- EPOCH 6 JOINT PREDICTION ----\n",
      "2019-11-11 17:43:44,335   INFO  ==> Output file: predicted/noaug/thre155/calib/epoch_6/pred_boxes3d/Car\n",
      "eval:  33%|███▎      | 1/3 [00:00<00:01,  1.90it/s, mode=Predicting]"
     ]
    },
    {
     "name": "stdout",
     "output_type": "stream",
     "text": [
      "<class 'torch.Tensor'>\n"
     ]
    },
    {
     "name": "stderr",
     "output_type": "stream",
     "text": [
      "eval:  67%|██████▋   | 2/3 [00:00<00:00,  2.11it/s, mode=Predicting]"
     ]
    },
    {
     "name": "stdout",
     "output_type": "stream",
     "text": [
      "<class 'torch.Tensor'>\n"
     ]
    },
    {
     "name": "stderr",
     "output_type": "stream",
     "text": [
      "eval: 100%|██████████| 3/3 [00:01<00:00,  2.63it/s, mode=Predicting]"
     ]
    },
    {
     "name": "stdout",
     "output_type": "stream",
     "text": [
      "<class 'torch.Tensor'>\n"
     ]
    },
    {
     "name": "stderr",
     "output_type": "stream",
     "text": [
      "\n",
      "2019-11-11 17:43:47,364   INFO  Load testing samples from ../data/KITTI/object/testing\n",
      "2019-11-11 17:43:47,365   INFO  Done: total test samples 10\n",
      "2019-11-11 17:43:47,423   INFO  ==> Loading from checkpoint '../trainedModel/car/rcnn/ckpt/checkpoint_epoch_6.pth'\n",
      "2019-11-11 17:43:47,450   INFO  ==> Done\n",
      "2019-11-11 17:43:47,451   INFO  ---- EPOCH 6 JOINT PREDICTION ----\n",
      "2019-11-11 17:43:47,452   INFO  ==> Output file: predicted/noaug/thre155/calib/epoch_6/pred_boxes3d/Car\n",
      "eval:  33%|███▎      | 1/3 [00:00<00:01,  1.88it/s, mode=Predicting]"
     ]
    },
    {
     "name": "stdout",
     "output_type": "stream",
     "text": [
      "<class 'torch.Tensor'>\n"
     ]
    },
    {
     "name": "stderr",
     "output_type": "stream",
     "text": [
      "eval: 100%|██████████| 3/3 [00:01<00:00,  2.55it/s, mode=Predicting]"
     ]
    },
    {
     "name": "stdout",
     "output_type": "stream",
     "text": [
      "<class 'torch.Tensor'>\n",
      "<class 'torch.Tensor'>\n"
     ]
    },
    {
     "name": "stderr",
     "output_type": "stream",
     "text": [
      "eval: 100%|██████████| 3/3 [00:01<00:00,  2.67it/s, mode=Predicting]\n",
      "2019-11-11 17:43:50,550   INFO  Load testing samples from ../data/KITTI/object/testing\n",
      "2019-11-11 17:43:50,551   INFO  Done: total test samples 10\n",
      "2019-11-11 17:43:50,608   INFO  ==> Loading from checkpoint '../trainedModel/car/rcnn/ckpt/checkpoint_epoch_6.pth'\n",
      "2019-11-11 17:43:50,636   INFO  ==> Done\n",
      "2019-11-11 17:43:50,637   INFO  ---- EPOCH 6 JOINT PREDICTION ----\n",
      "2019-11-11 17:43:50,638   INFO  ==> Output file: predicted/noaug/thre155/calib/epoch_6/pred_boxes3d/Car\n",
      "eval:  33%|███▎      | 1/3 [00:00<00:01,  1.86it/s, mode=Predicting]"
     ]
    },
    {
     "name": "stdout",
     "output_type": "stream",
     "text": [
      "<class 'torch.Tensor'>\n"
     ]
    },
    {
     "name": "stderr",
     "output_type": "stream",
     "text": [
      "eval: 100%|██████████| 3/3 [00:01<00:00,  2.53it/s, mode=Predicting]"
     ]
    },
    {
     "name": "stdout",
     "output_type": "stream",
     "text": [
      "<class 'torch.Tensor'>\n",
      "<class 'torch.Tensor'>\n"
     ]
    },
    {
     "name": "stderr",
     "output_type": "stream",
     "text": [
      "eval: 100%|██████████| 3/3 [00:01<00:00,  2.65it/s, mode=Predicting]\n",
      "2019-11-11 17:43:53,832   INFO  Load testing samples from ../data/KITTI/object/testing\n",
      "2019-11-11 17:43:53,833   INFO  Done: total test samples 10\n",
      "2019-11-11 17:43:53,892   INFO  ==> Loading from checkpoint '../trainedModel/car/rcnn/ckpt/checkpoint_epoch_6.pth'\n",
      "2019-11-11 17:43:53,922   INFO  ==> Done\n",
      "2019-11-11 17:43:53,923   INFO  ---- EPOCH 6 JOINT PREDICTION ----\n",
      "2019-11-11 17:43:53,924   INFO  ==> Output file: predicted/noaug/thre155/calib/epoch_6/pred_boxes3d/Car\n",
      "eval:  33%|███▎      | 1/3 [00:00<00:01,  1.84it/s, mode=Predicting]"
     ]
    },
    {
     "name": "stdout",
     "output_type": "stream",
     "text": [
      "<class 'torch.Tensor'>\n"
     ]
    },
    {
     "name": "stderr",
     "output_type": "stream",
     "text": [
      "eval: 100%|██████████| 3/3 [00:01<00:00,  2.51it/s, mode=Predicting]"
     ]
    },
    {
     "name": "stdout",
     "output_type": "stream",
     "text": [
      "<class 'torch.Tensor'>\n",
      "<class 'torch.Tensor'>\n"
     ]
    },
    {
     "name": "stderr",
     "output_type": "stream",
     "text": [
      "eval: 100%|██████████| 3/3 [00:01<00:00,  2.64it/s, mode=Predicting]\n",
      "2019-11-11 17:43:57,082   INFO  Load testing samples from ../data/KITTI/object/testing\n",
      "2019-11-11 17:43:57,082   INFO  Done: total test samples 10\n",
      "2019-11-11 17:43:57,140   INFO  ==> Loading from checkpoint '../trainedModel/car/rcnn/ckpt/checkpoint_epoch_6.pth'\n",
      "2019-11-11 17:43:57,166   INFO  ==> Done\n",
      "2019-11-11 17:43:57,167   INFO  ---- EPOCH 6 JOINT PREDICTION ----\n",
      "2019-11-11 17:43:57,168   INFO  ==> Output file: predicted/noaug/thre155/calib/epoch_6/pred_boxes3d/Car\n",
      "eval:  33%|███▎      | 1/3 [00:00<00:01,  1.83it/s, mode=Predicting]"
     ]
    },
    {
     "name": "stdout",
     "output_type": "stream",
     "text": [
      "<class 'torch.Tensor'>\n"
     ]
    },
    {
     "name": "stderr",
     "output_type": "stream",
     "text": [
      "eval: 100%|██████████| 3/3 [00:01<00:00,  2.51it/s, mode=Predicting]"
     ]
    },
    {
     "name": "stdout",
     "output_type": "stream",
     "text": [
      "<class 'torch.Tensor'>\n",
      "<class 'torch.Tensor'>\n"
     ]
    },
    {
     "name": "stderr",
     "output_type": "stream",
     "text": [
      "eval: 100%|██████████| 3/3 [00:01<00:00,  2.64it/s, mode=Predicting]\n",
      "2019-11-11 17:44:00,498   INFO  Load testing samples from ../data/KITTI/object/testing\n",
      "2019-11-11 17:44:00,499   INFO  Done: total test samples 10\n",
      "2019-11-11 17:44:00,556   INFO  ==> Loading from checkpoint '../trainedModel/car/rcnn/ckpt/checkpoint_epoch_6.pth'\n",
      "2019-11-11 17:44:00,584   INFO  ==> Done\n",
      "2019-11-11 17:44:00,585   INFO  ---- EPOCH 6 JOINT PREDICTION ----\n",
      "2019-11-11 17:44:00,585   INFO  ==> Output file: predicted/noaug/thre155/calib/epoch_6/pred_boxes3d/Car\n",
      "eval:  33%|███▎      | 1/3 [00:00<00:01,  1.88it/s, mode=Predicting]"
     ]
    },
    {
     "name": "stdout",
     "output_type": "stream",
     "text": [
      "<class 'torch.Tensor'>\n"
     ]
    },
    {
     "name": "stderr",
     "output_type": "stream",
     "text": [
      "eval:  67%|██████▋   | 2/3 [00:00<00:00,  2.08it/s, mode=Predicting]"
     ]
    },
    {
     "name": "stdout",
     "output_type": "stream",
     "text": [
      "<class 'torch.Tensor'>\n"
     ]
    },
    {
     "name": "stderr",
     "output_type": "stream",
     "text": [
      "eval: 100%|██████████| 3/3 [00:01<00:00,  2.57it/s, mode=Predicting]"
     ]
    },
    {
     "name": "stdout",
     "output_type": "stream",
     "text": [
      "<class 'torch.Tensor'>\n"
     ]
    },
    {
     "name": "stderr",
     "output_type": "stream",
     "text": [
      "\n",
      "2019-11-11 17:44:03,902   INFO  Load testing samples from ../data/KITTI/object/testing\n",
      "2019-11-11 17:44:03,902   INFO  Done: total test samples 10\n",
      "2019-11-11 17:44:03,960   INFO  ==> Loading from checkpoint '../trainedModel/car/rcnn/ckpt/checkpoint_epoch_6.pth'\n",
      "2019-11-11 17:44:03,988   INFO  ==> Done\n",
      "2019-11-11 17:44:03,989   INFO  ---- EPOCH 6 JOINT PREDICTION ----\n",
      "2019-11-11 17:44:03,989   INFO  ==> Output file: predicted/noaug/thre155/calib/epoch_6/pred_boxes3d/Car\n",
      "eval:  33%|███▎      | 1/3 [00:00<00:01,  1.85it/s, mode=Predicting]"
     ]
    },
    {
     "name": "stdout",
     "output_type": "stream",
     "text": [
      "<class 'torch.Tensor'>\n"
     ]
    },
    {
     "name": "stderr",
     "output_type": "stream",
     "text": [
      "eval:  67%|██████▋   | 2/3 [00:00<00:00,  2.06it/s, mode=Predicting]"
     ]
    },
    {
     "name": "stdout",
     "output_type": "stream",
     "text": [
      "<class 'torch.Tensor'>\n"
     ]
    },
    {
     "name": "stderr",
     "output_type": "stream",
     "text": [
      "eval: 100%|██████████| 3/3 [00:01<00:00,  2.58it/s, mode=Predicting]"
     ]
    },
    {
     "name": "stdout",
     "output_type": "stream",
     "text": [
      "<class 'torch.Tensor'>\n"
     ]
    },
    {
     "name": "stderr",
     "output_type": "stream",
     "text": [
      "\n",
      "2019-11-11 17:44:07,209   INFO  Load testing samples from ../data/KITTI/object/testing\n",
      "2019-11-11 17:44:07,209   INFO  Done: total test samples 10\n",
      "2019-11-11 17:44:07,267   INFO  ==> Loading from checkpoint '../trainedModel/car/rcnn/ckpt/checkpoint_epoch_6.pth'\n",
      "2019-11-11 17:44:07,296   INFO  ==> Done\n",
      "2019-11-11 17:44:07,297   INFO  ---- EPOCH 6 JOINT PREDICTION ----\n",
      "2019-11-11 17:44:07,297   INFO  ==> Output file: predicted/noaug/thre155/calib/epoch_6/pred_boxes3d/Car\n",
      "eval:  33%|███▎      | 1/3 [00:00<00:01,  1.87it/s, mode=Predicting]"
     ]
    },
    {
     "name": "stdout",
     "output_type": "stream",
     "text": [
      "<class 'torch.Tensor'>\n"
     ]
    },
    {
     "name": "stderr",
     "output_type": "stream",
     "text": [
      "eval:  67%|██████▋   | 2/3 [00:01<00:00,  2.09it/s, mode=Predicting]"
     ]
    },
    {
     "name": "stdout",
     "output_type": "stream",
     "text": [
      "<class 'torch.Tensor'>\n",
      "<class 'torch.Tensor'>\n"
     ]
    },
    {
     "name": "stderr",
     "output_type": "stream",
     "text": [
      "eval: 100%|██████████| 3/3 [00:01<00:00,  2.62it/s, mode=Predicting]\n",
      "2019-11-11 17:44:10,503   INFO  Load testing samples from ../data/KITTI/object/testing\n",
      "2019-11-11 17:44:10,503   INFO  Done: total test samples 10\n",
      "2019-11-11 17:44:10,578   INFO  ==> Loading from checkpoint '../trainedModel/car/rcnn/ckpt/checkpoint_epoch_6.pth'\n",
      "2019-11-11 17:44:10,608   INFO  ==> Done\n",
      "2019-11-11 17:44:10,609   INFO  ---- EPOCH 6 JOINT PREDICTION ----\n",
      "2019-11-11 17:44:10,609   INFO  ==> Output file: predicted/noaug/thre155/calib/epoch_6/pred_boxes3d/Car\n",
      "eval:  33%|███▎      | 1/3 [00:00<00:01,  1.85it/s, mode=Predicting]"
     ]
    },
    {
     "name": "stdout",
     "output_type": "stream",
     "text": [
      "<class 'torch.Tensor'>\n"
     ]
    },
    {
     "name": "stderr",
     "output_type": "stream",
     "text": [
      "eval: 100%|██████████| 3/3 [00:01<00:00,  2.51it/s, mode=Predicting]"
     ]
    },
    {
     "name": "stdout",
     "output_type": "stream",
     "text": [
      "<class 'torch.Tensor'>\n",
      "<class 'torch.Tensor'>\n"
     ]
    },
    {
     "name": "stderr",
     "output_type": "stream",
     "text": [
      "eval: 100%|██████████| 3/3 [00:01<00:00,  2.63it/s, mode=Predicting]\n",
      "2019-11-11 17:44:13,731   INFO  Load testing samples from ../data/KITTI/object/testing\n",
      "2019-11-11 17:44:13,732   INFO  Done: total test samples 10\n",
      "2019-11-11 17:44:13,792   INFO  ==> Loading from checkpoint '../trainedModel/car/rcnn/ckpt/checkpoint_epoch_6.pth'\n",
      "2019-11-11 17:44:13,820   INFO  ==> Done\n",
      "2019-11-11 17:44:13,821   INFO  ---- EPOCH 6 JOINT PREDICTION ----\n",
      "2019-11-11 17:44:13,821   INFO  ==> Output file: predicted/noaug/thre155/calib/epoch_6/pred_boxes3d/Car\n",
      "eval:  33%|███▎      | 1/3 [00:00<00:01,  1.82it/s, mode=Predicting]"
     ]
    },
    {
     "name": "stdout",
     "output_type": "stream",
     "text": [
      "<class 'torch.Tensor'>\n"
     ]
    },
    {
     "name": "stderr",
     "output_type": "stream",
     "text": [
      "eval:  67%|██████▋   | 2/3 [00:00<00:00,  2.05it/s, mode=Predicting]"
     ]
    },
    {
     "name": "stdout",
     "output_type": "stream",
     "text": [
      "<class 'torch.Tensor'>\n"
     ]
    },
    {
     "name": "stderr",
     "output_type": "stream",
     "text": [
      "eval: 100%|██████████| 3/3 [00:01<00:00,  2.62it/s, mode=Predicting]"
     ]
    },
    {
     "name": "stdout",
     "output_type": "stream",
     "text": [
      "<class 'torch.Tensor'>\n"
     ]
    },
    {
     "name": "stderr",
     "output_type": "stream",
     "text": [
      "\n",
      "2019-11-11 17:44:16,969   INFO  Load testing samples from ../data/KITTI/object/testing\n",
      "2019-11-11 17:44:16,970   INFO  Done: total test samples 10\n",
      "2019-11-11 17:44:17,028   INFO  ==> Loading from checkpoint '../trainedModel/car/rcnn/ckpt/checkpoint_epoch_6.pth'\n",
      "2019-11-11 17:44:17,056   INFO  ==> Done\n",
      "2019-11-11 17:44:17,057   INFO  ---- EPOCH 6 JOINT PREDICTION ----\n",
      "2019-11-11 17:44:17,057   INFO  ==> Output file: predicted/noaug/thre155/calib/epoch_6/pred_boxes3d/Car\n",
      "eval:  33%|███▎      | 1/3 [00:00<00:01,  1.84it/s, mode=Predicting]"
     ]
    },
    {
     "name": "stdout",
     "output_type": "stream",
     "text": [
      "<class 'torch.Tensor'>\n"
     ]
    },
    {
     "name": "stderr",
     "output_type": "stream",
     "text": [
      "eval: 100%|██████████| 3/3 [00:01<00:00,  2.51it/s, mode=Predicting]"
     ]
    },
    {
     "name": "stdout",
     "output_type": "stream",
     "text": [
      "<class 'torch.Tensor'>\n",
      "<class 'torch.Tensor'>\n"
     ]
    },
    {
     "name": "stderr",
     "output_type": "stream",
     "text": [
      "eval: 100%|██████████| 3/3 [00:01<00:00,  2.64it/s, mode=Predicting]\n",
      "2019-11-11 17:44:20,431   INFO  Load testing samples from ../data/KITTI/object/testing\n",
      "2019-11-11 17:44:20,431   INFO  Done: total test samples 10\n",
      "2019-11-11 17:44:20,507   INFO  ==> Loading from checkpoint '../trainedModel/car/rcnn/ckpt/checkpoint_epoch_6.pth'\n",
      "2019-11-11 17:44:20,536   INFO  ==> Done\n",
      "2019-11-11 17:44:20,537   INFO  ---- EPOCH 6 JOINT PREDICTION ----\n",
      "2019-11-11 17:44:20,538   INFO  ==> Output file: predicted/noaug/thre155/calib/epoch_6/pred_boxes3d/Car\n",
      "eval:  33%|███▎      | 1/3 [00:00<00:01,  1.86it/s, mode=Predicting]"
     ]
    },
    {
     "name": "stdout",
     "output_type": "stream",
     "text": [
      "<class 'torch.Tensor'>\n"
     ]
    },
    {
     "name": "stderr",
     "output_type": "stream",
     "text": [
      "eval: 100%|██████████| 3/3 [00:01<00:00,  2.51it/s, mode=Predicting]"
     ]
    },
    {
     "name": "stdout",
     "output_type": "stream",
     "text": [
      "<class 'torch.Tensor'>\n",
      "<class 'torch.Tensor'>\n"
     ]
    },
    {
     "name": "stderr",
     "output_type": "stream",
     "text": [
      "eval: 100%|██████████| 3/3 [00:01<00:00,  2.62it/s, mode=Predicting]\n",
      "2019-11-11 17:44:23,732   INFO  Load testing samples from ../data/KITTI/object/testing\n",
      "2019-11-11 17:44:23,732   INFO  Done: total test samples 10\n",
      "2019-11-11 17:44:23,790   INFO  ==> Loading from checkpoint '../trainedModel/car/rcnn/ckpt/checkpoint_epoch_6.pth'\n",
      "2019-11-11 17:44:23,819   INFO  ==> Done\n",
      "2019-11-11 17:44:23,820   INFO  ---- EPOCH 6 JOINT PREDICTION ----\n",
      "2019-11-11 17:44:23,820   INFO  ==> Output file: predicted/noaug/thre155/calib/epoch_6/pred_boxes3d/Car\n",
      "eval:  33%|███▎      | 1/3 [00:00<00:01,  1.78it/s, mode=Predicting]"
     ]
    },
    {
     "name": "stdout",
     "output_type": "stream",
     "text": [
      "<class 'torch.Tensor'>\n"
     ]
    },
    {
     "name": "stderr",
     "output_type": "stream",
     "text": [
      "eval: 100%|██████████| 3/3 [00:01<00:00,  2.46it/s, mode=Predicting]"
     ]
    },
    {
     "name": "stdout",
     "output_type": "stream",
     "text": [
      "<class 'torch.Tensor'>\n",
      "<class 'torch.Tensor'>\n"
     ]
    },
    {
     "name": "stderr",
     "output_type": "stream",
     "text": [
      "eval: 100%|██████████| 3/3 [00:01<00:00,  2.61it/s, mode=Predicting]\n",
      "2019-11-11 17:44:27,124   INFO  Load testing samples from ../data/KITTI/object/testing\n",
      "2019-11-11 17:44:27,124   INFO  Done: total test samples 10\n",
      "2019-11-11 17:44:27,187   INFO  ==> Loading from checkpoint '../trainedModel/car/rcnn/ckpt/checkpoint_epoch_6.pth'\n",
      "2019-11-11 17:44:27,230   INFO  ==> Done\n",
      "2019-11-11 17:44:27,231   INFO  ---- EPOCH 6 JOINT PREDICTION ----\n",
      "2019-11-11 17:44:27,231   INFO  ==> Output file: predicted/noaug/thre155/calib/epoch_6/pred_boxes3d/Car\n",
      "eval:  33%|███▎      | 1/3 [00:00<00:01,  1.63it/s, mode=Predicting]"
     ]
    },
    {
     "name": "stdout",
     "output_type": "stream",
     "text": [
      "<class 'torch.Tensor'>\n"
     ]
    },
    {
     "name": "stderr",
     "output_type": "stream",
     "text": [
      "eval:  67%|██████▋   | 2/3 [00:01<00:00,  1.83it/s, mode=Predicting]"
     ]
    },
    {
     "name": "stdout",
     "output_type": "stream",
     "text": [
      "<class 'torch.Tensor'>\n"
     ]
    },
    {
     "name": "stderr",
     "output_type": "stream",
     "text": [
      "eval: 100%|██████████| 3/3 [00:01<00:00,  2.23it/s, mode=Predicting]"
     ]
    },
    {
     "name": "stdout",
     "output_type": "stream",
     "text": [
      "<class 'torch.Tensor'>\n"
     ]
    },
    {
     "name": "stderr",
     "output_type": "stream",
     "text": [
      "\n",
      "2019-11-11 17:44:30,652   INFO  Load testing samples from ../data/KITTI/object/testing\n",
      "2019-11-11 17:44:30,653   INFO  Done: total test samples 10\n",
      "2019-11-11 17:44:30,730   INFO  ==> Loading from checkpoint '../trainedModel/car/rcnn/ckpt/checkpoint_epoch_6.pth'\n",
      "2019-11-11 17:44:30,785   INFO  ==> Done\n",
      "2019-11-11 17:44:30,786   INFO  ---- EPOCH 6 JOINT PREDICTION ----\n",
      "2019-11-11 17:44:30,786   INFO  ==> Output file: predicted/noaug/thre155/calib/epoch_6/pred_boxes3d/Car\n",
      "eval:  33%|███▎      | 1/3 [00:00<00:01,  1.68it/s, mode=Predicting]"
     ]
    },
    {
     "name": "stdout",
     "output_type": "stream",
     "text": [
      "<class 'torch.Tensor'>\n"
     ]
    },
    {
     "name": "stderr",
     "output_type": "stream",
     "text": [
      "eval:  67%|██████▋   | 2/3 [00:00<00:00,  1.88it/s, mode=Predicting]"
     ]
    },
    {
     "name": "stdout",
     "output_type": "stream",
     "text": [
      "<class 'torch.Tensor'>\n"
     ]
    },
    {
     "name": "stderr",
     "output_type": "stream",
     "text": [
      "eval: 100%|██████████| 3/3 [00:01<00:00,  2.33it/s, mode=Predicting]"
     ]
    },
    {
     "name": "stdout",
     "output_type": "stream",
     "text": [
      "<class 'torch.Tensor'>\n"
     ]
    },
    {
     "name": "stderr",
     "output_type": "stream",
     "text": [
      "\n",
      "2019-11-11 17:44:34,179   INFO  Load testing samples from ../data/KITTI/object/testing\n",
      "2019-11-11 17:44:34,179   INFO  Done: total test samples 10\n",
      "2019-11-11 17:44:34,237   INFO  ==> Loading from checkpoint '../trainedModel/car/rcnn/ckpt/checkpoint_epoch_6.pth'\n",
      "2019-11-11 17:44:34,266   INFO  ==> Done\n",
      "2019-11-11 17:44:34,267   INFO  ---- EPOCH 6 JOINT PREDICTION ----\n",
      "2019-11-11 17:44:34,268   INFO  ==> Output file: predicted/noaug/thre155/calib/epoch_6/pred_boxes3d/Car\n",
      "eval:  33%|███▎      | 1/3 [00:00<00:01,  1.90it/s, mode=Predicting]"
     ]
    },
    {
     "name": "stdout",
     "output_type": "stream",
     "text": [
      "<class 'torch.Tensor'>\n"
     ]
    },
    {
     "name": "stderr",
     "output_type": "stream",
     "text": [
      "eval: 100%|██████████| 3/3 [00:01<00:00,  2.57it/s, mode=Predicting]"
     ]
    },
    {
     "name": "stdout",
     "output_type": "stream",
     "text": [
      "<class 'torch.Tensor'>\n",
      "<class 'torch.Tensor'>\n"
     ]
    },
    {
     "name": "stderr",
     "output_type": "stream",
     "text": [
      "eval: 100%|██████████| 3/3 [00:01<00:00,  2.69it/s, mode=Predicting]\n",
      "2019-11-11 17:44:37,659   INFO  Load testing samples from ../data/KITTI/object/testing\n",
      "2019-11-11 17:44:37,659   INFO  Done: total test samples 10\n",
      "2019-11-11 17:44:37,719   INFO  ==> Loading from checkpoint '../trainedModel/car/rcnn/ckpt/checkpoint_epoch_6.pth'\n",
      "2019-11-11 17:44:37,746   INFO  ==> Done\n",
      "2019-11-11 17:44:37,747   INFO  ---- EPOCH 6 JOINT PREDICTION ----\n",
      "2019-11-11 17:44:37,748   INFO  ==> Output file: predicted/noaug/thre155/calib/epoch_6/pred_boxes3d/Car\n",
      "eval:  33%|███▎      | 1/3 [00:00<00:01,  1.86it/s, mode=Predicting]"
     ]
    },
    {
     "name": "stdout",
     "output_type": "stream",
     "text": [
      "<class 'torch.Tensor'>\n"
     ]
    },
    {
     "name": "stderr",
     "output_type": "stream",
     "text": [
      "eval: 100%|██████████| 3/3 [00:01<00:00,  2.53it/s, mode=Predicting]"
     ]
    },
    {
     "name": "stdout",
     "output_type": "stream",
     "text": [
      "<class 'torch.Tensor'>\n",
      "<class 'torch.Tensor'>\n"
     ]
    },
    {
     "name": "stderr",
     "output_type": "stream",
     "text": [
      "eval: 100%|██████████| 3/3 [00:01<00:00,  2.65it/s, mode=Predicting]\n",
      "2019-11-11 17:44:40,906   INFO  Load testing samples from ../data/KITTI/object/testing\n",
      "2019-11-11 17:44:40,907   INFO  Done: total test samples 10\n",
      "2019-11-11 17:44:40,963   INFO  ==> Loading from checkpoint '../trainedModel/car/rcnn/ckpt/checkpoint_epoch_6.pth'\n",
      "2019-11-11 17:44:40,990   INFO  ==> Done\n",
      "2019-11-11 17:44:40,991   INFO  ---- EPOCH 6 JOINT PREDICTION ----\n",
      "2019-11-11 17:44:40,992   INFO  ==> Output file: predicted/noaug/thre155/calib/epoch_6/pred_boxes3d/Car\n",
      "eval:  33%|███▎      | 1/3 [00:00<00:01,  1.89it/s, mode=Predicting]"
     ]
    },
    {
     "name": "stdout",
     "output_type": "stream",
     "text": [
      "<class 'torch.Tensor'>\n"
     ]
    },
    {
     "name": "stderr",
     "output_type": "stream",
     "text": [
      "eval: 100%|██████████| 3/3 [00:01<00:00,  2.56it/s, mode=Predicting]"
     ]
    },
    {
     "name": "stdout",
     "output_type": "stream",
     "text": [
      "<class 'torch.Tensor'>\n",
      "<class 'torch.Tensor'>\n"
     ]
    },
    {
     "name": "stderr",
     "output_type": "stream",
     "text": [
      "eval: 100%|██████████| 3/3 [00:01<00:00,  2.57it/s, mode=Predicting]\n",
      "2019-11-11 17:44:44,234   INFO  Load testing samples from ../data/KITTI/object/testing\n",
      "2019-11-11 17:44:44,234   INFO  Done: total test samples 10\n",
      "2019-11-11 17:44:44,292   INFO  ==> Loading from checkpoint '../trainedModel/car/rcnn/ckpt/checkpoint_epoch_6.pth'\n",
      "2019-11-11 17:44:44,320   INFO  ==> Done\n",
      "2019-11-11 17:44:44,321   INFO  ---- EPOCH 6 JOINT PREDICTION ----\n",
      "2019-11-11 17:44:44,322   INFO  ==> Output file: predicted/noaug/thre155/calib/epoch_6/pred_boxes3d/Car\n",
      "eval:  33%|███▎      | 1/3 [00:00<00:01,  1.79it/s, mode=Predicting]"
     ]
    },
    {
     "name": "stdout",
     "output_type": "stream",
     "text": [
      "<class 'torch.Tensor'>\n"
     ]
    },
    {
     "name": "stderr",
     "output_type": "stream",
     "text": [
      "eval: 100%|██████████| 3/3 [00:01<00:00,  2.46it/s, mode=Predicting]"
     ]
    },
    {
     "name": "stdout",
     "output_type": "stream",
     "text": [
      "<class 'torch.Tensor'>\n",
      "<class 'torch.Tensor'>\n"
     ]
    },
    {
     "name": "stderr",
     "output_type": "stream",
     "text": [
      "eval: 100%|██████████| 3/3 [00:01<00:00,  2.60it/s, mode=Predicting]\n",
      "2019-11-11 17:44:47,699   INFO  Load testing samples from ../data/KITTI/object/testing\n",
      "2019-11-11 17:44:47,699   INFO  Done: total test samples 10\n",
      "2019-11-11 17:44:47,756   INFO  ==> Loading from checkpoint '../trainedModel/car/rcnn/ckpt/checkpoint_epoch_6.pth'\n",
      "2019-11-11 17:44:47,783   INFO  ==> Done\n",
      "2019-11-11 17:44:47,784   INFO  ---- EPOCH 6 JOINT PREDICTION ----\n",
      "2019-11-11 17:44:47,784   INFO  ==> Output file: predicted/noaug/thre155/calib/epoch_6/pred_boxes3d/Car\n",
      "eval:  33%|███▎      | 1/3 [00:00<00:01,  1.86it/s, mode=Predicting]"
     ]
    },
    {
     "name": "stdout",
     "output_type": "stream",
     "text": [
      "<class 'torch.Tensor'>\n"
     ]
    },
    {
     "name": "stderr",
     "output_type": "stream",
     "text": [
      "eval: 100%|██████████| 3/3 [00:01<00:00,  2.54it/s, mode=Predicting]"
     ]
    },
    {
     "name": "stdout",
     "output_type": "stream",
     "text": [
      "<class 'torch.Tensor'>\n",
      "<class 'torch.Tensor'>\n"
     ]
    },
    {
     "name": "stderr",
     "output_type": "stream",
     "text": [
      "eval: 100%|██████████| 3/3 [00:01<00:00,  2.68it/s, mode=Predicting]\n",
      "2019-11-11 17:44:50,923   INFO  Load testing samples from ../data/KITTI/object/testing\n",
      "2019-11-11 17:44:50,924   INFO  Done: total test samples 10\n",
      "2019-11-11 17:44:50,980   INFO  ==> Loading from checkpoint '../trainedModel/car/rcnn/ckpt/checkpoint_epoch_6.pth'\n",
      "2019-11-11 17:44:51,007   INFO  ==> Done\n",
      "2019-11-11 17:44:51,008   INFO  ---- EPOCH 6 JOINT PREDICTION ----\n",
      "2019-11-11 17:44:51,008   INFO  ==> Output file: predicted/noaug/thre155/calib/epoch_6/pred_boxes3d/Car\n",
      "eval:  33%|███▎      | 1/3 [00:00<00:01,  1.87it/s, mode=Predicting]"
     ]
    },
    {
     "name": "stdout",
     "output_type": "stream",
     "text": [
      "<class 'torch.Tensor'>\n"
     ]
    },
    {
     "name": "stderr",
     "output_type": "stream",
     "text": [
      "eval: 100%|██████████| 3/3 [00:01<00:00,  2.54it/s, mode=Predicting]"
     ]
    },
    {
     "name": "stdout",
     "output_type": "stream",
     "text": [
      "<class 'torch.Tensor'>\n",
      "<class 'torch.Tensor'>\n"
     ]
    },
    {
     "name": "stderr",
     "output_type": "stream",
     "text": [
      "eval: 100%|██████████| 3/3 [00:01<00:00,  2.67it/s, mode=Predicting]\n",
      "2019-11-11 17:44:54,430   INFO  Load testing samples from ../data/KITTI/object/testing\n",
      "2019-11-11 17:44:54,430   INFO  Done: total test samples 10\n",
      "2019-11-11 17:44:54,486   INFO  ==> Loading from checkpoint '../trainedModel/car/rcnn/ckpt/checkpoint_epoch_6.pth'\n",
      "2019-11-11 17:44:54,513   INFO  ==> Done\n",
      "2019-11-11 17:44:54,514   INFO  ---- EPOCH 6 JOINT PREDICTION ----\n",
      "2019-11-11 17:44:54,515   INFO  ==> Output file: predicted/noaug/thre155/calib/epoch_6/pred_boxes3d/Car\n",
      "eval:  33%|███▎      | 1/3 [00:00<00:01,  1.89it/s, mode=Predicting]"
     ]
    },
    {
     "name": "stdout",
     "output_type": "stream",
     "text": [
      "<class 'torch.Tensor'>\n"
     ]
    },
    {
     "name": "stderr",
     "output_type": "stream",
     "text": [
      "eval: 100%|██████████| 3/3 [00:01<00:00,  2.57it/s, mode=Predicting]"
     ]
    },
    {
     "name": "stdout",
     "output_type": "stream",
     "text": [
      "<class 'torch.Tensor'>\n",
      "<class 'torch.Tensor'>\n"
     ]
    },
    {
     "name": "stderr",
     "output_type": "stream",
     "text": [
      "eval: 100%|██████████| 3/3 [00:01<00:00,  2.62it/s, mode=Predicting]\n",
      "2019-11-11 17:44:57,672   INFO  Load testing samples from ../data/KITTI/object/testing\n",
      "2019-11-11 17:44:57,673   INFO  Done: total test samples 10\n",
      "2019-11-11 17:44:57,731   INFO  ==> Loading from checkpoint '../trainedModel/car/rcnn/ckpt/checkpoint_epoch_6.pth'\n",
      "2019-11-11 17:44:57,760   INFO  ==> Done\n",
      "2019-11-11 17:44:57,761   INFO  ---- EPOCH 6 JOINT PREDICTION ----\n",
      "2019-11-11 17:44:57,761   INFO  ==> Output file: predicted/noaug/thre155/calib/epoch_6/pred_boxes3d/Car\n",
      "eval:  33%|███▎      | 1/3 [00:00<00:01,  1.84it/s, mode=Predicting]"
     ]
    },
    {
     "name": "stdout",
     "output_type": "stream",
     "text": [
      "<class 'torch.Tensor'>\n"
     ]
    },
    {
     "name": "stderr",
     "output_type": "stream",
     "text": [
      "eval:  67%|██████▋   | 2/3 [00:00<00:00,  2.04it/s, mode=Predicting]"
     ]
    },
    {
     "name": "stdout",
     "output_type": "stream",
     "text": [
      "<class 'torch.Tensor'>\n"
     ]
    },
    {
     "name": "stderr",
     "output_type": "stream",
     "text": [
      "eval: 100%|██████████| 3/3 [00:01<00:00,  2.57it/s, mode=Predicting]"
     ]
    },
    {
     "name": "stdout",
     "output_type": "stream",
     "text": [
      "<class 'torch.Tensor'>\n"
     ]
    },
    {
     "name": "stderr",
     "output_type": "stream",
     "text": [
      "\n",
      "2019-11-11 17:45:00,996   INFO  Load testing samples from ../data/KITTI/object/testing\n",
      "2019-11-11 17:45:00,996   INFO  Done: total test samples 10\n",
      "2019-11-11 17:45:01,054   INFO  ==> Loading from checkpoint '../trainedModel/car/rcnn/ckpt/checkpoint_epoch_6.pth'\n",
      "2019-11-11 17:45:01,082   INFO  ==> Done\n",
      "2019-11-11 17:45:01,083   INFO  ---- EPOCH 6 JOINT PREDICTION ----\n",
      "2019-11-11 17:45:01,084   INFO  ==> Output file: predicted/noaug/thre155/calib/epoch_6/pred_boxes3d/Car\n",
      "eval:  33%|███▎      | 1/3 [00:00<00:01,  1.79it/s, mode=Predicting]"
     ]
    },
    {
     "name": "stdout",
     "output_type": "stream",
     "text": [
      "<class 'torch.Tensor'>\n"
     ]
    },
    {
     "name": "stderr",
     "output_type": "stream",
     "text": [
      "eval: 100%|██████████| 3/3 [00:01<00:00,  2.44it/s, mode=Predicting]"
     ]
    },
    {
     "name": "stdout",
     "output_type": "stream",
     "text": [
      "<class 'torch.Tensor'>\n",
      "<class 'torch.Tensor'>\n"
     ]
    },
    {
     "name": "stderr",
     "output_type": "stream",
     "text": [
      "eval: 100%|██████████| 3/3 [00:01<00:00,  2.57it/s, mode=Predicting]\n",
      "2019-11-11 17:45:04,416   INFO  Load testing samples from ../data/KITTI/object/testing\n",
      "2019-11-11 17:45:04,416   INFO  Done: total test samples 10\n",
      "2019-11-11 17:45:04,472   INFO  ==> Loading from checkpoint '../trainedModel/car/rcnn/ckpt/checkpoint_epoch_6.pth'\n",
      "2019-11-11 17:45:04,499   INFO  ==> Done\n",
      "2019-11-11 17:45:04,500   INFO  ---- EPOCH 6 JOINT PREDICTION ----\n",
      "2019-11-11 17:45:04,500   INFO  ==> Output file: predicted/noaug/thre155/calib/epoch_6/pred_boxes3d/Car\n",
      "eval:  33%|███▎      | 1/3 [00:00<00:01,  1.86it/s, mode=Predicting]"
     ]
    },
    {
     "name": "stdout",
     "output_type": "stream",
     "text": [
      "<class 'torch.Tensor'>\n"
     ]
    },
    {
     "name": "stderr",
     "output_type": "stream",
     "text": [
      "eval:  67%|██████▋   | 2/3 [00:00<00:00,  2.07it/s, mode=Predicting]"
     ]
    },
    {
     "name": "stdout",
     "output_type": "stream",
     "text": [
      "<class 'torch.Tensor'>\n"
     ]
    },
    {
     "name": "stderr",
     "output_type": "stream",
     "text": [
      "eval: 100%|██████████| 3/3 [00:01<00:00,  2.61it/s, mode=Predicting]"
     ]
    },
    {
     "name": "stdout",
     "output_type": "stream",
     "text": [
      "<class 'torch.Tensor'>\n"
     ]
    },
    {
     "name": "stderr",
     "output_type": "stream",
     "text": [
      "\n",
      "2019-11-11 17:45:07,747   INFO  Load testing samples from ../data/KITTI/object/testing\n",
      "2019-11-11 17:45:07,748   INFO  Done: total test samples 10\n",
      "2019-11-11 17:45:07,804   INFO  ==> Loading from checkpoint '../trainedModel/car/rcnn/ckpt/checkpoint_epoch_6.pth'\n",
      "2019-11-11 17:45:07,832   INFO  ==> Done\n",
      "2019-11-11 17:45:07,833   INFO  ---- EPOCH 6 JOINT PREDICTION ----\n",
      "2019-11-11 17:45:07,833   INFO  ==> Output file: predicted/noaug/thre155/calib/epoch_6/pred_boxes3d/Car\n",
      "eval:  33%|███▎      | 1/3 [00:00<00:01,  1.94it/s, mode=Predicting]"
     ]
    },
    {
     "name": "stdout",
     "output_type": "stream",
     "text": [
      "<class 'torch.Tensor'>\n"
     ]
    },
    {
     "name": "stderr",
     "output_type": "stream",
     "text": [
      "eval: 100%|██████████| 3/3 [00:01<00:00,  2.61it/s, mode=Predicting]"
     ]
    },
    {
     "name": "stdout",
     "output_type": "stream",
     "text": [
      "<class 'torch.Tensor'>\n",
      "<class 'torch.Tensor'>\n"
     ]
    },
    {
     "name": "stderr",
     "output_type": "stream",
     "text": [
      "eval: 100%|██████████| 3/3 [00:01<00:00,  2.72it/s, mode=Predicting]\n",
      "2019-11-11 17:45:11,107   INFO  Load testing samples from ../data/KITTI/object/testing\n",
      "2019-11-11 17:45:11,108   INFO  Done: total test samples 10\n",
      "2019-11-11 17:45:11,164   INFO  ==> Loading from checkpoint '../trainedModel/car/rcnn/ckpt/checkpoint_epoch_6.pth'\n",
      "2019-11-11 17:45:11,191   INFO  ==> Done\n",
      "2019-11-11 17:45:11,192   INFO  ---- EPOCH 6 JOINT PREDICTION ----\n",
      "2019-11-11 17:45:11,193   INFO  ==> Output file: predicted/noaug/thre155/calib/epoch_6/pred_boxes3d/Car\n",
      "eval:  33%|███▎      | 1/3 [00:00<00:01,  1.89it/s, mode=Predicting]"
     ]
    },
    {
     "name": "stdout",
     "output_type": "stream",
     "text": [
      "<class 'torch.Tensor'>\n"
     ]
    },
    {
     "name": "stderr",
     "output_type": "stream",
     "text": [
      "eval: 100%|██████████| 3/3 [00:01<00:00,  2.56it/s, mode=Predicting]"
     ]
    },
    {
     "name": "stdout",
     "output_type": "stream",
     "text": [
      "<class 'torch.Tensor'>\n",
      "<class 'torch.Tensor'>\n"
     ]
    },
    {
     "name": "stderr",
     "output_type": "stream",
     "text": [
      "eval: 100%|██████████| 3/3 [00:01<00:00,  2.68it/s, mode=Predicting]\n",
      "2019-11-11 17:45:14,441   INFO  Load testing samples from ../data/KITTI/object/testing\n",
      "2019-11-11 17:45:14,442   INFO  Done: total test samples 10\n",
      "2019-11-11 17:45:14,498   INFO  ==> Loading from checkpoint '../trainedModel/car/rcnn/ckpt/checkpoint_epoch_6.pth'\n",
      "2019-11-11 17:45:14,525   INFO  ==> Done\n",
      "2019-11-11 17:45:14,526   INFO  ---- EPOCH 6 JOINT PREDICTION ----\n",
      "2019-11-11 17:45:14,526   INFO  ==> Output file: predicted/noaug/thre155/calib/epoch_6/pred_boxes3d/Car\n",
      "eval:  33%|███▎      | 1/3 [00:00<00:01,  1.84it/s, mode=Predicting]"
     ]
    },
    {
     "name": "stdout",
     "output_type": "stream",
     "text": [
      "<class 'torch.Tensor'>\n"
     ]
    },
    {
     "name": "stderr",
     "output_type": "stream",
     "text": [
      "eval: 100%|██████████| 3/3 [00:01<00:00,  2.52it/s, mode=Predicting]"
     ]
    },
    {
     "name": "stdout",
     "output_type": "stream",
     "text": [
      "<class 'torch.Tensor'>\n",
      "<class 'torch.Tensor'>\n"
     ]
    },
    {
     "name": "stderr",
     "output_type": "stream",
     "text": [
      "eval: 100%|██████████| 3/3 [00:01<00:00,  2.65it/s, mode=Predicting]\n",
      "2019-11-11 17:45:17,850   INFO  Load testing samples from ../data/KITTI/object/testing\n",
      "2019-11-11 17:45:17,850   INFO  Done: total test samples 10\n",
      "2019-11-11 17:45:17,907   INFO  ==> Loading from checkpoint '../trainedModel/car/rcnn/ckpt/checkpoint_epoch_6.pth'\n",
      "2019-11-11 17:45:17,934   INFO  ==> Done\n",
      "2019-11-11 17:45:17,935   INFO  ---- EPOCH 6 JOINT PREDICTION ----\n",
      "2019-11-11 17:45:17,935   INFO  ==> Output file: predicted/noaug/thre155/calib/epoch_6/pred_boxes3d/Car\n",
      "eval:  33%|███▎      | 1/3 [00:00<00:01,  1.84it/s, mode=Predicting]"
     ]
    },
    {
     "name": "stdout",
     "output_type": "stream",
     "text": [
      "<class 'torch.Tensor'>\n"
     ]
    },
    {
     "name": "stderr",
     "output_type": "stream",
     "text": [
      "eval: 100%|██████████| 3/3 [00:01<00:00,  2.52it/s, mode=Predicting]"
     ]
    },
    {
     "name": "stdout",
     "output_type": "stream",
     "text": [
      "<class 'torch.Tensor'>\n",
      "<class 'torch.Tensor'>\n"
     ]
    },
    {
     "name": "stderr",
     "output_type": "stream",
     "text": [
      "eval: 100%|██████████| 3/3 [00:01<00:00,  2.66it/s, mode=Predicting]\n",
      "2019-11-11 17:45:21,238   INFO  Load testing samples from ../data/KITTI/object/testing\n",
      "2019-11-11 17:45:21,238   INFO  Done: total test samples 10\n",
      "2019-11-11 17:45:21,295   INFO  ==> Loading from checkpoint '../trainedModel/car/rcnn/ckpt/checkpoint_epoch_6.pth'\n",
      "2019-11-11 17:45:21,321   INFO  ==> Done\n",
      "2019-11-11 17:45:21,322   INFO  ---- EPOCH 6 JOINT PREDICTION ----\n",
      "2019-11-11 17:45:21,322   INFO  ==> Output file: predicted/noaug/thre155/calib/epoch_6/pred_boxes3d/Car\n",
      "eval:  33%|███▎      | 1/3 [00:00<00:01,  1.91it/s, mode=Predicting]"
     ]
    },
    {
     "name": "stdout",
     "output_type": "stream",
     "text": [
      "<class 'torch.Tensor'>\n"
     ]
    },
    {
     "name": "stderr",
     "output_type": "stream",
     "text": [
      "eval:  67%|██████▋   | 2/3 [00:00<00:00,  2.11it/s, mode=Predicting]"
     ]
    },
    {
     "name": "stdout",
     "output_type": "stream",
     "text": [
      "<class 'torch.Tensor'>\n"
     ]
    },
    {
     "name": "stderr",
     "output_type": "stream",
     "text": [
      "eval: 100%|██████████| 3/3 [00:01<00:00,  2.65it/s, mode=Predicting]"
     ]
    },
    {
     "name": "stdout",
     "output_type": "stream",
     "text": [
      "<class 'torch.Tensor'>\n"
     ]
    },
    {
     "name": "stderr",
     "output_type": "stream",
     "text": [
      "\n",
      "2019-11-11 17:45:24,525   INFO  Load testing samples from ../data/KITTI/object/testing\n",
      "2019-11-11 17:45:24,525   INFO  Done: total test samples 10\n",
      "2019-11-11 17:45:24,582   INFO  ==> Loading from checkpoint '../trainedModel/car/rcnn/ckpt/checkpoint_epoch_6.pth'\n",
      "2019-11-11 17:45:24,609   INFO  ==> Done\n",
      "2019-11-11 17:45:24,610   INFO  ---- EPOCH 6 JOINT PREDICTION ----\n",
      "2019-11-11 17:45:24,611   INFO  ==> Output file: predicted/noaug/thre155/calib/epoch_6/pred_boxes3d/Car\n",
      "eval:  33%|███▎      | 1/3 [00:00<00:01,  1.85it/s, mode=Predicting]"
     ]
    },
    {
     "name": "stdout",
     "output_type": "stream",
     "text": [
      "<class 'torch.Tensor'>\n"
     ]
    },
    {
     "name": "stderr",
     "output_type": "stream",
     "text": [
      "eval: 100%|██████████| 3/3 [00:01<00:00,  2.49it/s, mode=Predicting]"
     ]
    },
    {
     "name": "stdout",
     "output_type": "stream",
     "text": [
      "<class 'torch.Tensor'>\n",
      "<class 'torch.Tensor'>\n"
     ]
    },
    {
     "name": "stderr",
     "output_type": "stream",
     "text": [
      "eval: 100%|██████████| 3/3 [00:01<00:00,  2.54it/s, mode=Predicting]\n",
      "2019-11-11 17:45:28,075   INFO  Load testing samples from ../data/KITTI/object/testing\n",
      "2019-11-11 17:45:28,076   INFO  Done: total test samples 10\n",
      "2019-11-11 17:45:28,133   INFO  ==> Loading from checkpoint '../trainedModel/car/rcnn/ckpt/checkpoint_epoch_6.pth'\n",
      "2019-11-11 17:45:28,161   INFO  ==> Done\n",
      "2019-11-11 17:45:28,162   INFO  ---- EPOCH 6 JOINT PREDICTION ----\n",
      "2019-11-11 17:45:28,163   INFO  ==> Output file: predicted/noaug/thre155/calib/epoch_6/pred_boxes3d/Car\n",
      "eval:  33%|███▎      | 1/3 [00:00<00:01,  1.82it/s, mode=Predicting]"
     ]
    },
    {
     "name": "stdout",
     "output_type": "stream",
     "text": [
      "<class 'torch.Tensor'>\n"
     ]
    },
    {
     "name": "stderr",
     "output_type": "stream",
     "text": [
      "eval: 100%|██████████| 3/3 [00:01<00:00,  2.48it/s, mode=Predicting]"
     ]
    },
    {
     "name": "stdout",
     "output_type": "stream",
     "text": [
      "<class 'torch.Tensor'>\n",
      "<class 'torch.Tensor'>\n"
     ]
    },
    {
     "name": "stderr",
     "output_type": "stream",
     "text": [
      "eval: 100%|██████████| 3/3 [00:01<00:00,  2.60it/s, mode=Predicting]\n",
      "2019-11-11 17:45:31,397   INFO  Load testing samples from ../data/KITTI/object/testing\n",
      "2019-11-11 17:45:31,397   INFO  Done: total test samples 10\n",
      "2019-11-11 17:45:31,455   INFO  ==> Loading from checkpoint '../trainedModel/car/rcnn/ckpt/checkpoint_epoch_6.pth'\n",
      "2019-11-11 17:45:31,483   INFO  ==> Done\n",
      "2019-11-11 17:45:31,483   INFO  ---- EPOCH 6 JOINT PREDICTION ----\n",
      "2019-11-11 17:45:31,484   INFO  ==> Output file: predicted/noaug/thre155/calib/epoch_6/pred_boxes3d/Car\n",
      "eval:  33%|███▎      | 1/3 [00:00<00:01,  1.87it/s, mode=Predicting]"
     ]
    },
    {
     "name": "stdout",
     "output_type": "stream",
     "text": [
      "<class 'torch.Tensor'>\n"
     ]
    },
    {
     "name": "stderr",
     "output_type": "stream",
     "text": [
      "eval: 100%|██████████| 3/3 [00:01<00:00,  2.55it/s, mode=Predicting]"
     ]
    },
    {
     "name": "stdout",
     "output_type": "stream",
     "text": [
      "<class 'torch.Tensor'>\n",
      "<class 'torch.Tensor'>\n"
     ]
    },
    {
     "name": "stderr",
     "output_type": "stream",
     "text": [
      "eval: 100%|██████████| 3/3 [00:01<00:00,  2.68it/s, mode=Predicting]\n",
      "2019-11-11 17:45:34,706   INFO  Load testing samples from ../data/KITTI/object/testing\n",
      "2019-11-11 17:45:34,707   INFO  Done: total test samples 10\n",
      "2019-11-11 17:45:34,763   INFO  ==> Loading from checkpoint '../trainedModel/car/rcnn/ckpt/checkpoint_epoch_6.pth'\n",
      "2019-11-11 17:45:34,790   INFO  ==> Done\n",
      "2019-11-11 17:45:34,790   INFO  ---- EPOCH 6 JOINT PREDICTION ----\n",
      "2019-11-11 17:45:34,791   INFO  ==> Output file: predicted/noaug/thre155/calib/epoch_6/pred_boxes3d/Car\n",
      "eval:  33%|███▎      | 1/3 [00:00<00:01,  1.83it/s, mode=Predicting]"
     ]
    },
    {
     "name": "stdout",
     "output_type": "stream",
     "text": [
      "<class 'torch.Tensor'>\n"
     ]
    },
    {
     "name": "stderr",
     "output_type": "stream",
     "text": [
      "eval:  67%|██████▋   | 2/3 [00:00<00:00,  2.06it/s, mode=Predicting]"
     ]
    },
    {
     "name": "stdout",
     "output_type": "stream",
     "text": [
      "<class 'torch.Tensor'>\n"
     ]
    },
    {
     "name": "stderr",
     "output_type": "stream",
     "text": [
      "eval: 100%|██████████| 3/3 [00:01<00:00,  2.60it/s, mode=Predicting]"
     ]
    },
    {
     "name": "stdout",
     "output_type": "stream",
     "text": [
      "<class 'torch.Tensor'>\n"
     ]
    },
    {
     "name": "stderr",
     "output_type": "stream",
     "text": [
      "\n",
      "2019-11-11 17:45:37,904   INFO  Load testing samples from ../data/KITTI/object/testing\n",
      "2019-11-11 17:45:37,904   INFO  Done: total test samples 10\n",
      "2019-11-11 17:45:37,961   INFO  ==> Loading from checkpoint '../trainedModel/car/rcnn/ckpt/checkpoint_epoch_6.pth'\n",
      "2019-11-11 17:45:37,988   INFO  ==> Done\n",
      "2019-11-11 17:45:37,989   INFO  ---- EPOCH 6 JOINT PREDICTION ----\n",
      "2019-11-11 17:45:37,989   INFO  ==> Output file: predicted/noaug/thre155/calib/epoch_6/pred_boxes3d/Car\n",
      "eval:  33%|███▎      | 1/3 [00:00<00:01,  1.92it/s, mode=Predicting]"
     ]
    },
    {
     "name": "stdout",
     "output_type": "stream",
     "text": [
      "<class 'torch.Tensor'>\n"
     ]
    },
    {
     "name": "stderr",
     "output_type": "stream",
     "text": [
      "eval:  67%|██████▋   | 2/3 [00:00<00:00,  2.13it/s, mode=Predicting]"
     ]
    },
    {
     "name": "stdout",
     "output_type": "stream",
     "text": [
      "<class 'torch.Tensor'>\n"
     ]
    },
    {
     "name": "stderr",
     "output_type": "stream",
     "text": [
      "eval: 100%|██████████| 3/3 [00:01<00:00,  2.69it/s, mode=Predicting]"
     ]
    },
    {
     "name": "stdout",
     "output_type": "stream",
     "text": [
      "<class 'torch.Tensor'>\n"
     ]
    },
    {
     "name": "stderr",
     "output_type": "stream",
     "text": [
      "\n",
      "2019-11-11 17:45:41,291   INFO  Load testing samples from ../data/KITTI/object/testing\n",
      "2019-11-11 17:45:41,292   INFO  Done: total test samples 10\n",
      "2019-11-11 17:45:41,348   INFO  ==> Loading from checkpoint '../trainedModel/car/rcnn/ckpt/checkpoint_epoch_6.pth'\n",
      "2019-11-11 17:45:41,375   INFO  ==> Done\n",
      "2019-11-11 17:45:41,376   INFO  ---- EPOCH 6 JOINT PREDICTION ----\n",
      "2019-11-11 17:45:41,376   INFO  ==> Output file: predicted/noaug/thre155/calib/epoch_6/pred_boxes3d/Car\n",
      "eval:  33%|███▎      | 1/3 [00:00<00:01,  1.92it/s, mode=Predicting]"
     ]
    },
    {
     "name": "stdout",
     "output_type": "stream",
     "text": [
      "<class 'torch.Tensor'>\n"
     ]
    },
    {
     "name": "stderr",
     "output_type": "stream",
     "text": [
      "eval:  67%|██████▋   | 2/3 [00:00<00:00,  2.14it/s, mode=Predicting]"
     ]
    },
    {
     "name": "stdout",
     "output_type": "stream",
     "text": [
      "<class 'torch.Tensor'>\n",
      "<class 'torch.Tensor'>\n"
     ]
    },
    {
     "name": "stderr",
     "output_type": "stream",
     "text": [
      "eval: 100%|██████████| 3/3 [00:01<00:00,  2.69it/s, mode=Predicting]\n",
      "2019-11-11 17:45:44,510   INFO  Load testing samples from ../data/KITTI/object/testing\n",
      "2019-11-11 17:45:44,510   INFO  Done: total test samples 10\n",
      "2019-11-11 17:45:44,567   INFO  ==> Loading from checkpoint '../trainedModel/car/rcnn/ckpt/checkpoint_epoch_6.pth'\n",
      "2019-11-11 17:45:44,595   INFO  ==> Done\n",
      "2019-11-11 17:45:44,596   INFO  ---- EPOCH 6 JOINT PREDICTION ----\n",
      "2019-11-11 17:45:44,596   INFO  ==> Output file: predicted/noaug/thre155/calib/epoch_6/pred_boxes3d/Car\n",
      "eval:  33%|███▎      | 1/3 [00:00<00:01,  1.80it/s, mode=Predicting]"
     ]
    },
    {
     "name": "stdout",
     "output_type": "stream",
     "text": [
      "<class 'torch.Tensor'>\n"
     ]
    },
    {
     "name": "stderr",
     "output_type": "stream",
     "text": [
      "eval:  67%|██████▋   | 2/3 [00:00<00:00,  2.03it/s, mode=Predicting]"
     ]
    },
    {
     "name": "stdout",
     "output_type": "stream",
     "text": [
      "<class 'torch.Tensor'>\n"
     ]
    },
    {
     "name": "stderr",
     "output_type": "stream",
     "text": [
      "eval: 100%|██████████| 3/3 [00:01<00:00,  2.47it/s, mode=Predicting]"
     ]
    },
    {
     "name": "stdout",
     "output_type": "stream",
     "text": [
      "<class 'torch.Tensor'>\n"
     ]
    },
    {
     "name": "stderr",
     "output_type": "stream",
     "text": [
      "\n",
      "2019-11-11 17:45:47,924   INFO  Load testing samples from ../data/KITTI/object/testing\n",
      "2019-11-11 17:45:47,924   INFO  Done: total test samples 10\n",
      "2019-11-11 17:45:47,984   INFO  ==> Loading from checkpoint '../trainedModel/car/rcnn/ckpt/checkpoint_epoch_6.pth'\n",
      "2019-11-11 17:45:48,016   INFO  ==> Done\n",
      "2019-11-11 17:45:48,018   INFO  ---- EPOCH 6 JOINT PREDICTION ----\n",
      "2019-11-11 17:45:48,018   INFO  ==> Output file: predicted/noaug/thre155/calib/epoch_6/pred_boxes3d/Car\n",
      "eval:  33%|███▎      | 1/3 [00:00<00:01,  1.67it/s, mode=Predicting]"
     ]
    },
    {
     "name": "stdout",
     "output_type": "stream",
     "text": [
      "<class 'torch.Tensor'>\n"
     ]
    },
    {
     "name": "stderr",
     "output_type": "stream",
     "text": [
      "eval:  67%|██████▋   | 2/3 [00:00<00:00,  1.87it/s, mode=Predicting]"
     ]
    },
    {
     "name": "stdout",
     "output_type": "stream",
     "text": [
      "<class 'torch.Tensor'>\n"
     ]
    },
    {
     "name": "stderr",
     "output_type": "stream",
     "text": [
      "eval: 100%|██████████| 3/3 [00:01<00:00,  2.35it/s, mode=Predicting]"
     ]
    },
    {
     "name": "stdout",
     "output_type": "stream",
     "text": [
      "<class 'torch.Tensor'>\n"
     ]
    },
    {
     "name": "stderr",
     "output_type": "stream",
     "text": [
      "\n",
      "2019-11-11 17:45:51,435   INFO  Load testing samples from ../data/KITTI/object/testing\n",
      "2019-11-11 17:45:51,435   INFO  Done: total test samples 10\n",
      "2019-11-11 17:45:51,492   INFO  ==> Loading from checkpoint '../trainedModel/car/rcnn/ckpt/checkpoint_epoch_6.pth'\n",
      "2019-11-11 17:45:51,519   INFO  ==> Done\n",
      "2019-11-11 17:45:51,520   INFO  ---- EPOCH 6 JOINT PREDICTION ----\n",
      "2019-11-11 17:45:51,520   INFO  ==> Output file: predicted/noaug/thre155/calib/epoch_6/pred_boxes3d/Car\n",
      "eval:  33%|███▎      | 1/3 [00:00<00:01,  1.83it/s, mode=Predicting]"
     ]
    },
    {
     "name": "stdout",
     "output_type": "stream",
     "text": [
      "<class 'torch.Tensor'>\n"
     ]
    },
    {
     "name": "stderr",
     "output_type": "stream",
     "text": [
      "eval: 100%|██████████| 3/3 [00:01<00:00,  2.51it/s, mode=Predicting]"
     ]
    },
    {
     "name": "stdout",
     "output_type": "stream",
     "text": [
      "<class 'torch.Tensor'>\n",
      "<class 'torch.Tensor'>\n"
     ]
    },
    {
     "name": "stderr",
     "output_type": "stream",
     "text": [
      "eval: 100%|██████████| 3/3 [00:01<00:00,  2.64it/s, mode=Predicting]\n",
      "2019-11-11 17:45:54,835   INFO  Load testing samples from ../data/KITTI/object/testing\n",
      "2019-11-11 17:45:54,836   INFO  Done: total test samples 10\n",
      "2019-11-11 17:45:54,896   INFO  ==> Loading from checkpoint '../trainedModel/car/rcnn/ckpt/checkpoint_epoch_6.pth'\n",
      "2019-11-11 17:45:54,924   INFO  ==> Done\n",
      "2019-11-11 17:45:54,925   INFO  ---- EPOCH 6 JOINT PREDICTION ----\n",
      "2019-11-11 17:45:54,925   INFO  ==> Output file: predicted/noaug/thre155/calib/epoch_6/pred_boxes3d/Car\n",
      "eval:  33%|███▎      | 1/3 [00:00<00:01,  1.82it/s, mode=Predicting]"
     ]
    },
    {
     "name": "stdout",
     "output_type": "stream",
     "text": [
      "<class 'torch.Tensor'>\n"
     ]
    },
    {
     "name": "stderr",
     "output_type": "stream",
     "text": [
      "eval:  67%|██████▋   | 2/3 [00:00<00:00,  2.05it/s, mode=Predicting]"
     ]
    },
    {
     "name": "stdout",
     "output_type": "stream",
     "text": [
      "<class 'torch.Tensor'>\n"
     ]
    },
    {
     "name": "stderr",
     "output_type": "stream",
     "text": [
      "eval: 100%|██████████| 3/3 [00:01<00:00,  2.61it/s, mode=Predicting]"
     ]
    },
    {
     "name": "stdout",
     "output_type": "stream",
     "text": [
      "<class 'torch.Tensor'>\n"
     ]
    },
    {
     "name": "stderr",
     "output_type": "stream",
     "text": [
      "\n",
      "2019-11-11 17:45:58,238   INFO  Load testing samples from ../data/KITTI/object/testing\n",
      "2019-11-11 17:45:58,239   INFO  Done: total test samples 10\n",
      "2019-11-11 17:45:58,297   INFO  ==> Loading from checkpoint '../trainedModel/car/rcnn/ckpt/checkpoint_epoch_6.pth'\n",
      "2019-11-11 17:45:58,325   INFO  ==> Done\n",
      "2019-11-11 17:45:58,326   INFO  ---- EPOCH 6 JOINT PREDICTION ----\n",
      "2019-11-11 17:45:58,326   INFO  ==> Output file: predicted/noaug/thre155/calib/epoch_6/pred_boxes3d/Car\n",
      "eval:  33%|███▎      | 1/3 [00:00<00:01,  1.65it/s, mode=Predicting]"
     ]
    },
    {
     "name": "stdout",
     "output_type": "stream",
     "text": [
      "<class 'torch.Tensor'>\n"
     ]
    },
    {
     "name": "stderr",
     "output_type": "stream",
     "text": [
      "eval:  67%|██████▋   | 2/3 [00:00<00:00,  1.85it/s, mode=Predicting]"
     ]
    },
    {
     "name": "stdout",
     "output_type": "stream",
     "text": [
      "<class 'torch.Tensor'>\n"
     ]
    },
    {
     "name": "stderr",
     "output_type": "stream",
     "text": [
      "eval: 100%|██████████| 3/3 [00:01<00:00,  2.28it/s, mode=Predicting]"
     ]
    },
    {
     "name": "stdout",
     "output_type": "stream",
     "text": [
      "<class 'torch.Tensor'>\n"
     ]
    },
    {
     "name": "stderr",
     "output_type": "stream",
     "text": [
      "\n",
      "2019-11-11 17:46:01,770   INFO  Load testing samples from ../data/KITTI/object/testing\n",
      "2019-11-11 17:46:01,770   INFO  Done: total test samples 10\n",
      "2019-11-11 17:46:01,827   INFO  ==> Loading from checkpoint '../trainedModel/car/rcnn/ckpt/checkpoint_epoch_6.pth'\n",
      "2019-11-11 17:46:01,854   INFO  ==> Done\n",
      "2019-11-11 17:46:01,855   INFO  ---- EPOCH 6 JOINT PREDICTION ----\n",
      "2019-11-11 17:46:01,855   INFO  ==> Output file: predicted/noaug/thre155/calib/epoch_6/pred_boxes3d/Car\n",
      "eval:  33%|███▎      | 1/3 [00:00<00:01,  1.91it/s, mode=Predicting]"
     ]
    },
    {
     "name": "stdout",
     "output_type": "stream",
     "text": [
      "<class 'torch.Tensor'>\n"
     ]
    },
    {
     "name": "stderr",
     "output_type": "stream",
     "text": [
      "eval: 100%|██████████| 3/3 [00:01<00:00,  2.58it/s, mode=Predicting]"
     ]
    },
    {
     "name": "stdout",
     "output_type": "stream",
     "text": [
      "<class 'torch.Tensor'>\n",
      "<class 'torch.Tensor'>\n"
     ]
    },
    {
     "name": "stderr",
     "output_type": "stream",
     "text": [
      "eval: 100%|██████████| 3/3 [00:01<00:00,  2.70it/s, mode=Predicting]\n",
      "2019-11-11 17:46:05,142   INFO  Load testing samples from ../data/KITTI/object/testing\n",
      "2019-11-11 17:46:05,143   INFO  Done: total test samples 10\n",
      "2019-11-11 17:46:05,199   INFO  ==> Loading from checkpoint '../trainedModel/car/rcnn/ckpt/checkpoint_epoch_6.pth'\n",
      "2019-11-11 17:46:05,226   INFO  ==> Done\n",
      "2019-11-11 17:46:05,227   INFO  ---- EPOCH 6 JOINT PREDICTION ----\n",
      "2019-11-11 17:46:05,227   INFO  ==> Output file: predicted/noaug/thre155/calib/epoch_6/pred_boxes3d/Car\n",
      "eval:  33%|███▎      | 1/3 [00:00<00:01,  1.74it/s, mode=Predicting]"
     ]
    },
    {
     "name": "stdout",
     "output_type": "stream",
     "text": [
      "<class 'torch.Tensor'>\n"
     ]
    },
    {
     "name": "stderr",
     "output_type": "stream",
     "text": [
      "eval: 100%|██████████| 3/3 [00:01<00:00,  2.41it/s, mode=Predicting]"
     ]
    },
    {
     "name": "stdout",
     "output_type": "stream",
     "text": [
      "<class 'torch.Tensor'>\n",
      "<class 'torch.Tensor'>\n"
     ]
    },
    {
     "name": "stderr",
     "output_type": "stream",
     "text": [
      "eval: 100%|██████████| 3/3 [00:01<00:00,  2.55it/s, mode=Predicting]\n",
      "2019-11-11 17:46:08,535   INFO  Load testing samples from ../data/KITTI/object/testing\n",
      "2019-11-11 17:46:08,535   INFO  Done: total test samples 10\n",
      "2019-11-11 17:46:08,595   INFO  ==> Loading from checkpoint '../trainedModel/car/rcnn/ckpt/checkpoint_epoch_6.pth'\n",
      "2019-11-11 17:46:08,624   INFO  ==> Done\n",
      "2019-11-11 17:46:08,625   INFO  ---- EPOCH 6 JOINT PREDICTION ----\n",
      "2019-11-11 17:46:08,627   INFO  ==> Output file: predicted/noaug/thre155/calib/epoch_6/pred_boxes3d/Car\n",
      "eval:  33%|███▎      | 1/3 [00:00<00:01,  1.69it/s, mode=Predicting]"
     ]
    },
    {
     "name": "stdout",
     "output_type": "stream",
     "text": [
      "<class 'torch.Tensor'>\n"
     ]
    },
    {
     "name": "stderr",
     "output_type": "stream",
     "text": [
      "eval:  67%|██████▋   | 2/3 [00:00<00:00,  1.88it/s, mode=Predicting]"
     ]
    },
    {
     "name": "stdout",
     "output_type": "stream",
     "text": [
      "<class 'torch.Tensor'>\n"
     ]
    },
    {
     "name": "stderr",
     "output_type": "stream",
     "text": [
      "eval: 100%|██████████| 3/3 [00:01<00:00,  2.39it/s, mode=Predicting]"
     ]
    },
    {
     "name": "stdout",
     "output_type": "stream",
     "text": [
      "<class 'torch.Tensor'>\n"
     ]
    },
    {
     "name": "stderr",
     "output_type": "stream",
     "text": [
      "\n",
      "2019-11-11 17:46:12,078   INFO  Load testing samples from ../data/KITTI/object/testing\n",
      "2019-11-11 17:46:12,079   INFO  Done: total test samples 10\n",
      "2019-11-11 17:46:12,135   INFO  ==> Loading from checkpoint '../trainedModel/car/rcnn/ckpt/checkpoint_epoch_6.pth'\n",
      "2019-11-11 17:46:12,162   INFO  ==> Done\n",
      "2019-11-11 17:46:12,163   INFO  ---- EPOCH 6 JOINT PREDICTION ----\n",
      "2019-11-11 17:46:12,163   INFO  ==> Output file: predicted/noaug/thre155/calib/epoch_6/pred_boxes3d/Car\n",
      "eval:  33%|███▎      | 1/3 [00:00<00:01,  1.93it/s, mode=Predicting]"
     ]
    },
    {
     "name": "stdout",
     "output_type": "stream",
     "text": [
      "<class 'torch.Tensor'>\n"
     ]
    },
    {
     "name": "stderr",
     "output_type": "stream",
     "text": [
      "eval: 100%|██████████| 3/3 [00:01<00:00,  2.61it/s, mode=Predicting]"
     ]
    },
    {
     "name": "stdout",
     "output_type": "stream",
     "text": [
      "<class 'torch.Tensor'>\n",
      "<class 'torch.Tensor'>\n"
     ]
    },
    {
     "name": "stderr",
     "output_type": "stream",
     "text": [
      "eval: 100%|██████████| 3/3 [00:01<00:00,  2.73it/s, mode=Predicting]\n",
      "2019-11-11 17:46:15,429   INFO  Load testing samples from ../data/KITTI/object/testing\n",
      "2019-11-11 17:46:15,429   INFO  Done: total test samples 10\n",
      "2019-11-11 17:46:15,496   INFO  ==> Loading from checkpoint '../trainedModel/car/rcnn/ckpt/checkpoint_epoch_6.pth'\n",
      "2019-11-11 17:46:15,530   INFO  ==> Done\n",
      "2019-11-11 17:46:15,531   INFO  ---- EPOCH 6 JOINT PREDICTION ----\n",
      "2019-11-11 17:46:15,531   INFO  ==> Output file: predicted/noaug/thre155/calib/epoch_6/pred_boxes3d/Car\n",
      "eval:  33%|███▎      | 1/3 [00:00<00:01,  1.72it/s, mode=Predicting]"
     ]
    },
    {
     "name": "stdout",
     "output_type": "stream",
     "text": [
      "<class 'torch.Tensor'>\n"
     ]
    },
    {
     "name": "stderr",
     "output_type": "stream",
     "text": [
      "eval:  67%|██████▋   | 2/3 [00:00<00:00,  1.93it/s, mode=Predicting]"
     ]
    },
    {
     "name": "stdout",
     "output_type": "stream",
     "text": [
      "<class 'torch.Tensor'>\n"
     ]
    },
    {
     "name": "stderr",
     "output_type": "stream",
     "text": [
      "eval: 100%|██████████| 3/3 [00:01<00:00,  2.37it/s, mode=Predicting]"
     ]
    },
    {
     "name": "stdout",
     "output_type": "stream",
     "text": [
      "<class 'torch.Tensor'>\n"
     ]
    },
    {
     "name": "stderr",
     "output_type": "stream",
     "text": [
      "\n",
      "2019-11-11 17:46:18,817   INFO  Load testing samples from ../data/KITTI/object/testing\n",
      "2019-11-11 17:46:18,818   INFO  Done: total test samples 10\n",
      "2019-11-11 17:46:18,875   INFO  ==> Loading from checkpoint '../trainedModel/car/rcnn/ckpt/checkpoint_epoch_6.pth'\n",
      "2019-11-11 17:46:18,903   INFO  ==> Done\n",
      "2019-11-11 17:46:18,904   INFO  ---- EPOCH 6 JOINT PREDICTION ----\n",
      "2019-11-11 17:46:18,904   INFO  ==> Output file: predicted/noaug/thre155/calib/epoch_6/pred_boxes3d/Car\n",
      "eval:  33%|███▎      | 1/3 [00:00<00:01,  1.88it/s, mode=Predicting]"
     ]
    },
    {
     "name": "stdout",
     "output_type": "stream",
     "text": [
      "<class 'torch.Tensor'>\n"
     ]
    },
    {
     "name": "stderr",
     "output_type": "stream",
     "text": [
      "eval:  67%|██████▋   | 2/3 [00:00<00:00,  2.10it/s, mode=Predicting]"
     ]
    },
    {
     "name": "stdout",
     "output_type": "stream",
     "text": [
      "<class 'torch.Tensor'>\n"
     ]
    },
    {
     "name": "stderr",
     "output_type": "stream",
     "text": [
      "eval: 100%|██████████| 3/3 [00:01<00:00,  2.65it/s, mode=Predicting]"
     ]
    },
    {
     "name": "stdout",
     "output_type": "stream",
     "text": [
      "<class 'torch.Tensor'>\n"
     ]
    },
    {
     "name": "stderr",
     "output_type": "stream",
     "text": [
      "\n",
      "2019-11-11 17:46:22,227   INFO  Load testing samples from ../data/KITTI/object/testing\n",
      "2019-11-11 17:46:22,228   INFO  Done: total test samples 10\n",
      "2019-11-11 17:46:22,287   INFO  ==> Loading from checkpoint '../trainedModel/car/rcnn/ckpt/checkpoint_epoch_6.pth'\n",
      "2019-11-11 17:46:22,317   INFO  ==> Done\n",
      "2019-11-11 17:46:22,318   INFO  ---- EPOCH 6 JOINT PREDICTION ----\n",
      "2019-11-11 17:46:22,319   INFO  ==> Output file: predicted/noaug/thre155/calib/epoch_6/pred_boxes3d/Car\n",
      "eval:  33%|███▎      | 1/3 [00:00<00:01,  1.65it/s, mode=Predicting]"
     ]
    },
    {
     "name": "stdout",
     "output_type": "stream",
     "text": [
      "<class 'torch.Tensor'>\n"
     ]
    },
    {
     "name": "stderr",
     "output_type": "stream",
     "text": [
      "eval:  67%|██████▋   | 2/3 [00:00<00:00,  1.85it/s, mode=Predicting]"
     ]
    },
    {
     "name": "stdout",
     "output_type": "stream",
     "text": [
      "<class 'torch.Tensor'>\n"
     ]
    },
    {
     "name": "stderr",
     "output_type": "stream",
     "text": [
      "eval: 100%|██████████| 3/3 [00:01<00:00,  2.36it/s, mode=Predicting]"
     ]
    },
    {
     "name": "stdout",
     "output_type": "stream",
     "text": [
      "<class 'torch.Tensor'>\n"
     ]
    },
    {
     "name": "stderr",
     "output_type": "stream",
     "text": [
      "\n",
      "2019-11-11 17:46:25,555   INFO  Load testing samples from ../data/KITTI/object/testing\n",
      "2019-11-11 17:46:25,556   INFO  Done: total test samples 10\n",
      "2019-11-11 17:46:25,612   INFO  ==> Loading from checkpoint '../trainedModel/car/rcnn/ckpt/checkpoint_epoch_6.pth'\n",
      "2019-11-11 17:46:25,639   INFO  ==> Done\n",
      "2019-11-11 17:46:25,640   INFO  ---- EPOCH 6 JOINT PREDICTION ----\n",
      "2019-11-11 17:46:25,640   INFO  ==> Output file: predicted/noaug/thre155/calib/epoch_6/pred_boxes3d/Car\n",
      "eval:  33%|███▎      | 1/3 [00:00<00:01,  1.87it/s, mode=Predicting]"
     ]
    },
    {
     "name": "stdout",
     "output_type": "stream",
     "text": [
      "<class 'torch.Tensor'>\n"
     ]
    },
    {
     "name": "stderr",
     "output_type": "stream",
     "text": [
      "eval:  67%|██████▋   | 2/3 [00:00<00:00,  2.09it/s, mode=Predicting]"
     ]
    },
    {
     "name": "stdout",
     "output_type": "stream",
     "text": [
      "<class 'torch.Tensor'>\n"
     ]
    },
    {
     "name": "stderr",
     "output_type": "stream",
     "text": [
      "eval: 100%|██████████| 3/3 [00:01<00:00,  2.60it/s, mode=Predicting]"
     ]
    },
    {
     "name": "stdout",
     "output_type": "stream",
     "text": [
      "<class 'torch.Tensor'>\n"
     ]
    },
    {
     "name": "stderr",
     "output_type": "stream",
     "text": [
      "\n",
      "2019-11-11 17:46:28,928   INFO  Load testing samples from ../data/KITTI/object/testing\n",
      "2019-11-11 17:46:28,929   INFO  Done: total test samples 10\n",
      "2019-11-11 17:46:28,986   INFO  ==> Loading from checkpoint '../trainedModel/car/rcnn/ckpt/checkpoint_epoch_6.pth'\n",
      "2019-11-11 17:46:29,013   INFO  ==> Done\n",
      "2019-11-11 17:46:29,014   INFO  ---- EPOCH 6 JOINT PREDICTION ----\n",
      "2019-11-11 17:46:29,015   INFO  ==> Output file: predicted/noaug/thre155/calib/epoch_6/pred_boxes3d/Car\n",
      "eval:  33%|███▎      | 1/3 [00:00<00:01,  1.68it/s, mode=Predicting]"
     ]
    },
    {
     "name": "stdout",
     "output_type": "stream",
     "text": [
      "<class 'torch.Tensor'>\n"
     ]
    },
    {
     "name": "stderr",
     "output_type": "stream",
     "text": [
      "eval:  67%|██████▋   | 2/3 [00:00<00:00,  1.87it/s, mode=Predicting]"
     ]
    },
    {
     "name": "stdout",
     "output_type": "stream",
     "text": [
      "<class 'torch.Tensor'>\n"
     ]
    },
    {
     "name": "stderr",
     "output_type": "stream",
     "text": [
      "eval: 100%|██████████| 3/3 [00:01<00:00,  2.32it/s, mode=Predicting]"
     ]
    },
    {
     "name": "stdout",
     "output_type": "stream",
     "text": [
      "<class 'torch.Tensor'>\n"
     ]
    },
    {
     "name": "stderr",
     "output_type": "stream",
     "text": [
      "\n",
      "2019-11-11 17:46:32,364   INFO  Load testing samples from ../data/KITTI/object/testing\n",
      "2019-11-11 17:46:32,364   INFO  Done: total test samples 10\n",
      "2019-11-11 17:46:32,421   INFO  ==> Loading from checkpoint '../trainedModel/car/rcnn/ckpt/checkpoint_epoch_6.pth'\n",
      "2019-11-11 17:46:32,447   INFO  ==> Done\n",
      "2019-11-11 17:46:32,448   INFO  ---- EPOCH 6 JOINT PREDICTION ----\n",
      "2019-11-11 17:46:32,449   INFO  ==> Output file: predicted/noaug/thre155/calib/epoch_6/pred_boxes3d/Car\n",
      "eval:  33%|███▎      | 1/3 [00:00<00:01,  1.92it/s, mode=Predicting]"
     ]
    },
    {
     "name": "stdout",
     "output_type": "stream",
     "text": [
      "<class 'torch.Tensor'>\n"
     ]
    },
    {
     "name": "stderr",
     "output_type": "stream",
     "text": [
      "eval:  67%|██████▋   | 2/3 [00:00<00:00,  2.13it/s, mode=Predicting]"
     ]
    },
    {
     "name": "stdout",
     "output_type": "stream",
     "text": [
      "<class 'torch.Tensor'>\n"
     ]
    },
    {
     "name": "stderr",
     "output_type": "stream",
     "text": [
      "eval: 100%|██████████| 3/3 [00:01<00:00,  2.68it/s, mode=Predicting]"
     ]
    },
    {
     "name": "stdout",
     "output_type": "stream",
     "text": [
      "<class 'torch.Tensor'>\n"
     ]
    },
    {
     "name": "stderr",
     "output_type": "stream",
     "text": [
      "\n",
      "2019-11-11 17:46:35,718   INFO  Load testing samples from ../data/KITTI/object/testing\n",
      "2019-11-11 17:46:35,719   INFO  Done: total test samples 10\n",
      "2019-11-11 17:46:35,775   INFO  ==> Loading from checkpoint '../trainedModel/car/rcnn/ckpt/checkpoint_epoch_6.pth'\n",
      "2019-11-11 17:46:35,802   INFO  ==> Done\n",
      "2019-11-11 17:46:35,802   INFO  ---- EPOCH 6 JOINT PREDICTION ----\n",
      "2019-11-11 17:46:35,803   INFO  ==> Output file: predicted/noaug/thre155/calib/epoch_6/pred_boxes3d/Car\n",
      "eval:  33%|███▎      | 1/3 [00:00<00:01,  1.88it/s, mode=Predicting]"
     ]
    },
    {
     "name": "stdout",
     "output_type": "stream",
     "text": [
      "<class 'torch.Tensor'>\n"
     ]
    },
    {
     "name": "stderr",
     "output_type": "stream",
     "text": [
      "eval:  67%|██████▋   | 2/3 [00:00<00:00,  2.10it/s, mode=Predicting]"
     ]
    },
    {
     "name": "stdout",
     "output_type": "stream",
     "text": [
      "<class 'torch.Tensor'>\n"
     ]
    },
    {
     "name": "stderr",
     "output_type": "stream",
     "text": [
      "eval: 100%|██████████| 3/3 [00:01<00:00,  2.57it/s, mode=Predicting]"
     ]
    },
    {
     "name": "stdout",
     "output_type": "stream",
     "text": [
      "<class 'torch.Tensor'>\n"
     ]
    },
    {
     "name": "stderr",
     "output_type": "stream",
     "text": [
      "\n",
      "2019-11-11 17:46:39,075   INFO  Load testing samples from ../data/KITTI/object/testing\n",
      "2019-11-11 17:46:39,076   INFO  Done: total test samples 10\n",
      "2019-11-11 17:46:39,133   INFO  ==> Loading from checkpoint '../trainedModel/car/rcnn/ckpt/checkpoint_epoch_6.pth'\n",
      "2019-11-11 17:46:39,160   INFO  ==> Done\n",
      "2019-11-11 17:46:39,162   INFO  ---- EPOCH 6 JOINT PREDICTION ----\n",
      "2019-11-11 17:46:39,162   INFO  ==> Output file: predicted/noaug/thre155/calib/epoch_6/pred_boxes3d/Car\n",
      "eval:  33%|███▎      | 1/3 [00:00<00:01,  1.64it/s, mode=Predicting]"
     ]
    },
    {
     "name": "stdout",
     "output_type": "stream",
     "text": [
      "<class 'torch.Tensor'>\n"
     ]
    },
    {
     "name": "stderr",
     "output_type": "stream",
     "text": [
      "eval:  67%|██████▋   | 2/3 [00:00<00:00,  1.88it/s, mode=Predicting]"
     ]
    },
    {
     "name": "stdout",
     "output_type": "stream",
     "text": [
      "<class 'torch.Tensor'>\n"
     ]
    },
    {
     "name": "stderr",
     "output_type": "stream",
     "text": [
      "eval: 100%|██████████| 3/3 [00:01<00:00,  2.48it/s, mode=Predicting]"
     ]
    },
    {
     "name": "stdout",
     "output_type": "stream",
     "text": [
      "<class 'torch.Tensor'>\n"
     ]
    },
    {
     "name": "stderr",
     "output_type": "stream",
     "text": [
      "\n",
      "2019-11-11 17:46:42,461   INFO  Load testing samples from ../data/KITTI/object/testing\n",
      "2019-11-11 17:46:42,461   INFO  Done: total test samples 10\n",
      "2019-11-11 17:46:42,519   INFO  ==> Loading from checkpoint '../trainedModel/car/rcnn/ckpt/checkpoint_epoch_6.pth'\n",
      "2019-11-11 17:46:42,546   INFO  ==> Done\n",
      "2019-11-11 17:46:42,548   INFO  ---- EPOCH 6 JOINT PREDICTION ----\n",
      "2019-11-11 17:46:42,548   INFO  ==> Output file: predicted/noaug/thre155/calib/epoch_6/pred_boxes3d/Car\n",
      "eval:  33%|███▎      | 1/3 [00:00<00:01,  1.93it/s, mode=Predicting]"
     ]
    },
    {
     "name": "stdout",
     "output_type": "stream",
     "text": [
      "<class 'torch.Tensor'>\n"
     ]
    },
    {
     "name": "stderr",
     "output_type": "stream",
     "text": [
      "eval:  67%|██████▋   | 2/3 [00:00<00:00,  2.14it/s, mode=Predicting]"
     ]
    },
    {
     "name": "stdout",
     "output_type": "stream",
     "text": [
      "<class 'torch.Tensor'>\n"
     ]
    },
    {
     "name": "stderr",
     "output_type": "stream",
     "text": [
      "eval: 100%|██████████| 3/3 [00:01<00:00,  2.68it/s, mode=Predicting]"
     ]
    },
    {
     "name": "stdout",
     "output_type": "stream",
     "text": [
      "<class 'torch.Tensor'>\n"
     ]
    },
    {
     "name": "stderr",
     "output_type": "stream",
     "text": [
      "\n",
      "2019-11-11 17:46:45,772   INFO  Load testing samples from ../data/KITTI/object/testing\n",
      "2019-11-11 17:46:45,773   INFO  Done: total test samples 10\n",
      "2019-11-11 17:46:45,830   INFO  ==> Loading from checkpoint '../trainedModel/car/rcnn/ckpt/checkpoint_epoch_6.pth'\n",
      "2019-11-11 17:46:45,857   INFO  ==> Done\n",
      "2019-11-11 17:46:45,858   INFO  ---- EPOCH 6 JOINT PREDICTION ----\n",
      "2019-11-11 17:46:45,858   INFO  ==> Output file: predicted/noaug/thre155/calib/epoch_6/pred_boxes3d/Car\n",
      "eval:  33%|███▎      | 1/3 [00:00<00:01,  1.79it/s, mode=Predicting]"
     ]
    },
    {
     "name": "stdout",
     "output_type": "stream",
     "text": [
      "<class 'torch.Tensor'>\n"
     ]
    },
    {
     "name": "stderr",
     "output_type": "stream",
     "text": [
      "eval:  67%|██████▋   | 2/3 [00:00<00:00,  2.02it/s, mode=Predicting]"
     ]
    },
    {
     "name": "stdout",
     "output_type": "stream",
     "text": [
      "<class 'torch.Tensor'>\n"
     ]
    },
    {
     "name": "stderr",
     "output_type": "stream",
     "text": [
      "eval: 100%|██████████| 3/3 [00:01<00:00,  2.59it/s, mode=Predicting]"
     ]
    },
    {
     "name": "stdout",
     "output_type": "stream",
     "text": [
      "<class 'torch.Tensor'>\n"
     ]
    },
    {
     "name": "stderr",
     "output_type": "stream",
     "text": [
      "\n",
      "2019-11-11 17:46:49,077   INFO  Load testing samples from ../data/KITTI/object/testing\n",
      "2019-11-11 17:46:49,078   INFO  Done: total test samples 10\n",
      "2019-11-11 17:46:49,135   INFO  ==> Loading from checkpoint '../trainedModel/car/rcnn/ckpt/checkpoint_epoch_6.pth'\n",
      "2019-11-11 17:46:49,163   INFO  ==> Done\n",
      "2019-11-11 17:46:49,164   INFO  ---- EPOCH 6 JOINT PREDICTION ----\n",
      "2019-11-11 17:46:49,164   INFO  ==> Output file: predicted/noaug/thre155/calib/epoch_6/pred_boxes3d/Car\n",
      "eval:  33%|███▎      | 1/3 [00:00<00:01,  1.91it/s, mode=Predicting]"
     ]
    },
    {
     "name": "stdout",
     "output_type": "stream",
     "text": [
      "<class 'torch.Tensor'>\n"
     ]
    },
    {
     "name": "stderr",
     "output_type": "stream",
     "text": [
      "eval:  67%|██████▋   | 2/3 [00:00<00:00,  2.07it/s, mode=Predicting]"
     ]
    },
    {
     "name": "stdout",
     "output_type": "stream",
     "text": [
      "<class 'torch.Tensor'>\n"
     ]
    },
    {
     "name": "stderr",
     "output_type": "stream",
     "text": [
      "eval: 100%|██████████| 3/3 [00:01<00:00,  2.42it/s, mode=Predicting]"
     ]
    },
    {
     "name": "stdout",
     "output_type": "stream",
     "text": [
      "<class 'torch.Tensor'>\n"
     ]
    },
    {
     "name": "stderr",
     "output_type": "stream",
     "text": [
      "\n",
      "2019-11-11 17:46:52,514   INFO  Load testing samples from ../data/KITTI/object/testing\n",
      "2019-11-11 17:46:52,514   INFO  Done: total test samples 10\n",
      "2019-11-11 17:46:52,572   INFO  ==> Loading from checkpoint '../trainedModel/car/rcnn/ckpt/checkpoint_epoch_6.pth'\n",
      "2019-11-11 17:46:52,599   INFO  ==> Done\n",
      "2019-11-11 17:46:52,600   INFO  ---- EPOCH 6 JOINT PREDICTION ----\n",
      "2019-11-11 17:46:52,600   INFO  ==> Output file: predicted/noaug/thre155/calib/epoch_6/pred_boxes3d/Car\n",
      "eval:  33%|███▎      | 1/3 [00:00<00:01,  1.77it/s, mode=Predicting]"
     ]
    },
    {
     "name": "stdout",
     "output_type": "stream",
     "text": [
      "<class 'torch.Tensor'>\n"
     ]
    },
    {
     "name": "stderr",
     "output_type": "stream",
     "text": [
      "eval:  67%|██████▋   | 2/3 [00:00<00:00,  1.97it/s, mode=Predicting]"
     ]
    },
    {
     "name": "stdout",
     "output_type": "stream",
     "text": [
      "<class 'torch.Tensor'>\n"
     ]
    },
    {
     "name": "stderr",
     "output_type": "stream",
     "text": [
      "eval: 100%|██████████| 3/3 [00:01<00:00,  2.51it/s, mode=Predicting]"
     ]
    },
    {
     "name": "stdout",
     "output_type": "stream",
     "text": [
      "<class 'torch.Tensor'>\n"
     ]
    },
    {
     "name": "stderr",
     "output_type": "stream",
     "text": [
      "\n",
      "2019-11-11 17:46:55,878   INFO  Load testing samples from ../data/KITTI/object/testing\n",
      "2019-11-11 17:46:55,879   INFO  Done: total test samples 10\n",
      "2019-11-11 17:46:55,935   INFO  ==> Loading from checkpoint '../trainedModel/car/rcnn/ckpt/checkpoint_epoch_6.pth'\n",
      "2019-11-11 17:46:55,962   INFO  ==> Done\n",
      "2019-11-11 17:46:55,963   INFO  ---- EPOCH 6 JOINT PREDICTION ----\n",
      "2019-11-11 17:46:55,963   INFO  ==> Output file: predicted/noaug/thre155/calib/epoch_6/pred_boxes3d/Car\n",
      "eval:  33%|███▎      | 1/3 [00:00<00:01,  1.91it/s, mode=Predicting]"
     ]
    },
    {
     "name": "stdout",
     "output_type": "stream",
     "text": [
      "<class 'torch.Tensor'>\n"
     ]
    },
    {
     "name": "stderr",
     "output_type": "stream",
     "text": [
      "eval:  67%|██████▋   | 2/3 [00:00<00:00,  2.12it/s, mode=Predicting]"
     ]
    },
    {
     "name": "stdout",
     "output_type": "stream",
     "text": [
      "<class 'torch.Tensor'>\n"
     ]
    },
    {
     "name": "stderr",
     "output_type": "stream",
     "text": [
      "eval: 100%|██████████| 3/3 [00:01<00:00,  2.68it/s, mode=Predicting]"
     ]
    },
    {
     "name": "stdout",
     "output_type": "stream",
     "text": [
      "<class 'torch.Tensor'>\n"
     ]
    },
    {
     "name": "stderr",
     "output_type": "stream",
     "text": [
      "\n",
      "2019-11-11 17:46:59,205   INFO  Load testing samples from ../data/KITTI/object/testing\n",
      "2019-11-11 17:46:59,206   INFO  Done: total test samples 10\n",
      "2019-11-11 17:46:59,262   INFO  ==> Loading from checkpoint '../trainedModel/car/rcnn/ckpt/checkpoint_epoch_6.pth'\n",
      "2019-11-11 17:46:59,289   INFO  ==> Done\n",
      "2019-11-11 17:46:59,290   INFO  ---- EPOCH 6 JOINT PREDICTION ----\n",
      "2019-11-11 17:46:59,290   INFO  ==> Output file: predicted/noaug/thre155/calib/epoch_6/pred_boxes3d/Car\n",
      "eval:  33%|███▎      | 1/3 [00:00<00:01,  1.87it/s, mode=Predicting]"
     ]
    },
    {
     "name": "stdout",
     "output_type": "stream",
     "text": [
      "<class 'torch.Tensor'>\n"
     ]
    },
    {
     "name": "stderr",
     "output_type": "stream",
     "text": [
      "eval:  67%|██████▋   | 2/3 [00:00<00:00,  2.08it/s, mode=Predicting]"
     ]
    },
    {
     "name": "stdout",
     "output_type": "stream",
     "text": [
      "<class 'torch.Tensor'>\n"
     ]
    },
    {
     "name": "stderr",
     "output_type": "stream",
     "text": [
      "eval: 100%|██████████| 3/3 [00:01<00:00,  2.56it/s, mode=Predicting]"
     ]
    },
    {
     "name": "stdout",
     "output_type": "stream",
     "text": [
      "<class 'torch.Tensor'>\n"
     ]
    },
    {
     "name": "stderr",
     "output_type": "stream",
     "text": [
      "\n",
      "2019-11-11 17:47:02,564   INFO  Load testing samples from ../data/KITTI/object/testing\n",
      "2019-11-11 17:47:02,565   INFO  Done: total test samples 10\n",
      "2019-11-11 17:47:02,622   INFO  ==> Loading from checkpoint '../trainedModel/car/rcnn/ckpt/checkpoint_epoch_6.pth'\n",
      "2019-11-11 17:47:02,648   INFO  ==> Done\n",
      "2019-11-11 17:47:02,649   INFO  ---- EPOCH 6 JOINT PREDICTION ----\n",
      "2019-11-11 17:47:02,649   INFO  ==> Output file: predicted/noaug/thre155/calib/epoch_6/pred_boxes3d/Car\n",
      "eval:  33%|███▎      | 1/3 [00:00<00:01,  1.97it/s, mode=Predicting]"
     ]
    },
    {
     "name": "stdout",
     "output_type": "stream",
     "text": [
      "<class 'torch.Tensor'>\n"
     ]
    },
    {
     "name": "stderr",
     "output_type": "stream",
     "text": [
      "eval:  67%|██████▋   | 2/3 [00:00<00:00,  2.17it/s, mode=Predicting]"
     ]
    },
    {
     "name": "stdout",
     "output_type": "stream",
     "text": [
      "<class 'torch.Tensor'>\n"
     ]
    },
    {
     "name": "stderr",
     "output_type": "stream",
     "text": [
      "eval: 100%|██████████| 3/3 [00:01<00:00,  2.71it/s, mode=Predicting]"
     ]
    },
    {
     "name": "stdout",
     "output_type": "stream",
     "text": [
      "<class 'torch.Tensor'>\n"
     ]
    },
    {
     "name": "stderr",
     "output_type": "stream",
     "text": [
      "\n",
      "2019-11-11 17:47:05,846   INFO  Load testing samples from ../data/KITTI/object/testing\n",
      "2019-11-11 17:47:05,846   INFO  Done: total test samples 10\n",
      "2019-11-11 17:47:05,902   INFO  ==> Loading from checkpoint '../trainedModel/car/rcnn/ckpt/checkpoint_epoch_6.pth'\n",
      "2019-11-11 17:47:05,929   INFO  ==> Done\n",
      "2019-11-11 17:47:05,930   INFO  ---- EPOCH 6 JOINT PREDICTION ----\n",
      "2019-11-11 17:47:05,931   INFO  ==> Output file: predicted/noaug/thre155/calib/epoch_6/pred_boxes3d/Car\n",
      "eval:  33%|███▎      | 1/3 [00:00<00:01,  1.89it/s, mode=Predicting]"
     ]
    },
    {
     "name": "stdout",
     "output_type": "stream",
     "text": [
      "<class 'torch.Tensor'>\n"
     ]
    },
    {
     "name": "stderr",
     "output_type": "stream",
     "text": [
      "eval:  67%|██████▋   | 2/3 [00:00<00:00,  2.10it/s, mode=Predicting]"
     ]
    },
    {
     "name": "stdout",
     "output_type": "stream",
     "text": [
      "<class 'torch.Tensor'>\n"
     ]
    },
    {
     "name": "stderr",
     "output_type": "stream",
     "text": [
      "eval: 100%|██████████| 3/3 [00:01<00:00,  2.65it/s, mode=Predicting]"
     ]
    },
    {
     "name": "stdout",
     "output_type": "stream",
     "text": [
      "<class 'torch.Tensor'>\n"
     ]
    },
    {
     "name": "stderr",
     "output_type": "stream",
     "text": [
      "\n",
      "2019-11-11 17:47:09,125   INFO  Load testing samples from ../data/KITTI/object/testing\n",
      "2019-11-11 17:47:09,126   INFO  Done: total test samples 10\n",
      "2019-11-11 17:47:09,183   INFO  ==> Loading from checkpoint '../trainedModel/car/rcnn/ckpt/checkpoint_epoch_6.pth'\n",
      "2019-11-11 17:47:09,209   INFO  ==> Done\n",
      "2019-11-11 17:47:09,210   INFO  ---- EPOCH 6 JOINT PREDICTION ----\n",
      "2019-11-11 17:47:09,211   INFO  ==> Output file: predicted/noaug/thre155/calib/epoch_6/pred_boxes3d/Car\n",
      "eval:  33%|███▎      | 1/3 [00:00<00:01,  1.90it/s, mode=Predicting]"
     ]
    },
    {
     "name": "stdout",
     "output_type": "stream",
     "text": [
      "<class 'torch.Tensor'>\n"
     ]
    },
    {
     "name": "stderr",
     "output_type": "stream",
     "text": [
      "eval:  67%|██████▋   | 2/3 [00:00<00:00,  2.11it/s, mode=Predicting]"
     ]
    },
    {
     "name": "stdout",
     "output_type": "stream",
     "text": [
      "<class 'torch.Tensor'>\n"
     ]
    },
    {
     "name": "stderr",
     "output_type": "stream",
     "text": [
      "eval: 100%|██████████| 3/3 [00:01<00:00,  2.67it/s, mode=Predicting]"
     ]
    },
    {
     "name": "stdout",
     "output_type": "stream",
     "text": [
      "<class 'torch.Tensor'>\n"
     ]
    },
    {
     "name": "stderr",
     "output_type": "stream",
     "text": [
      "\n",
      "2019-11-11 17:47:12,356   INFO  Load testing samples from ../data/KITTI/object/testing\n",
      "2019-11-11 17:47:12,357   INFO  Done: total test samples 10\n",
      "2019-11-11 17:47:12,414   INFO  ==> Loading from checkpoint '../trainedModel/car/rcnn/ckpt/checkpoint_epoch_6.pth'\n",
      "2019-11-11 17:47:12,441   INFO  ==> Done\n",
      "2019-11-11 17:47:12,441   INFO  ---- EPOCH 6 JOINT PREDICTION ----\n",
      "2019-11-11 17:47:12,442   INFO  ==> Output file: predicted/noaug/thre155/calib/epoch_6/pred_boxes3d/Car\n",
      "eval:  33%|███▎      | 1/3 [00:00<00:01,  1.91it/s, mode=Predicting]"
     ]
    },
    {
     "name": "stdout",
     "output_type": "stream",
     "text": [
      "<class 'torch.Tensor'>\n"
     ]
    },
    {
     "name": "stderr",
     "output_type": "stream",
     "text": [
      "eval:  67%|██████▋   | 2/3 [00:00<00:00,  2.12it/s, mode=Predicting]"
     ]
    },
    {
     "name": "stdout",
     "output_type": "stream",
     "text": [
      "<class 'torch.Tensor'>\n"
     ]
    },
    {
     "name": "stderr",
     "output_type": "stream",
     "text": [
      "eval: 100%|██████████| 3/3 [00:01<00:00,  2.67it/s, mode=Predicting]"
     ]
    },
    {
     "name": "stdout",
     "output_type": "stream",
     "text": [
      "<class 'torch.Tensor'>\n"
     ]
    },
    {
     "name": "stderr",
     "output_type": "stream",
     "text": [
      "\n",
      "2019-11-11 17:47:15,678   INFO  Load testing samples from ../data/KITTI/object/testing\n",
      "2019-11-11 17:47:15,679   INFO  Done: total test samples 10\n",
      "2019-11-11 17:47:15,735   INFO  ==> Loading from checkpoint '../trainedModel/car/rcnn/ckpt/checkpoint_epoch_6.pth'\n",
      "2019-11-11 17:47:15,763   INFO  ==> Done\n",
      "2019-11-11 17:47:15,763   INFO  ---- EPOCH 6 JOINT PREDICTION ----\n",
      "2019-11-11 17:47:15,764   INFO  ==> Output file: predicted/noaug/thre155/calib/epoch_6/pred_boxes3d/Car\n",
      "eval:  33%|███▎      | 1/3 [00:00<00:01,  1.86it/s, mode=Predicting]"
     ]
    },
    {
     "name": "stdout",
     "output_type": "stream",
     "text": [
      "<class 'torch.Tensor'>\n"
     ]
    },
    {
     "name": "stderr",
     "output_type": "stream",
     "text": [
      "eval:  67%|██████▋   | 2/3 [00:00<00:00,  2.08it/s, mode=Predicting]"
     ]
    },
    {
     "name": "stdout",
     "output_type": "stream",
     "text": [
      "<class 'torch.Tensor'>\n"
     ]
    },
    {
     "name": "stderr",
     "output_type": "stream",
     "text": [
      "eval: 100%|██████████| 3/3 [00:01<00:00,  2.65it/s, mode=Predicting]"
     ]
    },
    {
     "name": "stdout",
     "output_type": "stream",
     "text": [
      "<class 'torch.Tensor'>\n"
     ]
    },
    {
     "name": "stderr",
     "output_type": "stream",
     "text": [
      "\n",
      "2019-11-11 17:47:19,039   INFO  Load testing samples from ../data/KITTI/object/testing\n",
      "2019-11-11 17:47:19,039   INFO  Done: total test samples 10\n",
      "2019-11-11 17:47:19,096   INFO  ==> Loading from checkpoint '../trainedModel/car/rcnn/ckpt/checkpoint_epoch_6.pth'\n",
      "2019-11-11 17:47:19,122   INFO  ==> Done\n",
      "2019-11-11 17:47:19,123   INFO  ---- EPOCH 6 JOINT PREDICTION ----\n",
      "2019-11-11 17:47:19,124   INFO  ==> Output file: predicted/noaug/thre155/calib/epoch_6/pred_boxes3d/Car\n",
      "eval:  33%|███▎      | 1/3 [00:00<00:01,  1.92it/s, mode=Predicting]"
     ]
    },
    {
     "name": "stdout",
     "output_type": "stream",
     "text": [
      "<class 'torch.Tensor'>\n"
     ]
    },
    {
     "name": "stderr",
     "output_type": "stream",
     "text": [
      "eval:  67%|██████▋   | 2/3 [00:00<00:00,  2.13it/s, mode=Predicting]"
     ]
    },
    {
     "name": "stdout",
     "output_type": "stream",
     "text": [
      "<class 'torch.Tensor'>\n"
     ]
    },
    {
     "name": "stderr",
     "output_type": "stream",
     "text": [
      "eval: 100%|██████████| 3/3 [00:01<00:00,  2.68it/s, mode=Predicting]"
     ]
    },
    {
     "name": "stdout",
     "output_type": "stream",
     "text": [
      "<class 'torch.Tensor'>\n"
     ]
    },
    {
     "name": "stderr",
     "output_type": "stream",
     "text": [
      "\n",
      "2019-11-11 17:47:22,400   INFO  Load testing samples from ../data/KITTI/object/testing\n",
      "2019-11-11 17:47:22,400   INFO  Done: total test samples 10\n",
      "2019-11-11 17:47:22,457   INFO  ==> Loading from checkpoint '../trainedModel/car/rcnn/ckpt/checkpoint_epoch_6.pth'\n",
      "2019-11-11 17:47:22,484   INFO  ==> Done\n",
      "2019-11-11 17:47:22,485   INFO  ---- EPOCH 6 JOINT PREDICTION ----\n",
      "2019-11-11 17:47:22,485   INFO  ==> Output file: predicted/noaug/thre155/calib/epoch_6/pred_boxes3d/Car\n",
      "eval:  33%|███▎      | 1/3 [00:00<00:01,  1.90it/s, mode=Predicting]"
     ]
    },
    {
     "name": "stdout",
     "output_type": "stream",
     "text": [
      "<class 'torch.Tensor'>\n"
     ]
    },
    {
     "name": "stderr",
     "output_type": "stream",
     "text": [
      "eval:  67%|██████▋   | 2/3 [00:00<00:00,  2.12it/s, mode=Predicting]"
     ]
    },
    {
     "name": "stdout",
     "output_type": "stream",
     "text": [
      "<class 'torch.Tensor'>\n"
     ]
    },
    {
     "name": "stderr",
     "output_type": "stream",
     "text": [
      "eval: 100%|██████████| 3/3 [00:01<00:00,  2.67it/s, mode=Predicting]"
     ]
    },
    {
     "name": "stdout",
     "output_type": "stream",
     "text": [
      "<class 'torch.Tensor'>\n"
     ]
    },
    {
     "name": "stderr",
     "output_type": "stream",
     "text": [
      "\n",
      "2019-11-11 17:47:25,634   INFO  Load testing samples from ../data/KITTI/object/testing\n",
      "2019-11-11 17:47:25,635   INFO  Done: total test samples 10\n",
      "2019-11-11 17:47:25,691   INFO  ==> Loading from checkpoint '../trainedModel/car/rcnn/ckpt/checkpoint_epoch_6.pth'\n",
      "2019-11-11 17:47:25,718   INFO  ==> Done\n",
      "2019-11-11 17:47:25,719   INFO  ---- EPOCH 6 JOINT PREDICTION ----\n",
      "2019-11-11 17:47:25,719   INFO  ==> Output file: predicted/noaug/thre155/calib/epoch_6/pred_boxes3d/Car\n",
      "eval:  33%|███▎      | 1/3 [00:00<00:01,  1.91it/s, mode=Predicting]"
     ]
    },
    {
     "name": "stdout",
     "output_type": "stream",
     "text": [
      "<class 'torch.Tensor'>\n"
     ]
    },
    {
     "name": "stderr",
     "output_type": "stream",
     "text": [
      "eval:  67%|██████▋   | 2/3 [00:00<00:00,  2.12it/s, mode=Predicting]"
     ]
    },
    {
     "name": "stdout",
     "output_type": "stream",
     "text": [
      "<class 'torch.Tensor'>\n"
     ]
    },
    {
     "name": "stderr",
     "output_type": "stream",
     "text": [
      "eval: 100%|██████████| 3/3 [00:01<00:00,  2.67it/s, mode=Predicting]"
     ]
    },
    {
     "name": "stdout",
     "output_type": "stream",
     "text": [
      "<class 'torch.Tensor'>\n"
     ]
    },
    {
     "name": "stderr",
     "output_type": "stream",
     "text": [
      "\n",
      "2019-11-11 17:47:28,984   INFO  Load testing samples from ../data/KITTI/object/testing\n",
      "2019-11-11 17:47:28,984   INFO  Done: total test samples 10\n",
      "2019-11-11 17:47:29,041   INFO  ==> Loading from checkpoint '../trainedModel/car/rcnn/ckpt/checkpoint_epoch_6.pth'\n",
      "2019-11-11 17:47:29,068   INFO  ==> Done\n",
      "2019-11-11 17:47:29,069   INFO  ---- EPOCH 6 JOINT PREDICTION ----\n",
      "2019-11-11 17:47:29,069   INFO  ==> Output file: predicted/noaug/thre155/calib/epoch_6/pred_boxes3d/Car\n",
      "eval:  33%|███▎      | 1/3 [00:00<00:01,  1.89it/s, mode=Predicting]"
     ]
    },
    {
     "name": "stdout",
     "output_type": "stream",
     "text": [
      "<class 'torch.Tensor'>\n"
     ]
    },
    {
     "name": "stderr",
     "output_type": "stream",
     "text": [
      "eval:  67%|██████▋   | 2/3 [00:00<00:00,  2.10it/s, mode=Predicting]"
     ]
    },
    {
     "name": "stdout",
     "output_type": "stream",
     "text": [
      "<class 'torch.Tensor'>\n"
     ]
    },
    {
     "name": "stderr",
     "output_type": "stream",
     "text": [
      "eval: 100%|██████████| 3/3 [00:01<00:00,  2.65it/s, mode=Predicting]"
     ]
    },
    {
     "name": "stdout",
     "output_type": "stream",
     "text": [
      "<class 'torch.Tensor'>\n"
     ]
    },
    {
     "name": "stderr",
     "output_type": "stream",
     "text": [
      "\n",
      "2019-11-11 17:47:32,309   INFO  Load testing samples from ../data/KITTI/object/testing\n",
      "2019-11-11 17:47:32,309   INFO  Done: total test samples 10\n",
      "2019-11-11 17:47:32,366   INFO  ==> Loading from checkpoint '../trainedModel/car/rcnn/ckpt/checkpoint_epoch_6.pth'\n",
      "2019-11-11 17:47:32,393   INFO  ==> Done\n",
      "2019-11-11 17:47:32,393   INFO  ---- EPOCH 6 JOINT PREDICTION ----\n",
      "2019-11-11 17:47:32,394   INFO  ==> Output file: predicted/noaug/thre155/calib/epoch_6/pred_boxes3d/Car\n",
      "eval:  33%|███▎      | 1/3 [00:00<00:01,  1.94it/s, mode=Predicting]"
     ]
    },
    {
     "name": "stdout",
     "output_type": "stream",
     "text": [
      "<class 'torch.Tensor'>\n"
     ]
    },
    {
     "name": "stderr",
     "output_type": "stream",
     "text": [
      "eval:  67%|██████▋   | 2/3 [00:00<00:00,  2.14it/s, mode=Predicting]"
     ]
    },
    {
     "name": "stdout",
     "output_type": "stream",
     "text": [
      "<class 'torch.Tensor'>\n"
     ]
    },
    {
     "name": "stderr",
     "output_type": "stream",
     "text": [
      "eval: 100%|██████████| 3/3 [00:01<00:00,  2.68it/s, mode=Predicting]"
     ]
    },
    {
     "name": "stdout",
     "output_type": "stream",
     "text": [
      "<class 'torch.Tensor'>\n"
     ]
    },
    {
     "name": "stderr",
     "output_type": "stream",
     "text": [
      "\n",
      "2019-11-11 17:47:35,648   INFO  Load testing samples from ../data/KITTI/object/testing\n",
      "2019-11-11 17:47:35,649   INFO  Done: total test samples 10\n",
      "2019-11-11 17:47:35,706   INFO  ==> Loading from checkpoint '../trainedModel/car/rcnn/ckpt/checkpoint_epoch_6.pth'\n",
      "2019-11-11 17:47:35,733   INFO  ==> Done\n",
      "2019-11-11 17:47:35,734   INFO  ---- EPOCH 6 JOINT PREDICTION ----\n",
      "2019-11-11 17:47:35,734   INFO  ==> Output file: predicted/noaug/thre155/calib/epoch_6/pred_boxes3d/Car\n",
      "eval:  33%|███▎      | 1/3 [00:00<00:01,  1.90it/s, mode=Predicting]"
     ]
    },
    {
     "name": "stdout",
     "output_type": "stream",
     "text": [
      "<class 'torch.Tensor'>\n"
     ]
    },
    {
     "name": "stderr",
     "output_type": "stream",
     "text": [
      "eval:  67%|██████▋   | 2/3 [00:00<00:00,  2.11it/s, mode=Predicting]"
     ]
    },
    {
     "name": "stdout",
     "output_type": "stream",
     "text": [
      "<class 'torch.Tensor'>\n"
     ]
    },
    {
     "name": "stderr",
     "output_type": "stream",
     "text": [
      "eval: 100%|██████████| 3/3 [00:01<00:00,  2.67it/s, mode=Predicting]"
     ]
    },
    {
     "name": "stdout",
     "output_type": "stream",
     "text": [
      "<class 'torch.Tensor'>\n"
     ]
    },
    {
     "name": "stderr",
     "output_type": "stream",
     "text": [
      "\n",
      "2019-11-11 17:47:38,942   INFO  Load testing samples from ../data/KITTI/object/testing\n",
      "2019-11-11 17:47:38,942   INFO  Done: total test samples 10\n",
      "2019-11-11 17:47:38,999   INFO  ==> Loading from checkpoint '../trainedModel/car/rcnn/ckpt/checkpoint_epoch_6.pth'\n",
      "2019-11-11 17:47:39,026   INFO  ==> Done\n",
      "2019-11-11 17:47:39,027   INFO  ---- EPOCH 6 JOINT PREDICTION ----\n",
      "2019-11-11 17:47:39,027   INFO  ==> Output file: predicted/noaug/thre155/calib/epoch_6/pred_boxes3d/Car\n",
      "eval:  33%|███▎      | 1/3 [00:00<00:01,  1.94it/s, mode=Predicting]"
     ]
    },
    {
     "name": "stdout",
     "output_type": "stream",
     "text": [
      "<class 'torch.Tensor'>\n"
     ]
    },
    {
     "name": "stderr",
     "output_type": "stream",
     "text": [
      "eval:  67%|██████▋   | 2/3 [00:00<00:00,  2.15it/s, mode=Predicting]"
     ]
    },
    {
     "name": "stdout",
     "output_type": "stream",
     "text": [
      "<class 'torch.Tensor'>\n"
     ]
    },
    {
     "name": "stderr",
     "output_type": "stream",
     "text": [
      "eval: 100%|██████████| 3/3 [00:01<00:00,  2.69it/s, mode=Predicting]\n",
      "2019-11-11 17:47:42,331   INFO  Load testing samples from ../data/KITTI/object/testing\n",
      "2019-11-11 17:47:42,331   INFO  Done: total test samples 10\n",
      "2019-11-11 17:47:42,387   INFO  ==> Loading from checkpoint '../trainedModel/car/rcnn/ckpt/checkpoint_epoch_6.pth'\n",
      "2019-11-11 17:47:42,414   INFO  ==> Done\n",
      "2019-11-11 17:47:42,415   INFO  ---- EPOCH 6 JOINT PREDICTION ----\n",
      "2019-11-11 17:47:42,416   INFO  ==> Output file: predicted/noaug/thre155/calib/epoch_6/pred_boxes3d/Car\n",
      "eval:   0%|          | 0/3 [00:00<?, ?it/s]"
     ]
    },
    {
     "name": "stdout",
     "output_type": "stream",
     "text": [
      "<class 'torch.Tensor'>\n"
     ]
    },
    {
     "name": "stderr",
     "output_type": "stream",
     "text": [
      "eval:  33%|███▎      | 1/3 [00:00<00:01,  1.93it/s, mode=Predicting]"
     ]
    },
    {
     "name": "stdout",
     "output_type": "stream",
     "text": [
      "<class 'torch.Tensor'>\n"
     ]
    },
    {
     "name": "stderr",
     "output_type": "stream",
     "text": [
      "eval:  67%|██████▋   | 2/3 [00:00<00:00,  2.14it/s, mode=Predicting]"
     ]
    },
    {
     "name": "stdout",
     "output_type": "stream",
     "text": [
      "<class 'torch.Tensor'>\n"
     ]
    },
    {
     "name": "stderr",
     "output_type": "stream",
     "text": [
      "eval: 100%|██████████| 3/3 [00:01<00:00,  2.69it/s, mode=Predicting]"
     ]
    },
    {
     "name": "stdout",
     "output_type": "stream",
     "text": [
      "<class 'torch.Tensor'>\n"
     ]
    },
    {
     "name": "stderr",
     "output_type": "stream",
     "text": [
      "\n",
      "2019-11-11 17:47:45,742   INFO  Load testing samples from ../data/KITTI/object/testing\n",
      "2019-11-11 17:47:45,743   INFO  Done: total test samples 10\n",
      "2019-11-11 17:47:45,799   INFO  ==> Loading from checkpoint '../trainedModel/car/rcnn/ckpt/checkpoint_epoch_6.pth'\n",
      "2019-11-11 17:47:45,826   INFO  ==> Done\n",
      "2019-11-11 17:47:45,827   INFO  ---- EPOCH 6 JOINT PREDICTION ----\n",
      "2019-11-11 17:47:45,827   INFO  ==> Output file: predicted/noaug/thre155/calib/epoch_6/pred_boxes3d/Car\n",
      "eval:  33%|███▎      | 1/3 [00:00<00:01,  1.93it/s, mode=Predicting]"
     ]
    },
    {
     "name": "stdout",
     "output_type": "stream",
     "text": [
      "<class 'torch.Tensor'>\n"
     ]
    },
    {
     "name": "stderr",
     "output_type": "stream",
     "text": [
      "eval:  67%|██████▋   | 2/3 [00:00<00:00,  2.14it/s, mode=Predicting]"
     ]
    },
    {
     "name": "stdout",
     "output_type": "stream",
     "text": [
      "<class 'torch.Tensor'>\n"
     ]
    },
    {
     "name": "stderr",
     "output_type": "stream",
     "text": [
      "eval: 100%|██████████| 3/3 [00:01<00:00,  2.68it/s, mode=Predicting]"
     ]
    },
    {
     "name": "stdout",
     "output_type": "stream",
     "text": [
      "<class 'torch.Tensor'>\n"
     ]
    },
    {
     "name": "stderr",
     "output_type": "stream",
     "text": [
      "\n",
      "2019-11-11 17:47:48,970   INFO  Load testing samples from ../data/KITTI/object/testing\n",
      "2019-11-11 17:47:48,971   INFO  Done: total test samples 10\n",
      "2019-11-11 17:47:49,027   INFO  ==> Loading from checkpoint '../trainedModel/car/rcnn/ckpt/checkpoint_epoch_6.pth'\n",
      "2019-11-11 17:47:49,054   INFO  ==> Done\n",
      "2019-11-11 17:47:49,055   INFO  ---- EPOCH 6 JOINT PREDICTION ----\n",
      "2019-11-11 17:47:49,055   INFO  ==> Output file: predicted/noaug/thre155/calib/epoch_6/pred_boxes3d/Car\n",
      "eval:  33%|███▎      | 1/3 [00:00<00:01,  1.93it/s, mode=Predicting]"
     ]
    },
    {
     "name": "stdout",
     "output_type": "stream",
     "text": [
      "<class 'torch.Tensor'>\n"
     ]
    },
    {
     "name": "stderr",
     "output_type": "stream",
     "text": [
      "eval:  67%|██████▋   | 2/3 [00:00<00:00,  2.14it/s, mode=Predicting]"
     ]
    },
    {
     "name": "stdout",
     "output_type": "stream",
     "text": [
      "<class 'torch.Tensor'>\n"
     ]
    },
    {
     "name": "stderr",
     "output_type": "stream",
     "text": [
      "eval: 100%|██████████| 3/3 [00:01<00:00,  2.69it/s, mode=Predicting]"
     ]
    },
    {
     "name": "stdout",
     "output_type": "stream",
     "text": [
      "<class 'torch.Tensor'>\n"
     ]
    },
    {
     "name": "stderr",
     "output_type": "stream",
     "text": [
      "\n",
      "2019-11-11 17:47:52,306   INFO  Load testing samples from ../data/KITTI/object/testing\n",
      "2019-11-11 17:47:52,307   INFO  Done: total test samples 10\n",
      "2019-11-11 17:47:52,363   INFO  ==> Loading from checkpoint '../trainedModel/car/rcnn/ckpt/checkpoint_epoch_6.pth'\n",
      "2019-11-11 17:47:52,391   INFO  ==> Done\n",
      "2019-11-11 17:47:52,392   INFO  ---- EPOCH 6 JOINT PREDICTION ----\n",
      "2019-11-11 17:47:52,392   INFO  ==> Output file: predicted/noaug/thre155/calib/epoch_6/pred_boxes3d/Car\n",
      "eval:  33%|███▎      | 1/3 [00:00<00:01,  1.88it/s, mode=Predicting]"
     ]
    },
    {
     "name": "stdout",
     "output_type": "stream",
     "text": [
      "<class 'torch.Tensor'>\n"
     ]
    },
    {
     "name": "stderr",
     "output_type": "stream",
     "text": [
      "eval:  67%|██████▋   | 2/3 [00:00<00:00,  2.10it/s, mode=Predicting]"
     ]
    },
    {
     "name": "stdout",
     "output_type": "stream",
     "text": [
      "<class 'torch.Tensor'>\n"
     ]
    },
    {
     "name": "stderr",
     "output_type": "stream",
     "text": [
      "eval: 100%|██████████| 3/3 [00:01<00:00,  2.65it/s, mode=Predicting]"
     ]
    },
    {
     "name": "stdout",
     "output_type": "stream",
     "text": [
      "<class 'torch.Tensor'>\n"
     ]
    },
    {
     "name": "stderr",
     "output_type": "stream",
     "text": [
      "\n",
      "2019-11-11 17:47:55,598   INFO  Load testing samples from ../data/KITTI/object/testing\n",
      "2019-11-11 17:47:55,599   INFO  Done: total test samples 10\n",
      "2019-11-11 17:47:55,655   INFO  ==> Loading from checkpoint '../trainedModel/car/rcnn/ckpt/checkpoint_epoch_6.pth'\n",
      "2019-11-11 17:47:55,682   INFO  ==> Done\n",
      "2019-11-11 17:47:55,683   INFO  ---- EPOCH 6 JOINT PREDICTION ----\n",
      "2019-11-11 17:47:55,683   INFO  ==> Output file: predicted/noaug/thre155/calib/epoch_6/pred_boxes3d/Car\n",
      "eval:  33%|███▎      | 1/3 [00:00<00:01,  1.93it/s, mode=Predicting]"
     ]
    },
    {
     "name": "stdout",
     "output_type": "stream",
     "text": [
      "<class 'torch.Tensor'>\n"
     ]
    },
    {
     "name": "stderr",
     "output_type": "stream",
     "text": [
      "eval:  67%|██████▋   | 2/3 [00:00<00:00,  2.13it/s, mode=Predicting]"
     ]
    },
    {
     "name": "stdout",
     "output_type": "stream",
     "text": [
      "<class 'torch.Tensor'>\n"
     ]
    },
    {
     "name": "stderr",
     "output_type": "stream",
     "text": [
      "eval: 100%|██████████| 3/3 [00:01<00:00,  2.68it/s, mode=Predicting]"
     ]
    },
    {
     "name": "stdout",
     "output_type": "stream",
     "text": [
      "<class 'torch.Tensor'>\n"
     ]
    },
    {
     "name": "stderr",
     "output_type": "stream",
     "text": [
      "\n",
      "2019-11-11 17:47:59,000   INFO  Load testing samples from ../data/KITTI/object/testing\n",
      "2019-11-11 17:47:59,001   INFO  Done: total test samples 10\n",
      "2019-11-11 17:47:59,057   INFO  ==> Loading from checkpoint '../trainedModel/car/rcnn/ckpt/checkpoint_epoch_6.pth'\n",
      "2019-11-11 17:47:59,084   INFO  ==> Done\n",
      "2019-11-11 17:47:59,085   INFO  ---- EPOCH 6 JOINT PREDICTION ----\n",
      "2019-11-11 17:47:59,085   INFO  ==> Output file: predicted/noaug/thre155/calib/epoch_6/pred_boxes3d/Car\n",
      "eval:  33%|███▎      | 1/3 [00:00<00:01,  1.91it/s, mode=Predicting]"
     ]
    },
    {
     "name": "stdout",
     "output_type": "stream",
     "text": [
      "<class 'torch.Tensor'>\n"
     ]
    },
    {
     "name": "stderr",
     "output_type": "stream",
     "text": [
      "eval:  67%|██████▋   | 2/3 [00:00<00:00,  2.13it/s, mode=Predicting]"
     ]
    },
    {
     "name": "stdout",
     "output_type": "stream",
     "text": [
      "<class 'torch.Tensor'>\n"
     ]
    },
    {
     "name": "stderr",
     "output_type": "stream",
     "text": [
      "eval: 100%|██████████| 3/3 [00:01<00:00,  2.67it/s, mode=Predicting]"
     ]
    },
    {
     "name": "stdout",
     "output_type": "stream",
     "text": [
      "<class 'torch.Tensor'>\n"
     ]
    },
    {
     "name": "stderr",
     "output_type": "stream",
     "text": [
      "\n",
      "2019-11-11 17:48:02,323   INFO  Load testing samples from ../data/KITTI/object/testing\n",
      "2019-11-11 17:48:02,323   INFO  Done: total test samples 10\n",
      "2019-11-11 17:48:02,380   INFO  ==> Loading from checkpoint '../trainedModel/car/rcnn/ckpt/checkpoint_epoch_6.pth'\n",
      "2019-11-11 17:48:02,406   INFO  ==> Done\n",
      "2019-11-11 17:48:02,407   INFO  ---- EPOCH 6 JOINT PREDICTION ----\n",
      "2019-11-11 17:48:02,408   INFO  ==> Output file: predicted/noaug/thre155/calib/epoch_6/pred_boxes3d/Car\n",
      "eval:  33%|███▎      | 1/3 [00:00<00:01,  1.87it/s, mode=Predicting]"
     ]
    },
    {
     "name": "stdout",
     "output_type": "stream",
     "text": [
      "<class 'torch.Tensor'>\n"
     ]
    },
    {
     "name": "stderr",
     "output_type": "stream",
     "text": [
      "eval:  67%|██████▋   | 2/3 [00:00<00:00,  2.09it/s, mode=Predicting]"
     ]
    },
    {
     "name": "stdout",
     "output_type": "stream",
     "text": [
      "<class 'torch.Tensor'>\n"
     ]
    },
    {
     "name": "stderr",
     "output_type": "stream",
     "text": [
      "eval: 100%|██████████| 3/3 [00:01<00:00,  2.65it/s, mode=Predicting]"
     ]
    },
    {
     "name": "stdout",
     "output_type": "stream",
     "text": [
      "<class 'torch.Tensor'>\n"
     ]
    },
    {
     "name": "stderr",
     "output_type": "stream",
     "text": [
      "\n",
      "2019-11-11 17:48:05,643   INFO  Load testing samples from ../data/KITTI/object/testing\n",
      "2019-11-11 17:48:05,643   INFO  Done: total test samples 10\n",
      "2019-11-11 17:48:05,699   INFO  ==> Loading from checkpoint '../trainedModel/car/rcnn/ckpt/checkpoint_epoch_6.pth'\n",
      "2019-11-11 17:48:05,726   INFO  ==> Done\n",
      "2019-11-11 17:48:05,727   INFO  ---- EPOCH 6 JOINT PREDICTION ----\n",
      "2019-11-11 17:48:05,728   INFO  ==> Output file: predicted/noaug/thre155/calib/epoch_6/pred_boxes3d/Car\n",
      "eval:  33%|███▎      | 1/3 [00:00<00:01,  1.92it/s, mode=Predicting]"
     ]
    },
    {
     "name": "stdout",
     "output_type": "stream",
     "text": [
      "<class 'torch.Tensor'>\n"
     ]
    },
    {
     "name": "stderr",
     "output_type": "stream",
     "text": [
      "eval:  67%|██████▋   | 2/3 [00:00<00:00,  2.13it/s, mode=Predicting]"
     ]
    },
    {
     "name": "stdout",
     "output_type": "stream",
     "text": [
      "<class 'torch.Tensor'>\n"
     ]
    },
    {
     "name": "stderr",
     "output_type": "stream",
     "text": [
      "eval: 100%|██████████| 3/3 [00:01<00:00,  2.68it/s, mode=Predicting]"
     ]
    },
    {
     "name": "stdout",
     "output_type": "stream",
     "text": [
      "<class 'torch.Tensor'>\n"
     ]
    },
    {
     "name": "stderr",
     "output_type": "stream",
     "text": [
      "\n",
      "2019-11-11 17:48:08,973   INFO  Load testing samples from ../data/KITTI/object/testing\n",
      "2019-11-11 17:48:08,973   INFO  Done: total test samples 10\n",
      "2019-11-11 17:48:09,030   INFO  ==> Loading from checkpoint '../trainedModel/car/rcnn/ckpt/checkpoint_epoch_6.pth'\n",
      "2019-11-11 17:48:09,057   INFO  ==> Done\n",
      "2019-11-11 17:48:09,057   INFO  ---- EPOCH 6 JOINT PREDICTION ----\n",
      "2019-11-11 17:48:09,058   INFO  ==> Output file: predicted/noaug/thre155/calib/epoch_6/pred_boxes3d/Car\n",
      "eval:  33%|███▎      | 1/3 [00:00<00:01,  1.89it/s, mode=Predicting]"
     ]
    },
    {
     "name": "stdout",
     "output_type": "stream",
     "text": [
      "<class 'torch.Tensor'>\n"
     ]
    },
    {
     "name": "stderr",
     "output_type": "stream",
     "text": [
      "eval:  67%|██████▋   | 2/3 [00:00<00:00,  2.11it/s, mode=Predicting]"
     ]
    },
    {
     "name": "stdout",
     "output_type": "stream",
     "text": [
      "<class 'torch.Tensor'>\n"
     ]
    },
    {
     "name": "stderr",
     "output_type": "stream",
     "text": [
      "eval: 100%|██████████| 3/3 [00:01<00:00,  2.66it/s, mode=Predicting]"
     ]
    },
    {
     "name": "stdout",
     "output_type": "stream",
     "text": [
      "<class 'torch.Tensor'>\n"
     ]
    },
    {
     "name": "stderr",
     "output_type": "stream",
     "text": [
      "\n",
      "2019-11-11 17:48:12,161   INFO  Load testing samples from ../data/KITTI/object/testing\n",
      "2019-11-11 17:48:12,161   INFO  Done: total test samples 10\n",
      "2019-11-11 17:48:12,218   INFO  ==> Loading from checkpoint '../trainedModel/car/rcnn/ckpt/checkpoint_epoch_6.pth'\n",
      "2019-11-11 17:48:12,244   INFO  ==> Done\n",
      "2019-11-11 17:48:12,245   INFO  ---- EPOCH 6 JOINT PREDICTION ----\n",
      "2019-11-11 17:48:12,245   INFO  ==> Output file: predicted/noaug/thre155/calib/epoch_6/pred_boxes3d/Car\n",
      "eval:  33%|███▎      | 1/3 [00:00<00:01,  1.87it/s, mode=Predicting]"
     ]
    },
    {
     "name": "stdout",
     "output_type": "stream",
     "text": [
      "<class 'torch.Tensor'>\n"
     ]
    },
    {
     "name": "stderr",
     "output_type": "stream",
     "text": [
      "eval:  67%|██████▋   | 2/3 [00:00<00:00,  2.09it/s, mode=Predicting]"
     ]
    },
    {
     "name": "stdout",
     "output_type": "stream",
     "text": [
      "<class 'torch.Tensor'>\n"
     ]
    },
    {
     "name": "stderr",
     "output_type": "stream",
     "text": [
      "eval: 100%|██████████| 3/3 [00:01<00:00,  2.64it/s, mode=Predicting]"
     ]
    },
    {
     "name": "stdout",
     "output_type": "stream",
     "text": [
      "<class 'torch.Tensor'>\n"
     ]
    },
    {
     "name": "stderr",
     "output_type": "stream",
     "text": [
      "\n",
      "2019-11-11 17:48:15,432   INFO  Load testing samples from ../data/KITTI/object/testing\n",
      "2019-11-11 17:48:15,432   INFO  Done: total test samples 10\n",
      "2019-11-11 17:48:15,488   INFO  ==> Loading from checkpoint '../trainedModel/car/rcnn/ckpt/checkpoint_epoch_6.pth'\n",
      "2019-11-11 17:48:15,515   INFO  ==> Done\n",
      "2019-11-11 17:48:15,516   INFO  ---- EPOCH 6 JOINT PREDICTION ----\n",
      "2019-11-11 17:48:15,516   INFO  ==> Output file: predicted/noaug/thre155/calib/epoch_6/pred_boxes3d/Car\n",
      "eval:  33%|███▎      | 1/3 [00:00<00:01,  1.90it/s, mode=Predicting]"
     ]
    },
    {
     "name": "stdout",
     "output_type": "stream",
     "text": [
      "<class 'torch.Tensor'>\n"
     ]
    },
    {
     "name": "stderr",
     "output_type": "stream",
     "text": [
      "eval:  67%|██████▋   | 2/3 [00:00<00:00,  2.11it/s, mode=Predicting]"
     ]
    },
    {
     "name": "stdout",
     "output_type": "stream",
     "text": [
      "<class 'torch.Tensor'>\n"
     ]
    },
    {
     "name": "stderr",
     "output_type": "stream",
     "text": [
      "eval: 100%|██████████| 3/3 [00:01<00:00,  2.59it/s, mode=Predicting]"
     ]
    },
    {
     "name": "stdout",
     "output_type": "stream",
     "text": [
      "<class 'torch.Tensor'>\n"
     ]
    },
    {
     "name": "stderr",
     "output_type": "stream",
     "text": [
      "\n",
      "2019-11-11 17:48:18,680   INFO  Load testing samples from ../data/KITTI/object/testing\n",
      "2019-11-11 17:48:18,680   INFO  Done: total test samples 10\n",
      "2019-11-11 17:48:18,737   INFO  ==> Loading from checkpoint '../trainedModel/car/rcnn/ckpt/checkpoint_epoch_6.pth'\n",
      "2019-11-11 17:48:18,764   INFO  ==> Done\n",
      "2019-11-11 17:48:18,765   INFO  ---- EPOCH 6 JOINT PREDICTION ----\n",
      "2019-11-11 17:48:18,765   INFO  ==> Output file: predicted/noaug/thre155/calib/epoch_6/pred_boxes3d/Car\n",
      "eval:  33%|███▎      | 1/3 [00:00<00:01,  1.73it/s, mode=Predicting]"
     ]
    },
    {
     "name": "stdout",
     "output_type": "stream",
     "text": [
      "<class 'torch.Tensor'>\n"
     ]
    },
    {
     "name": "stderr",
     "output_type": "stream",
     "text": [
      "eval:  67%|██████▋   | 2/3 [00:00<00:00,  1.96it/s, mode=Predicting]"
     ]
    },
    {
     "name": "stdout",
     "output_type": "stream",
     "text": [
      "<class 'torch.Tensor'>\n"
     ]
    },
    {
     "name": "stderr",
     "output_type": "stream",
     "text": [
      "eval: 100%|██████████| 3/3 [00:01<00:00,  2.52it/s, mode=Predicting]"
     ]
    },
    {
     "name": "stdout",
     "output_type": "stream",
     "text": [
      "<class 'torch.Tensor'>\n"
     ]
    },
    {
     "name": "stderr",
     "output_type": "stream",
     "text": [
      "\n",
      "2019-11-11 17:48:22,176   INFO  Load testing samples from ../data/KITTI/object/testing\n",
      "2019-11-11 17:48:22,176   INFO  Done: total test samples 10\n",
      "2019-11-11 17:48:22,235   INFO  ==> Loading from checkpoint '../trainedModel/car/rcnn/ckpt/checkpoint_epoch_6.pth'\n",
      "2019-11-11 17:48:22,266   INFO  ==> Done\n",
      "2019-11-11 17:48:22,267   INFO  ---- EPOCH 6 JOINT PREDICTION ----\n",
      "2019-11-11 17:48:22,267   INFO  ==> Output file: predicted/noaug/thre155/calib/epoch_6/pred_boxes3d/Car\n",
      "eval:  33%|███▎      | 1/3 [00:00<00:01,  1.76it/s, mode=Predicting]"
     ]
    },
    {
     "name": "stdout",
     "output_type": "stream",
     "text": [
      "<class 'torch.Tensor'>\n"
     ]
    },
    {
     "name": "stderr",
     "output_type": "stream",
     "text": [
      "eval:  67%|██████▋   | 2/3 [00:00<00:00,  1.96it/s, mode=Predicting]"
     ]
    },
    {
     "name": "stdout",
     "output_type": "stream",
     "text": [
      "<class 'torch.Tensor'>\n"
     ]
    },
    {
     "name": "stderr",
     "output_type": "stream",
     "text": [
      "eval: 100%|██████████| 3/3 [00:01<00:00,  2.49it/s, mode=Predicting]"
     ]
    },
    {
     "name": "stdout",
     "output_type": "stream",
     "text": [
      "<class 'torch.Tensor'>\n"
     ]
    },
    {
     "name": "stderr",
     "output_type": "stream",
     "text": [
      "\n",
      "2019-11-11 17:48:25,479   INFO  Load testing samples from ../data/KITTI/object/testing\n",
      "2019-11-11 17:48:25,479   INFO  Done: total test samples 10\n",
      "2019-11-11 17:48:25,538   INFO  ==> Loading from checkpoint '../trainedModel/car/rcnn/ckpt/checkpoint_epoch_6.pth'\n",
      "2019-11-11 17:48:25,568   INFO  ==> Done\n",
      "2019-11-11 17:48:25,569   INFO  ---- EPOCH 6 JOINT PREDICTION ----\n",
      "2019-11-11 17:48:25,569   INFO  ==> Output file: predicted/noaug/thre155/calib/epoch_6/pred_boxes3d/Car\n",
      "eval:  33%|███▎      | 1/3 [00:00<00:01,  1.88it/s, mode=Predicting]"
     ]
    },
    {
     "name": "stdout",
     "output_type": "stream",
     "text": [
      "<class 'torch.Tensor'>\n"
     ]
    },
    {
     "name": "stderr",
     "output_type": "stream",
     "text": [
      "eval:  67%|██████▋   | 2/3 [00:00<00:00,  2.08it/s, mode=Predicting]"
     ]
    },
    {
     "name": "stdout",
     "output_type": "stream",
     "text": [
      "<class 'torch.Tensor'>\n"
     ]
    },
    {
     "name": "stderr",
     "output_type": "stream",
     "text": [
      "eval: 100%|██████████| 3/3 [00:01<00:00,  2.61it/s, mode=Predicting]"
     ]
    },
    {
     "name": "stdout",
     "output_type": "stream",
     "text": [
      "<class 'torch.Tensor'>\n"
     ]
    },
    {
     "name": "stderr",
     "output_type": "stream",
     "text": [
      "\n"
     ]
    },
    {
     "ename": "KeyboardInterrupt",
     "evalue": "",
     "output_type": "error",
     "traceback": [
      "\u001b[0;31m---------------------------------------------------------------------------\u001b[0m",
      "\u001b[0;31mKeyboardInterrupt\u001b[0m                         Traceback (most recent call last)",
      "\u001b[0;32m<ipython-input-17-f55cb79e6176>\u001b[0m in \u001b[0;36m<module>\u001b[0;34m\u001b[0m\n\u001b[1;32m     67\u001b[0m         \u001b[0mfiles\u001b[0m \u001b[0;34m=\u001b[0m \u001b[0mglob\u001b[0m\u001b[0;34m.\u001b[0m\u001b[0mglob\u001b[0m\u001b[0;34m(\u001b[0m\u001b[0mimage_folder\u001b[0m \u001b[0;34m+\u001b[0m \u001b[0;34m'/*'\u001b[0m\u001b[0;34m)\u001b[0m\u001b[0;34m\u001b[0m\u001b[0;34m\u001b[0m\u001b[0m\n\u001b[1;32m     68\u001b[0m         \u001b[0;32mfor\u001b[0m \u001b[0mf\u001b[0m \u001b[0;32min\u001b[0m \u001b[0mfiles\u001b[0m\u001b[0;34m:\u001b[0m\u001b[0;34m\u001b[0m\u001b[0;34m\u001b[0m\u001b[0m\n\u001b[0;32m---> 69\u001b[0;31m             \u001b[0mos\u001b[0m\u001b[0;34m.\u001b[0m\u001b[0mremove\u001b[0m\u001b[0;34m(\u001b[0m\u001b[0mf\u001b[0m\u001b[0;34m)\u001b[0m\u001b[0;34m\u001b[0m\u001b[0;34m\u001b[0m\u001b[0m\n\u001b[0m\u001b[1;32m     70\u001b[0m \u001b[0;34m\u001b[0m\u001b[0m\n\u001b[1;32m     71\u001b[0m \u001b[0;34m\u001b[0m\u001b[0m\n",
      "\u001b[0;31mKeyboardInterrupt\u001b[0m: "
     ]
    }
   ],
   "source": [
    "calib_folder = \"/home/lingling/Downloads/Lyft_PointRCNN/data/KITTI/object/testing/calib/\"\n",
    "lidar_folder = '/home/lingling/Downloads/Lyft_PointRCNN/data/KITTI/object/testing/velodyne'\n",
    "image_folder = '/home/lingling/Downloads/Lyft_PointRCNN/data/KITTI/object/testing/image_2'\n",
    "testtxtfile = '/home/lingling/Downloads/Lyft_PointRCNN/data/KITTI/ImageSets/test.txt'\n",
    "\n",
    "os.makedirs(calib_folder, exist_ok=True)\n",
    "os.makedirs(lidar_folder, exist_ok=True)\n",
    "os.makedirs(image_folder, exist_ok=True)\n",
    "\n",
    "\n",
    "#os.makedirs(lidar_folder)\n",
    "\n",
    "df = pd.read_csv('sample_submission.csv')\n",
    "lyfttest_Id = df['Id']\n",
    "\n",
    "\n",
    "kitti_id = 0\n",
    "while(kitti_id < len(lyfttest_Id)):\n",
    "    \n",
    "    sample_token = lyfttest_Id[kitti_id]\n",
    "    \"\"\"\n",
    "        prepare test.txt, calibration file and the lidar files\n",
    "    \"\"\"\n",
    "    # write test.txt\n",
    "    if kitti_id % 10 == 0:\n",
    "        with open(testtxtfile, 'w') as f:\n",
    "            print(\"{:06n}\".format(kitti_id),file=f)\n",
    "    else:\n",
    "        with open(testtxtfile, 'a') as f:\n",
    "            print(\"{:06n}\".format(kitti_id),file=f)\n",
    "    \n",
    "    # write calibration file\n",
    "    write_calib(calib_folder,kitti_id)\n",
    "    \n",
    "    # extract lidar file path\n",
    "    lidar_filepath = lidar_filepath_from_id(sample_token)\n",
    "    # move lidar to path\n",
    "    lidar_savefilename = \"{:06n}\".format(kitti_id)+'.bin'\n",
    "    copyfile(lidar_filepath,os.path.join(lidar_folder, lidar_savefilename)) \n",
    "    # write image\n",
    "    write_image_from_id(image_folder,kitti_id,sample_token)\n",
    "    \n",
    "\n",
    "    \"\"\"\n",
    "        prediction part\n",
    "    \"\"\"\n",
    "    # predict every 10 files or at the last file\n",
    "    if kitti_id %10 == 9 or kitti_id ==  len(lyfttest_Id) -1:\n",
    "        # predition - arges\n",
    "        with torch.no_grad():\n",
    "\n",
    "            # create dataloader & network\n",
    "            test_loader = create_dataloader(logger)\n",
    "            model = PointRCNN(num_classes=test_loader.dataset.num_class, use_xyz=True, mode='TEST')\n",
    "            model.cuda()\n",
    "\n",
    "            load_ckpt_based_on_args(model, logger)\n",
    "\n",
    "            detect_one_epoch_joint(model, test_loader, epoch_id, root_result_dir, logger, sample_token)\n",
    "            \n",
    "            \n",
    "        \n",
    "        # remove all the lidar_files and image files\n",
    "        files = glob.glob(lidar_folder + '/*')\n",
    "        for f in files:\n",
    "            os.remove(f)\n",
    "        files = glob.glob(image_folder + '/*')\n",
    "        for f in files:\n",
    "            os.remove(f)\n",
    "    \n",
    "        \n",
    "        \n",
    "    \"\"\"\n",
    "        postprocessing\n",
    "    \"\"\"\n",
    "    \n",
    "#     #label = label_global_from_rect(sample_token,args)\n",
    "    \n",
    "    \n",
    "   \n",
    "    \n",
    "    kitti_id += 1 "
   ]
  }
 ],
 "metadata": {
  "kernelspec": {
   "display_name": "Python 3",
   "language": "python",
   "name": "python3"
  },
  "language_info": {
   "codemirror_mode": {
    "name": "ipython",
    "version": 3
   },
   "file_extension": ".py",
   "mimetype": "text/x-python",
   "name": "python",
   "nbconvert_exporter": "python",
   "pygments_lexer": "ipython3",
   "version": "3.7.5"
  },
  "toc": {
   "base_numbering": 1,
   "nav_menu": {},
   "number_sections": false,
   "sideBar": true,
   "skip_h1_title": true,
   "title_cell": "Table of Contents",
   "title_sidebar": "Contents",
   "toc_cell": false,
   "toc_position": {
    "height": "calc(100% - 180px)",
    "left": "10px",
    "top": "150px",
    "width": "288px"
   },
   "toc_section_display": true,
   "toc_window_display": true
  }
 },
 "nbformat": 4,
 "nbformat_minor": 2
}
