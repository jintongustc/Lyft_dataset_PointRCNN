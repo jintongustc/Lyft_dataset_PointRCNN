{
 "cells": [
  {
   "cell_type": "code",
   "execution_count": null,
   "metadata": {},
   "outputs": [],
   "source": [
    "#!mkdir 'kitti_images'\n",
    "\n",
    "N = len(train.Id)\n",
    "lidar_path = './'\n",
    "#print(N)\n",
    "\n",
    "for i in range(N):\n",
    "    #sample_id = train.Id[i]\n",
    "    #lidar_pointcloud = ID_to_points(sample_id)\n",
    "    cam_save_fn = \"{:06n}\".format(i)+'.png'\n",
    "    #print(lidar_save_fn)\n",
    "    # get lidar filepath\n",
    "    sample_token = train.Id[i]\n",
    "    sample = train_dataset.get(\"sample\", sample_token)\n",
    "\n",
    "    sample_cam_token = sample[\"data\"][\"CAM_FRONT_LEFT\"]\n",
    "    cam_data = train_dataset.get(\"sample_data\", sample_cam_token)\n",
    "    cam_filepath = train_dataset.get_sample_data_path(sample_cam_token)\n",
    "    cam_filepath_str = str(cam_filepath)\n",
    "    print(cam_filepath_str)\n",
    "    print('./kitti_images/'+cam_save_fn)\n",
    "    #copyfile(cam_filepath_str, './kitti_images/'+cam_save_fn)    \n",
    "    \n",
    "    im = Image.open(cam_filepath_str)\n",
    "    im.save('./kitti_images/'+cam_save_fn, \"PNG\")"
   ]
  }
 ],
 "metadata": {
  "kernelspec": {
   "display_name": "Python 3",
   "language": "python",
   "name": "python3"
  },
  "language_info": {
   "codemirror_mode": {
    "name": "ipython",
    "version": 3
   },
   "file_extension": ".py",
   "mimetype": "text/x-python",
   "name": "python",
   "nbconvert_exporter": "python",
   "pygments_lexer": "ipython3",
   "version": "3.7.5"
  },
  "toc": {
   "base_numbering": 1,
   "nav_menu": {},
   "number_sections": false,
   "sideBar": true,
   "skip_h1_title": true,
   "title_cell": "Table of Contents",
   "title_sidebar": "Contents",
   "toc_cell": false,
   "toc_position": {
    "height": "calc(100% - 180px)",
    "left": "10px",
    "top": "150px",
    "width": "320px"
   },
   "toc_section_display": true,
   "toc_window_display": true
  }
 },
 "nbformat": 4,
 "nbformat_minor": 2
}
